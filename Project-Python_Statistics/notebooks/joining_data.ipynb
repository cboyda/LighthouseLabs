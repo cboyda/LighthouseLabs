{
  "cells": [
    {
      "cell_type": "markdown",
      "metadata": {
        "id": "view-in-github",
        "colab_type": "text"
      },
      "source": [
        "<a href=\"https://colab.research.google.com/github/cboyda/LighthouseLabs/blob/main/Project_Stats_joining_data.ipynb\" target=\"_parent\"><img src=\"https://colab.research.google.com/assets/colab-badge.svg\" alt=\"Open In Colab\"/></a>"
      ]
    },
    {
      "cell_type": "code",
      "source": [
        "import pandas as pd"
      ],
      "metadata": {
        "id": "Rw8URwhpglRw"
      },
      "execution_count": 2,
      "outputs": []
    },
    {
      "cell_type": "markdown",
      "metadata": {
        "id": "VBx7aiI_gCGo"
      },
      "source": [
        "# Join the Data \n",
        "from Part 1 with the data from Part 2 to create a new dataframe."
      ]
    },
    {
      "cell_type": "code",
      "source": [
        "# how to mount google drive\n",
        "from google.colab import drive\n",
        "drive.mount('/content/drive')"
      ],
      "metadata": {
        "colab": {
          "base_uri": "https://localhost:8080/"
        },
        "id": "2plHFC2Vgd6C",
        "outputId": "00addbc1-2746-493c-be10-ff56cc62a39b"
      },
      "execution_count": 1,
      "outputs": [
        {
          "output_type": "stream",
          "name": "stdout",
          "text": [
            "Mounted at /content/drive\n"
          ]
        }
      ]
    },
    {
      "cell_type": "code",
      "execution_count": 4,
      "metadata": {
        "id": "lESmq-SOgCGt"
      },
      "outputs": [],
      "source": [
        "df_foursquare = pd.read_csv('/content/drive/MyDrive/Colab Notebooks/datasets/Project-Statistics_city_bikes_FourSquare.csv')"
      ]
    },
    {
      "cell_type": "code",
      "source": [
        "df_yelp = pd.read_csv('/content/drive/MyDrive/Colab Notebooks/datasets/Project-Statistics_city_bikes_yelp.csv')"
      ],
      "metadata": {
        "id": "coKnWuS4grft"
      },
      "execution_count": 5,
      "outputs": []
    },
    {
      "cell_type": "code",
      "source": [
        "merged_df = df_foursquare.merge(df_yelp, on=['city', 'station_name','latitude', 'longitude','empty_slots','slots','free_bikes','ebikes'])"
      ],
      "metadata": {
        "id": "L-VaSQI2hUvS"
      },
      "execution_count": 9,
      "outputs": []
    },
    {
      "cell_type": "code",
      "source": [
        "merged_df"
      ],
      "metadata": {
        "colab": {
          "base_uri": "https://localhost:8080/",
          "height": 591
        },
        "id": "Fpeyjyj5hfzf",
        "outputId": "d3114722-38bb-46cc-f34b-a7a54dac6f3b"
      },
      "execution_count": 10,
      "outputs": [
        {
          "output_type": "execute_result",
          "data": {
            "text/plain": [
              "          city                 station_name  empty_slots  slots  free_bikes  \\\n",
              "0    Vancouver                10th & Cambie           22     35          13   \n",
              "1    Vancouver  Yaletown-Roundhouse Station            6     16          10   \n",
              "2    Vancouver            Dunsmuir & Beatty           23     26           3   \n",
              "3    Vancouver     12th & Yukon (City Hall)           14     16           2   \n",
              "4    Vancouver                    8th & Ash           15     16           1   \n",
              "..         ...                          ...          ...    ...         ...   \n",
              "237  Vancouver               Burrard & 14th           12     18           4   \n",
              "238  Vancouver               Hornby & Drake           19     24           5   \n",
              "239  Vancouver           Cardero & Bayshore            2     20          16   \n",
              "240  Vancouver                  27th & Main           13     22           9   \n",
              "241  Vancouver          Cordova & Granville            7     18          10   \n",
              "\n",
              "     ebikes   latitude   longitude         station_location  location_count  \\\n",
              "0         4  49.262487 -123.114397    49.262487,-123.114397               0   \n",
              "1         0  49.274566 -123.121817    49.274566,-123.121817               0   \n",
              "2         1  49.279764 -123.110154    49.279764,-123.110154               0   \n",
              "3         2  49.260599 -123.113504    49.260599,-123.113504               0   \n",
              "4         0  49.264215 -123.117772    49.264215,-123.117772               0   \n",
              "..      ...        ...         ...                      ...             ...   \n",
              "237       4  49.259469 -123.145718    49.259469,-123.145718               0   \n",
              "238       2  49.277178 -123.130000        49.277178,-123.13               0   \n",
              "239       1  49.291597 -123.129158    49.291597,-123.129158               0   \n",
              "240       7  49.247204 -123.101549    49.247204,-123.101549               0   \n",
              "241       0  49.285670 -123.112543  49.2856698,-123.1125432               0   \n",
              "\n",
              "     yelp_location_count  yelp_review_count  \n",
              "0                      8                 42  \n",
              "1                     14                 94  \n",
              "2                     10                 61  \n",
              "3                     10                 49  \n",
              "4                      9                 69  \n",
              "..                   ...                ...  \n",
              "237                    8                 15  \n",
              "238                   13                176  \n",
              "239                   12               1251  \n",
              "240                    6                173  \n",
              "241                    8                 69  \n",
              "\n",
              "[242 rows x 12 columns]"
            ],
            "text/html": [
              "\n",
              "  <div id=\"df-f95a27f1-0a8d-4d21-b816-4056a8fcdf74\">\n",
              "    <div class=\"colab-df-container\">\n",
              "      <div>\n",
              "<style scoped>\n",
              "    .dataframe tbody tr th:only-of-type {\n",
              "        vertical-align: middle;\n",
              "    }\n",
              "\n",
              "    .dataframe tbody tr th {\n",
              "        vertical-align: top;\n",
              "    }\n",
              "\n",
              "    .dataframe thead th {\n",
              "        text-align: right;\n",
              "    }\n",
              "</style>\n",
              "<table border=\"1\" class=\"dataframe\">\n",
              "  <thead>\n",
              "    <tr style=\"text-align: right;\">\n",
              "      <th></th>\n",
              "      <th>city</th>\n",
              "      <th>station_name</th>\n",
              "      <th>empty_slots</th>\n",
              "      <th>slots</th>\n",
              "      <th>free_bikes</th>\n",
              "      <th>ebikes</th>\n",
              "      <th>latitude</th>\n",
              "      <th>longitude</th>\n",
              "      <th>station_location</th>\n",
              "      <th>location_count</th>\n",
              "      <th>yelp_location_count</th>\n",
              "      <th>yelp_review_count</th>\n",
              "    </tr>\n",
              "  </thead>\n",
              "  <tbody>\n",
              "    <tr>\n",
              "      <th>0</th>\n",
              "      <td>Vancouver</td>\n",
              "      <td>10th &amp; Cambie</td>\n",
              "      <td>22</td>\n",
              "      <td>35</td>\n",
              "      <td>13</td>\n",
              "      <td>4</td>\n",
              "      <td>49.262487</td>\n",
              "      <td>-123.114397</td>\n",
              "      <td>49.262487,-123.114397</td>\n",
              "      <td>0</td>\n",
              "      <td>8</td>\n",
              "      <td>42</td>\n",
              "    </tr>\n",
              "    <tr>\n",
              "      <th>1</th>\n",
              "      <td>Vancouver</td>\n",
              "      <td>Yaletown-Roundhouse Station</td>\n",
              "      <td>6</td>\n",
              "      <td>16</td>\n",
              "      <td>10</td>\n",
              "      <td>0</td>\n",
              "      <td>49.274566</td>\n",
              "      <td>-123.121817</td>\n",
              "      <td>49.274566,-123.121817</td>\n",
              "      <td>0</td>\n",
              "      <td>14</td>\n",
              "      <td>94</td>\n",
              "    </tr>\n",
              "    <tr>\n",
              "      <th>2</th>\n",
              "      <td>Vancouver</td>\n",
              "      <td>Dunsmuir &amp; Beatty</td>\n",
              "      <td>23</td>\n",
              "      <td>26</td>\n",
              "      <td>3</td>\n",
              "      <td>1</td>\n",
              "      <td>49.279764</td>\n",
              "      <td>-123.110154</td>\n",
              "      <td>49.279764,-123.110154</td>\n",
              "      <td>0</td>\n",
              "      <td>10</td>\n",
              "      <td>61</td>\n",
              "    </tr>\n",
              "    <tr>\n",
              "      <th>3</th>\n",
              "      <td>Vancouver</td>\n",
              "      <td>12th &amp; Yukon (City Hall)</td>\n",
              "      <td>14</td>\n",
              "      <td>16</td>\n",
              "      <td>2</td>\n",
              "      <td>2</td>\n",
              "      <td>49.260599</td>\n",
              "      <td>-123.113504</td>\n",
              "      <td>49.260599,-123.113504</td>\n",
              "      <td>0</td>\n",
              "      <td>10</td>\n",
              "      <td>49</td>\n",
              "    </tr>\n",
              "    <tr>\n",
              "      <th>4</th>\n",
              "      <td>Vancouver</td>\n",
              "      <td>8th &amp; Ash</td>\n",
              "      <td>15</td>\n",
              "      <td>16</td>\n",
              "      <td>1</td>\n",
              "      <td>0</td>\n",
              "      <td>49.264215</td>\n",
              "      <td>-123.117772</td>\n",
              "      <td>49.264215,-123.117772</td>\n",
              "      <td>0</td>\n",
              "      <td>9</td>\n",
              "      <td>69</td>\n",
              "    </tr>\n",
              "    <tr>\n",
              "      <th>...</th>\n",
              "      <td>...</td>\n",
              "      <td>...</td>\n",
              "      <td>...</td>\n",
              "      <td>...</td>\n",
              "      <td>...</td>\n",
              "      <td>...</td>\n",
              "      <td>...</td>\n",
              "      <td>...</td>\n",
              "      <td>...</td>\n",
              "      <td>...</td>\n",
              "      <td>...</td>\n",
              "      <td>...</td>\n",
              "    </tr>\n",
              "    <tr>\n",
              "      <th>237</th>\n",
              "      <td>Vancouver</td>\n",
              "      <td>Burrard &amp; 14th</td>\n",
              "      <td>12</td>\n",
              "      <td>18</td>\n",
              "      <td>4</td>\n",
              "      <td>4</td>\n",
              "      <td>49.259469</td>\n",
              "      <td>-123.145718</td>\n",
              "      <td>49.259469,-123.145718</td>\n",
              "      <td>0</td>\n",
              "      <td>8</td>\n",
              "      <td>15</td>\n",
              "    </tr>\n",
              "    <tr>\n",
              "      <th>238</th>\n",
              "      <td>Vancouver</td>\n",
              "      <td>Hornby &amp; Drake</td>\n",
              "      <td>19</td>\n",
              "      <td>24</td>\n",
              "      <td>5</td>\n",
              "      <td>2</td>\n",
              "      <td>49.277178</td>\n",
              "      <td>-123.130000</td>\n",
              "      <td>49.277178,-123.13</td>\n",
              "      <td>0</td>\n",
              "      <td>13</td>\n",
              "      <td>176</td>\n",
              "    </tr>\n",
              "    <tr>\n",
              "      <th>239</th>\n",
              "      <td>Vancouver</td>\n",
              "      <td>Cardero &amp; Bayshore</td>\n",
              "      <td>2</td>\n",
              "      <td>20</td>\n",
              "      <td>16</td>\n",
              "      <td>1</td>\n",
              "      <td>49.291597</td>\n",
              "      <td>-123.129158</td>\n",
              "      <td>49.291597,-123.129158</td>\n",
              "      <td>0</td>\n",
              "      <td>12</td>\n",
              "      <td>1251</td>\n",
              "    </tr>\n",
              "    <tr>\n",
              "      <th>240</th>\n",
              "      <td>Vancouver</td>\n",
              "      <td>27th &amp; Main</td>\n",
              "      <td>13</td>\n",
              "      <td>22</td>\n",
              "      <td>9</td>\n",
              "      <td>7</td>\n",
              "      <td>49.247204</td>\n",
              "      <td>-123.101549</td>\n",
              "      <td>49.247204,-123.101549</td>\n",
              "      <td>0</td>\n",
              "      <td>6</td>\n",
              "      <td>173</td>\n",
              "    </tr>\n",
              "    <tr>\n",
              "      <th>241</th>\n",
              "      <td>Vancouver</td>\n",
              "      <td>Cordova &amp; Granville</td>\n",
              "      <td>7</td>\n",
              "      <td>18</td>\n",
              "      <td>10</td>\n",
              "      <td>0</td>\n",
              "      <td>49.285670</td>\n",
              "      <td>-123.112543</td>\n",
              "      <td>49.2856698,-123.1125432</td>\n",
              "      <td>0</td>\n",
              "      <td>8</td>\n",
              "      <td>69</td>\n",
              "    </tr>\n",
              "  </tbody>\n",
              "</table>\n",
              "<p>242 rows × 12 columns</p>\n",
              "</div>\n",
              "      <button class=\"colab-df-convert\" onclick=\"convertToInteractive('df-f95a27f1-0a8d-4d21-b816-4056a8fcdf74')\"\n",
              "              title=\"Convert this dataframe to an interactive table.\"\n",
              "              style=\"display:none;\">\n",
              "        \n",
              "  <svg xmlns=\"http://www.w3.org/2000/svg\" height=\"24px\"viewBox=\"0 0 24 24\"\n",
              "       width=\"24px\">\n",
              "    <path d=\"M0 0h24v24H0V0z\" fill=\"none\"/>\n",
              "    <path d=\"M18.56 5.44l.94 2.06.94-2.06 2.06-.94-2.06-.94-.94-2.06-.94 2.06-2.06.94zm-11 1L8.5 8.5l.94-2.06 2.06-.94-2.06-.94L8.5 2.5l-.94 2.06-2.06.94zm10 10l.94 2.06.94-2.06 2.06-.94-2.06-.94-.94-2.06-.94 2.06-2.06.94z\"/><path d=\"M17.41 7.96l-1.37-1.37c-.4-.4-.92-.59-1.43-.59-.52 0-1.04.2-1.43.59L10.3 9.45l-7.72 7.72c-.78.78-.78 2.05 0 2.83L4 21.41c.39.39.9.59 1.41.59.51 0 1.02-.2 1.41-.59l7.78-7.78 2.81-2.81c.8-.78.8-2.07 0-2.86zM5.41 20L4 18.59l7.72-7.72 1.47 1.35L5.41 20z\"/>\n",
              "  </svg>\n",
              "      </button>\n",
              "      \n",
              "  <style>\n",
              "    .colab-df-container {\n",
              "      display:flex;\n",
              "      flex-wrap:wrap;\n",
              "      gap: 12px;\n",
              "    }\n",
              "\n",
              "    .colab-df-convert {\n",
              "      background-color: #E8F0FE;\n",
              "      border: none;\n",
              "      border-radius: 50%;\n",
              "      cursor: pointer;\n",
              "      display: none;\n",
              "      fill: #1967D2;\n",
              "      height: 32px;\n",
              "      padding: 0 0 0 0;\n",
              "      width: 32px;\n",
              "    }\n",
              "\n",
              "    .colab-df-convert:hover {\n",
              "      background-color: #E2EBFA;\n",
              "      box-shadow: 0px 1px 2px rgba(60, 64, 67, 0.3), 0px 1px 3px 1px rgba(60, 64, 67, 0.15);\n",
              "      fill: #174EA6;\n",
              "    }\n",
              "\n",
              "    [theme=dark] .colab-df-convert {\n",
              "      background-color: #3B4455;\n",
              "      fill: #D2E3FC;\n",
              "    }\n",
              "\n",
              "    [theme=dark] .colab-df-convert:hover {\n",
              "      background-color: #434B5C;\n",
              "      box-shadow: 0px 1px 3px 1px rgba(0, 0, 0, 0.15);\n",
              "      filter: drop-shadow(0px 1px 2px rgba(0, 0, 0, 0.3));\n",
              "      fill: #FFFFFF;\n",
              "    }\n",
              "  </style>\n",
              "\n",
              "      <script>\n",
              "        const buttonEl =\n",
              "          document.querySelector('#df-f95a27f1-0a8d-4d21-b816-4056a8fcdf74 button.colab-df-convert');\n",
              "        buttonEl.style.display =\n",
              "          google.colab.kernel.accessAllowed ? 'block' : 'none';\n",
              "\n",
              "        async function convertToInteractive(key) {\n",
              "          const element = document.querySelector('#df-f95a27f1-0a8d-4d21-b816-4056a8fcdf74');\n",
              "          const dataTable =\n",
              "            await google.colab.kernel.invokeFunction('convertToInteractive',\n",
              "                                                     [key], {});\n",
              "          if (!dataTable) return;\n",
              "\n",
              "          const docLinkHtml = 'Like what you see? Visit the ' +\n",
              "            '<a target=\"_blank\" href=https://colab.research.google.com/notebooks/data_table.ipynb>data table notebook</a>'\n",
              "            + ' to learn more about interactive tables.';\n",
              "          element.innerHTML = '';\n",
              "          dataTable['output_type'] = 'display_data';\n",
              "          await google.colab.output.renderOutput(dataTable, element);\n",
              "          const docLink = document.createElement('div');\n",
              "          docLink.innerHTML = docLinkHtml;\n",
              "          element.appendChild(docLink);\n",
              "        }\n",
              "      </script>\n",
              "    </div>\n",
              "  </div>\n",
              "  "
            ]
          },
          "metadata": {},
          "execution_count": 10
        }
      ]
    },
    {
      "cell_type": "code",
      "source": [
        "df = merged_df.copy()"
      ],
      "metadata": {
        "id": "6pRYXo1ijIZF"
      },
      "execution_count": 12,
      "outputs": []
    },
    {
      "cell_type": "markdown",
      "metadata": {
        "id": "LTQqpxb6gCGv"
      },
      "source": [
        "Provide a visualization that you used as part of your EDA process. Explain the initial pattern or relationship you discoved through this visualization. "
      ]
    },
    {
      "cell_type": "code",
      "execution_count": 14,
      "metadata": {
        "colab": {
          "base_uri": "https://localhost:8080/",
          "height": 334
        },
        "id": "PrRWHSalgCGv",
        "outputId": "b2dbba5c-10ac-4c5a-934a-7f6ea4f19815"
      },
      "outputs": [
        {
          "output_type": "display_data",
          "data": {
            "text/plain": [
              "<Figure size 2000x2000 with 12 Axes>"
            ],
            "image/png": "[encoded data removed]"
          },
          "metadata": {}
        }
      ],
      "source": [
        "import matplotlib.pyplot as plt\n",
        "\n",
        "# graph the data to visualize\n",
        "def draw_histograms(dataframe, features, rows, cols):\n",
        "    fig=plt.figure(figsize=(20,20))\n",
        "    for i, feature in enumerate(features):\n",
        "        ax=fig.add_subplot(rows,cols,i+1)\n",
        "        dataframe[feature].hist(bins=20,ax=ax,facecolor='midnightblue')\n",
        "        ax.set_title(feature+\" Distribution\",color='DarkRed')\n",
        "        ax.set_yscale('log')\n",
        "    fig.tight_layout()  \n",
        "    plt.show()\n",
        "draw_histograms(df,df.columns,8,4)"
      ]
    },
    {
      "cell_type": "code",
      "source": [
        "# checking for correct datatypes\n",
        "df.dtypes"
      ],
      "metadata": {
        "colab": {
          "base_uri": "https://localhost:8080/"
        },
        "id": "tVJkJRgXjniz",
        "outputId": "510c9999-38e5-4120-ad7c-c5e69920f7b5"
      },
      "execution_count": 45,
      "outputs": [
        {
          "output_type": "execute_result",
          "data": {
            "text/plain": [
              "city                    object\n",
              "station_name            object\n",
              "empty_slots              int64\n",
              "slots                    int64\n",
              "free_bikes               int64\n",
              "ebikes                   int64\n",
              "latitude               float64\n",
              "longitude              float64\n",
              "station_location        object\n",
              "location_count           int64\n",
              "yelp_location_count      int64\n",
              "yelp_review_count        int64\n",
              "dtype: object"
            ]
          },
          "metadata": {},
          "execution_count": 45
        }
      ]
    },
    {
      "cell_type": "code",
      "source": [
        "import numpy as np\n",
        "\n",
        "# define numberical columns\n",
        "# Assuming your DataFrame is named 'df'\n",
        "numeric_cols = df.select_dtypes(include=[np.number]).columns.tolist()\n",
        "numeric_cols"
      ],
      "metadata": {
        "colab": {
          "base_uri": "https://localhost:8080/"
        },
        "id": "ITi68C6tmOuf",
        "outputId": "9a08d2db-cbfc-41c4-a60c-45746ea2c5a4"
      },
      "execution_count": 29,
      "outputs": [
        {
          "output_type": "execute_result",
          "data": {
            "text/plain": [
              "['empty_slots',\n",
              " 'slots',\n",
              " 'free_bikes',\n",
              " 'ebikes',\n",
              " 'latitude',\n",
              " 'longitude',\n",
              " 'location_count',\n",
              " 'yelp_location_count',\n",
              " 'yelp_review_count']"
            ]
          },
          "metadata": {},
          "execution_count": 29
        }
      ]
    },
    {
      "cell_type": "code",
      "source": [
        "# look at counts in each column\n",
        "df[numeric_cols].value_counts()"
      ],
      "metadata": {
        "colab": {
          "base_uri": "https://localhost:8080/"
        },
        "id": "00n81Bx3jh8N",
        "outputId": "508dca4e-4c9b-4703-c465-0b4297e6c01d"
      },
      "execution_count": 30,
      "outputs": [
        {
          "output_type": "execute_result",
          "data": {
            "text/plain": [
              "empty_slots  slots  free_bikes  ebikes  latitude   longitude    location_count  yelp_location_count  yelp_review_count\n",
              "0            0      0           0       49.312568  -123.144177  1               2                    21                   1\n",
              "14           18     4           0       49.285575  -123.061575  1               3                    4                    1\n",
              "12           18     5           0       49.288011  -123.132006  0               12                   255                  1\n",
              "                    6           1       49.263518  -123.095680  0               10                   48                   1\n",
              "                                4       49.262242  -123.081459  0               6                    17                   1\n",
              "                                                                                                                         ..\n",
              "8            16     8           0       49.266774  -123.141135  0               10                   101                  1\n",
              "                                        49.267859  -123.145782  0               10                   91                   1\n",
              "                                3       49.266725  -123.065925  0               7                    19                   1\n",
              "             18     9           3       49.285512  -123.138400  0               9                    139                  1\n",
              "36           40     4           0       49.257654  -123.153212  1               7                    11                   1\n",
              "Length: 242, dtype: int64"
            ]
          },
          "metadata": {},
          "execution_count": 30
        }
      ]
    },
    {
      "cell_type": "code",
      "source": [
        "# any nulls?\n",
        "df.isnull().any(axis=1).any()\n",
        "# list them df[df.isnull().any(axis=1)]"
      ],
      "metadata": {
        "colab": {
          "base_uri": "https://localhost:8080/"
        },
        "id": "rcMwft3FkOtH",
        "outputId": "553aee4e-b2c7-4337-d32f-a9bb96817d4b"
      },
      "execution_count": 44,
      "outputs": [
        {
          "output_type": "execute_result",
          "data": {
            "text/plain": [
              "False"
            ]
          },
          "metadata": {},
          "execution_count": 44
        }
      ]
    },
    {
      "cell_type": "code",
      "source": [
        "# any duplicates?\n",
        "df.duplicated().any()"
      ],
      "metadata": {
        "colab": {
          "base_uri": "https://localhost:8080/"
        },
        "id": "ZEvmtjCflB_e",
        "outputId": "e64680cf-c8c4-4bbe-b2f9-c4fc15c9475a"
      },
      "execution_count": 25,
      "outputs": [
        {
          "output_type": "execute_result",
          "data": {
            "text/plain": [
              "False"
            ]
          },
          "metadata": {},
          "execution_count": 25
        }
      ]
    },
    {
      "cell_type": "code",
      "source": [
        "import plotly.express as px\n",
        "\n",
        "#for feature in numerical_features:\n",
        "for feature in numeric_cols:\n",
        "  fig = px.histogram(df, x=feature, marginal=\"box\")\n",
        "  fig.show()"
      ],
      "metadata": {
        "colab": {
          "base_uri": "https://localhost:8080/",
          "height": 1000
        },
        "id": "GU0_fvM4lRKf",
        "outputId": "96f06ea1-d3e6-4e40-c5d5-8c1bba346d72"
      },
      "execution_count": 31,
      "outputs": [
        {
          "output_type": "display_data",
          "data": {
            "text/html": [
              "<html>\n",
              "<head><meta charset=\"utf-8\" /></head>\n",
              "<body>\n",
              "    <div>            <script src=\"https://cdnjs.cloudflare.com/ajax/libs/mathjax/2.7.5/MathJax.js?config=TeX-AMS-MML_SVG\"></script><script type=\"text/javascript\">if (window.MathJax && window.MathJax.Hub && window.MathJax.Hub.Config) {window.MathJax.Hub.Config({SVG: {font: \"STIX-Web\"}});}</script>                <script type=\"text/javascript\">window.PlotlyConfig = {MathJaxConfig: 'local'};</script>\n",
              "        <script src=\"https://cdn.plot.ly/plotly-2.18.2.min.js\"></script>                <div id=\"d4d0bae2-ef0f-4b75-9055-e7dc4002541f\" class=\"plotly-graph-div\" style=\"height:525px; width:100%;\"></div>            <script type=\"text/javascript\">                                    window.PLOTLYENV=window.PLOTLYENV || {};                                    if (document.getElementById(\"d4d0bae2-ef0f-4b75-9055-e7dc4002541f\")) {                    Plotly.newPlot(                        \"d4d0bae2-ef0f-4b75-9055-e7dc4002541f\",                        [{\"alignmentgroup\":\"True\",\"bingroup\":\"x\",\"hovertemplate\":\"empty_slots=%{x}<br>count=%{y}<extra></extra>\",\"legendgroup\":\"\",\"marker\":{\"color\":\"#636efa\",\"pattern\":{\"shape\":\"\"}},\"name\":\"\",\"offsetgroup\":\"\",\"orientation\":\"v\",\"showlegend\":false,\"x\":[22,6,23,14,15,2,7,0,13,16,14,12,22,20,19,16,10,9,3,9,17,15,9,8,11,15,15,1,0,8,2,12,23,5,6,23,11,7,13,11,1,13,0,3,18,17,13,13,6,9,12,2,24,6,5,7,12,17,16,17,7,8,20,36,6,10,12,1,11,12,9,10,5,5,8,14,4,9,1,2,18,8,14,5,14,7,9,12,1,15,1,12,12,7,10,1,2,6,7,7,17,6,14,14,14,9,0,9,8,5,6,11,13,12,6,3,17,3,12,14,10,14,16,5,12,4,7,3,11,7,13,10,13,10,11,14,6,12,11,8,12,15,6,8,3,2,4,12,12,14,32,3,12,2,17,9,7,9,11,19,4,20,14,0,3,17,7,12,8,18,4,9,16,11,8,0,17,10,12,12,18,16,15,6,16,11,7,16,11,9,6,17,17,4,3,15,5,10,13,10,4,2,10,19,14,12,10,14,10,6,8,14,13,2,12,10,12,8,10,12,6,10,15,8,2,18,6,10,11,14,4,14,13,15,12,3,19,12,19,2,13,7],\"xaxis\":\"x\",\"yaxis\":\"y\",\"type\":\"histogram\"},{\"alignmentgroup\":\"True\",\"hovertemplate\":\"empty_slots=%{x}<extra></extra>\",\"legendgroup\":\"\",\"marker\":{\"color\":\"#636efa\"},\"name\":\"\",\"notched\":true,\"offsetgroup\":\"\",\"showlegend\":false,\"x\":[22,6,23,14,15,2,7,0,13,16,14,12,22,20,19,16,10,9,3,9,17,15,9,8,11,15,15,1,0,8,2,12,23,5,6,23,11,7,13,11,1,13,0,3,18,17,13,13,6,9,12,2,24,6,5,7,12,17,16,17,7,8,20,36,6,10,12,1,11,12,9,10,5,5,8,14,4,9,1,2,18,8,14,5,14,7,9,12,1,15,1,12,12,7,10,1,2,6,7,7,17,6,14,14,14,9,0,9,8,5,6,11,13,12,6,3,17,3,12,14,10,14,16,5,12,4,7,3,11,7,13,10,13,10,11,14,6,12,11,8,12,15,6,8,3,2,4,12,12,14,32,3,12,2,17,9,7,9,11,19,4,20,14,0,3,17,7,12,8,18,4,9,16,11,8,0,17,10,12,12,18,16,15,6,16,11,7,16,11,9,6,17,17,4,3,15,5,10,13,10,4,2,10,19,14,12,10,14,10,6,8,14,13,2,12,10,12,8,10,12,6,10,15,8,2,18,6,10,11,14,4,14,13,15,12,3,19,12,19,2,13,7],\"xaxis\":\"x2\",\"yaxis\":\"y2\",\"type\":\"box\"}],                        {\"template\":{\"data\":{\"histogram2dcontour\":[{\"type\":\"histogram2dcontour\",\"colorbar\":{\"outlinewidth\":0,\"ticks\":\"\"},\"colorscale\":[[0.0,\"#0d0887\"],[0.1111111111111111,\"#46039f\"],[0.2222222222222222,\"#7201a8\"],[0.3333333333333333,\"#9c179e\"],[0.4444444444444444,\"#bd3786\"],[0.5555555555555556,\"#d8576b\"],[0.6666666666666666,\"#ed7953\"],[0.7777777777777778,\"#fb9f3a\"],[0.8888888888888888,\"#fdca26\"],[1.0,\"#f0f921\"]]}],\"choropleth\":[{\"type\":\"choropleth\",\"colorbar\":{\"outlinewidth\":0,\"ticks\":\"\"}}],\"histogram2d\":[{\"type\":\"histogram2d\",\"colorbar\":{\"outlinewidth\":0,\"ticks\":\"\"},\"colorscale\":[[0.0,\"#0d0887\"],[0.1111111111111111,\"#46039f\"],[0.2222222222222222,\"#7201a8\"],[0.3333333333333333,\"#9c179e\"],[0.4444444444444444,\"#bd3786\"],[0.5555555555555556,\"#d8576b\"],[0.6666666666666666,\"#ed7953\"],[0.7777777777777778,\"#fb9f3a\"],[0.8888888888888888,\"#fdca26\"],[1.0,\"#f0f921\"]]}],\"heatmap\":[{\"type\":\"heatmap\",\"colorbar\":{\"outlinewidth\":0,\"ticks\":\"\"},\"colorscale\":[[0.0,\"#0d0887\"],[0.1111111111111111,\"#46039f\"],[0.2222222222222222,\"#7201a8\"],[0.3333333333333333,\"#9c179e\"],[0.4444444444444444,\"#bd3786\"],[0.5555555555555556,\"#d8576b\"],[0.6666666666666666,\"#ed7953\"],[0.7777777777777778,\"#fb9f3a\"],[0.8888888888888888,\"#fdca26\"],[1.0,\"#f0f921\"]]}],\"heatmapgl\":[{\"type\":\"heatmapgl\",\"colorbar\":{\"outlinewidth\":0,\"ticks\":\"\"},\"colorscale\":[[0.0,\"#0d0887\"],[0.1111111111111111,\"#46039f\"],[0.2222222222222222,\"#7201a8\"],[0.3333333333333333,\"#9c179e\"],[0.4444444444444444,\"#bd3786\"],[0.5555555555555556,\"#d8576b\"],[0.6666666666666666,\"#ed7953\"],[0.7777777777777778,\"#fb9f3a\"],[0.8888888888888888,\"#fdca26\"],[1.0,\"#f0f921\"]]}],\"contourcarpet\":[{\"type\":\"contourcarpet\",\"colorbar\":{\"outlinewidth\":0,\"ticks\":\"\"}}],\"contour\":[{\"type\":\"contour\",\"colorbar\":{\"outlinewidth\":0,\"ticks\":\"\"},\"colorscale\":[[0.0,\"#0d0887\"],[0.1111111111111111,\"#46039f\"],[0.2222222222222222,\"#7201a8\"],[0.3333333333333333,\"#9c179e\"],[0.4444444444444444,\"#bd3786\"],[0.5555555555555556,\"#d8576b\"],[0.6666666666666666,\"#ed7953\"],[0.7777777777777778,\"#fb9f3a\"],[0.8888888888888888,\"#fdca26\"],[1.0,\"#f0f921\"]]}],\"surface\":[{\"type\":\"surface\",\"colorbar\":{\"outlinewidth\":0,\"ticks\":\"\"},\"colorscale\":[[0.0,\"#0d0887\"],[0.1111111111111111,\"#46039f\"],[0.2222222222222222,\"#7201a8\"],[0.3333333333333333,\"#9c179e\"],[0.4444444444444444,\"#bd3786\"],[0.5555555555555556,\"#d8576b\"],[0.6666666666666666,\"#ed7953\"],[0.7777777777777778,\"#fb9f3a\"],[0.8888888888888888,\"#fdca26\"],[1.0,\"#f0f921\"]]}],\"mesh3d\":[{\"type\":\"mesh3d\",\"colorbar\":{\"outlinewidth\":0,\"ticks\":\"\"}}],\"scatter\":[{\"fillpattern\":{\"fillmode\":\"overlay\",\"size\":10,\"solidity\":0.2},\"type\":\"scatter\"}],\"parcoords\":[{\"type\":\"parcoords\",\"line\":{\"colorbar\":{\"outlinewidth\":0,\"ticks\":\"\"}}}],\"scatterpolargl\":[{\"type\":\"scatterpolargl\",\"marker\":{\"colorbar\":{\"outlinewidth\":0,\"ticks\":\"\"}}}],\"bar\":[{\"error_x\":{\"color\":\"#2a3f5f\"},\"error_y\":{\"color\":\"#2a3f5f\"},\"marker\":{\"line\":{\"color\":\"#E5ECF6\",\"width\":0.5},\"pattern\":{\"fillmode\":\"overlay\",\"size\":10,\"solidity\":0.2}},\"type\":\"bar\"}],\"scattergeo\":[{\"type\":\"scattergeo\",\"marker\":{\"colorbar\":{\"outlinewidth\":0,\"ticks\":\"\"}}}],\"scatterpolar\":[{\"type\":\"scatterpolar\",\"marker\":{\"colorbar\":{\"outlinewidth\":0,\"ticks\":\"\"}}}],\"histogram\":[{\"marker\":{\"pattern\":{\"fillmode\":\"overlay\",\"size\":10,\"solidity\":0.2}},\"type\":\"histogram\"}],\"scattergl\":[{\"type\":\"scattergl\",\"marker\":{\"colorbar\":{\"outlinewidth\":0,\"ticks\":\"\"}}}],\"scatter3d\":[{\"type\":\"scatter3d\",\"line\":{\"colorbar\":{\"outlinewidth\":0,\"ticks\":\"\"}},\"marker\":{\"colorbar\":{\"outlinewidth\":0,\"ticks\":\"\"}}}],\"scattermapbox\":[{\"type\":\"scattermapbox\",\"marker\":{\"colorbar\":{\"outlinewidth\":0,\"ticks\":\"\"}}}],\"scatterternary\":[{\"type\":\"scatterternary\",\"marker\":{\"colorbar\":{\"outlinewidth\":0,\"ticks\":\"\"}}}],\"scattercarpet\":[{\"type\":\"scattercarpet\",\"marker\":{\"colorbar\":{\"outlinewidth\":0,\"ticks\":\"\"}}}],\"carpet\":[{\"aaxis\":{\"endlinecolor\":\"#2a3f5f\",\"gridcolor\":\"white\",\"linecolor\":\"white\",\"minorgridcolor\":\"white\",\"startlinecolor\":\"#2a3f5f\"},\"baxis\":{\"endlinecolor\":\"#2a3f5f\",\"gridcolor\":\"white\",\"linecolor\":\"white\",\"minorgridcolor\":\"white\",\"startlinecolor\":\"#2a3f5f\"},\"type\":\"carpet\"}],\"table\":[{\"cells\":{\"fill\":{\"color\":\"#EBF0F8\"},\"line\":{\"color\":\"white\"}},\"header\":{\"fill\":{\"color\":\"#C8D4E3\"},\"line\":{\"color\":\"white\"}},\"type\":\"table\"}],\"barpolar\":[{\"marker\":{\"line\":{\"color\":\"#E5ECF6\",\"width\":0.5},\"pattern\":{\"fillmode\":\"overlay\",\"size\":10,\"solidity\":0.2}},\"type\":\"barpolar\"}],\"pie\":[{\"automargin\":true,\"type\":\"pie\"}]},\"layout\":{\"autotypenumbers\":\"strict\",\"colorway\":[\"#636efa\",\"#EF553B\",\"#00cc96\",\"#ab63fa\",\"#FFA15A\",\"#19d3f3\",\"#FF6692\",\"#B6E880\",\"#FF97FF\",\"#FECB52\"],\"font\":{\"color\":\"#2a3f5f\"},\"hovermode\":\"closest\",\"hoverlabel\":{\"align\":\"left\"},\"paper_bgcolor\":\"white\",\"plot_bgcolor\":\"#E5ECF6\",\"polar\":{\"bgcolor\":\"#E5ECF6\",\"angularaxis\":{\"gridcolor\":\"white\",\"linecolor\":\"white\",\"ticks\":\"\"},\"radialaxis\":{\"gridcolor\":\"white\",\"linecolor\":\"white\",\"ticks\":\"\"}},\"ternary\":{\"bgcolor\":\"#E5ECF6\",\"aaxis\":{\"gridcolor\":\"white\",\"linecolor\":\"white\",\"ticks\":\"\"},\"baxis\":{\"gridcolor\":\"white\",\"linecolor\":\"white\",\"ticks\":\"\"},\"caxis\":{\"gridcolor\":\"white\",\"linecolor\":\"white\",\"ticks\":\"\"}},\"coloraxis\":{\"colorbar\":{\"outlinewidth\":0,\"ticks\":\"\"}},\"colorscale\":{\"sequential\":[[0.0,\"#0d0887\"],[0.1111111111111111,\"#46039f\"],[0.2222222222222222,\"#7201a8\"],[0.3333333333333333,\"#9c179e\"],[0.4444444444444444,\"#bd3786\"],[0.5555555555555556,\"#d8576b\"],[0.6666666666666666,\"#ed7953\"],[0.7777777777777778,\"#fb9f3a\"],[0.8888888888888888,\"#fdca26\"],[1.0,\"#f0f921\"]],\"sequentialminus\":[[0.0,\"#0d0887\"],[0.1111111111111111,\"#46039f\"],[0.2222222222222222,\"#7201a8\"],[0.3333333333333333,\"#9c179e\"],[0.4444444444444444,\"#bd3786\"],[0.5555555555555556,\"#d8576b\"],[0.6666666666666666,\"#ed7953\"],[0.7777777777777778,\"#fb9f3a\"],[0.8888888888888888,\"#fdca26\"],[1.0,\"#f0f921\"]],\"diverging\":[[0,\"#8e0152\"],[0.1,\"#c51b7d\"],[0.2,\"#de77ae\"],[0.3,\"#f1b6da\"],[0.4,\"#fde0ef\"],[0.5,\"#f7f7f7\"],[0.6,\"#e6f5d0\"],[0.7,\"#b8e186\"],[0.8,\"#7fbc41\"],[0.9,\"#4d9221\"],[1,\"#276419\"]]},\"xaxis\":{\"gridcolor\":\"white\",\"linecolor\":\"white\",\"ticks\":\"\",\"title\":{\"standoff\":15},\"zerolinecolor\":\"white\",\"automargin\":true,\"zerolinewidth\":2},\"yaxis\":{\"gridcolor\":\"white\",\"linecolor\":\"white\",\"ticks\":\"\",\"title\":{\"standoff\":15},\"zerolinecolor\":\"white\",\"automargin\":true,\"zerolinewidth\":2},\"scene\":{\"xaxis\":{\"backgroundcolor\":\"#E5ECF6\",\"gridcolor\":\"white\",\"linecolor\":\"white\",\"showbackground\":true,\"ticks\":\"\",\"zerolinecolor\":\"white\",\"gridwidth\":2},\"yaxis\":{\"backgroundcolor\":\"#E5ECF6\",\"gridcolor\":\"white\",\"linecolor\":\"white\",\"showbackground\":true,\"ticks\":\"\",\"zerolinecolor\":\"white\",\"gridwidth\":2},\"zaxis\":{\"backgroundcolor\":\"#E5ECF6\",\"gridcolor\":\"white\",\"linecolor\":\"white\",\"showbackground\":true,\"ticks\":\"\",\"zerolinecolor\":\"white\",\"gridwidth\":2}},\"shapedefaults\":{\"line\":{\"color\":\"#2a3f5f\"}},\"annotationdefaults\":{\"arrowcolor\":\"#2a3f5f\",\"arrowhead\":0,\"arrowwidth\":1},\"geo\":{\"bgcolor\":\"white\",\"landcolor\":\"#E5ECF6\",\"subunitcolor\":\"white\",\"showland\":true,\"showlakes\":true,\"lakecolor\":\"white\"},\"title\":{\"x\":0.05},\"mapbox\":{\"style\":\"light\"}}},\"xaxis\":{\"anchor\":\"y\",\"domain\":[0.0,1.0],\"title\":{\"text\":\"empty_slots\"}},\"yaxis\":{\"anchor\":\"x\",\"domain\":[0.0,0.8316],\"title\":{\"text\":\"count\"}},\"xaxis2\":{\"anchor\":\"y2\",\"domain\":[0.0,1.0],\"matches\":\"x\",\"showticklabels\":false,\"showgrid\":true},\"yaxis2\":{\"anchor\":\"x2\",\"domain\":[0.8416,1.0],\"matches\":\"y2\",\"showticklabels\":false,\"showline\":false,\"ticks\":\"\",\"showgrid\":false},\"legend\":{\"tracegroupgap\":0},\"margin\":{\"t\":60},\"barmode\":\"relative\"},                        {\"responsive\": true}                    ).then(function(){\n",
              "                            \n",
              "var gd = document.getElementById('d4d0bae2-ef0f-4b75-9055-e7dc4002541f');\n",
              "var x = new MutationObserver(function (mutations, observer) {{\n",
              "        var display = window.getComputedStyle(gd).display;\n",
              "        if (!display || display === 'none') {{\n",
              "            console.log([gd, 'removed!']);\n",
              "            Plotly.purge(gd);\n",
              "            observer.disconnect();\n",
              "        }}\n",
              "}});\n",
              "\n",
              "// Listen for the removal of the full notebook cells\n",
              "var notebookContainer = gd.closest('#notebook-container');\n",
              "if (notebookContainer) {{\n",
              "    x.observe(notebookContainer, {childList: true});\n",
              "}}\n",
              "\n",
              "// Listen for the clearing of the current output cell\n",
              "var outputEl = gd.closest('.output');\n",
              "if (outputEl) {{\n",
              "    x.observe(outputEl, {childList: true});\n",
              "}}\n",
              "\n",
              "                        })                };                            </script>        </div>\n",
              "</body>\n",
              "</html>"
            ]
          },
          "metadata": {}
        },
        {
          "output_type": "display_data",
          "data": {
            "text/html": [
              "<html>\n",
              "<head><meta charset=\"utf-8\" /></head>\n",
              "<body>\n",
              "    <div>            <script src=\"https://cdnjs.cloudflare.com/ajax/libs/mathjax/2.7.5/MathJax.js?config=TeX-AMS-MML_SVG\"></script><script type=\"text/javascript\">if (window.MathJax && window.MathJax.Hub && window.MathJax.Hub.Config) {window.MathJax.Hub.Config({SVG: {font: \"STIX-Web\"}});}</script>                <script type=\"text/javascript\">window.PlotlyConfig = {MathJaxConfig: 'local'};</script>\n",
              "        <script src=\"https://cdn.plot.ly/plotly-2.18.2.min.js\"></script>                <div id=\"55f7154e-e03c-4592-a83e-8c35d5be3157\" class=\"plotly-graph-div\" style=\"height:525px; width:100%;\"></div>            <script type=\"text/javascript\">                                    window.PLOTLYENV=window.PLOTLYENV || {};                                    if (document.getElementById(\"55f7154e-e03c-4592-a83e-8c35d5be3157\")) {                    Plotly.newPlot(                        \"55f7154e-e03c-4592-a83e-8c35d5be3157\",                        [{\"alignmentgroup\":\"True\",\"bingroup\":\"x\",\"hovertemplate\":\"slots=%{x}<br>count=%{y}<extra></extra>\",\"legendgroup\":\"\",\"marker\":{\"color\":\"#636efa\",\"pattern\":{\"shape\":\"\"}},\"name\":\"\",\"offsetgroup\":\"\",\"orientation\":\"v\",\"showlegend\":false,\"x\":[35,16,26,16,16,14,14,20,26,20,26,22,30,22,20,20,14,22,18,14,18,15,14,14,12,22,32,28,16,14,26,26,30,14,22,28,14,14,14,14,20,18,18,28,20,18,18,20,18,16,18,18,28,16,16,19,20,18,16,26,16,16,30,40,12,12,12,16,12,16,14,18,18,18,16,16,14,16,18,20,20,16,36,30,18,14,14,14,32,20,18,14,20,14,16,16,20,20,18,20,20,12,18,20,14,14,12,14,22,16,16,14,20,14,14,14,28,20,14,22,14,20,26,14,18,14,12,14,12,14,16,14,14,16,14,16,12,20,16,16,12,18,18,14,16,14,16,16,16,16,38,16,16,16,22,20,22,28,14,22,12,22,20,20,24,20,26,14,18,40,22,22,18,18,20,0,18,14,14,18,20,20,22,14,20,16,18,26,20,24,14,24,18,22,18,26,16,14,18,20,16,16,16,24,23,16,16,16,18,34,24,24,30,26,14,18,14,19,18,18,16,18,20,16,20,20,12,22,20,16,18,18,14,18,22,26,20,18,24,20,22,18],\"xaxis\":\"x\",\"yaxis\":\"y\",\"type\":\"histogram\"},{\"alignmentgroup\":\"True\",\"hovertemplate\":\"slots=%{x}<extra></extra>\",\"legendgroup\":\"\",\"marker\":{\"color\":\"#636efa\"},\"name\":\"\",\"notched\":true,\"offsetgroup\":\"\",\"showlegend\":false,\"x\":[35,16,26,16,16,14,14,20,26,20,26,22,30,22,20,20,14,22,18,14,18,15,14,14,12,22,32,28,16,14,26,26,30,14,22,28,14,14,14,14,20,18,18,28,20,18,18,20,18,16,18,18,28,16,16,19,20,18,16,26,16,16,30,40,12,12,12,16,12,16,14,18,18,18,16,16,14,16,18,20,20,16,36,30,18,14,14,14,32,20,18,14,20,14,16,16,20,20,18,20,20,12,18,20,14,14,12,14,22,16,16,14,20,14,14,14,28,20,14,22,14,20,26,14,18,14,12,14,12,14,16,14,14,16,14,16,12,20,16,16,12,18,18,14,16,14,16,16,16,16,38,16,16,16,22,20,22,28,14,22,12,22,20,20,24,20,26,14,18,40,22,22,18,18,20,0,18,14,14,18,20,20,22,14,20,16,18,26,20,24,14,24,18,22,18,26,16,14,18,20,16,16,16,24,23,16,16,16,18,34,24,24,30,26,14,18,14,19,18,18,16,18,20,16,20,20,12,22,20,16,18,18,14,18,22,26,20,18,24,20,22,18],\"xaxis\":\"x2\",\"yaxis\":\"y2\",\"type\":\"box\"}],                        {\"template\":{\"data\":{\"histogram2dcontour\":[{\"type\":\"histogram2dcontour\",\"colorbar\":{\"outlinewidth\":0,\"ticks\":\"\"},\"colorscale\":[[0.0,\"#0d0887\"],[0.1111111111111111,\"#46039f\"],[0.2222222222222222,\"#7201a8\"],[0.3333333333333333,\"#9c179e\"],[0.4444444444444444,\"#bd3786\"],[0.5555555555555556,\"#d8576b\"],[0.6666666666666666,\"#ed7953\"],[0.7777777777777778,\"#fb9f3a\"],[0.8888888888888888,\"#fdca26\"],[1.0,\"#f0f921\"]]}],\"choropleth\":[{\"type\":\"choropleth\",\"colorbar\":{\"outlinewidth\":0,\"ticks\":\"\"}}],\"histogram2d\":[{\"type\":\"histogram2d\",\"colorbar\":{\"outlinewidth\":0,\"ticks\":\"\"},\"colorscale\":[[0.0,\"#0d0887\"],[0.1111111111111111,\"#46039f\"],[0.2222222222222222,\"#7201a8\"],[0.3333333333333333,\"#9c179e\"],[0.4444444444444444,\"#bd3786\"],[0.5555555555555556,\"#d8576b\"],[0.6666666666666666,\"#ed7953\"],[0.7777777777777778,\"#fb9f3a\"],[0.8888888888888888,\"#fdca26\"],[1.0,\"#f0f921\"]]}],\"heatmap\":[{\"type\":\"heatmap\",\"colorbar\":{\"outlinewidth\":0,\"ticks\":\"\"},\"colorscale\":[[0.0,\"#0d0887\"],[0.1111111111111111,\"#46039f\"],[0.2222222222222222,\"#7201a8\"],[0.3333333333333333,\"#9c179e\"],[0.4444444444444444,\"#bd3786\"],[0.5555555555555556,\"#d8576b\"],[0.6666666666666666,\"#ed7953\"],[0.7777777777777778,\"#fb9f3a\"],[0.8888888888888888,\"#fdca26\"],[1.0,\"#f0f921\"]]}],\"heatmapgl\":[{\"type\":\"heatmapgl\",\"colorbar\":{\"outlinewidth\":0,\"ticks\":\"\"},\"colorscale\":[[0.0,\"#0d0887\"],[0.1111111111111111,\"#46039f\"],[0.2222222222222222,\"#7201a8\"],[0.3333333333333333,\"#9c179e\"],[0.4444444444444444,\"#bd3786\"],[0.5555555555555556,\"#d8576b\"],[0.6666666666666666,\"#ed7953\"],[0.7777777777777778,\"#fb9f3a\"],[0.8888888888888888,\"#fdca26\"],[1.0,\"#f0f921\"]]}],\"contourcarpet\":[{\"type\":\"contourcarpet\",\"colorbar\":{\"outlinewidth\":0,\"ticks\":\"\"}}],\"contour\":[{\"type\":\"contour\",\"colorbar\":{\"outlinewidth\":0,\"ticks\":\"\"},\"colorscale\":[[0.0,\"#0d0887\"],[0.1111111111111111,\"#46039f\"],[0.2222222222222222,\"#7201a8\"],[0.3333333333333333,\"#9c179e\"],[0.4444444444444444,\"#bd3786\"],[0.5555555555555556,\"#d8576b\"],[0.6666666666666666,\"#ed7953\"],[0.7777777777777778,\"#fb9f3a\"],[0.8888888888888888,\"#fdca26\"],[1.0,\"#f0f921\"]]}],\"surface\":[{\"type\":\"surface\",\"colorbar\":{\"outlinewidth\":0,\"ticks\":\"\"},\"colorscale\":[[0.0,\"#0d0887\"],[0.1111111111111111,\"#46039f\"],[0.2222222222222222,\"#7201a8\"],[0.3333333333333333,\"#9c179e\"],[0.4444444444444444,\"#bd3786\"],[0.5555555555555556,\"#d8576b\"],[0.6666666666666666,\"#ed7953\"],[0.7777777777777778,\"#fb9f3a\"],[0.8888888888888888,\"#fdca26\"],[1.0,\"#f0f921\"]]}],\"mesh3d\":[{\"type\":\"mesh3d\",\"colorbar\":{\"outlinewidth\":0,\"ticks\":\"\"}}],\"scatter\":[{\"fillpattern\":{\"fillmode\":\"overlay\",\"size\":10,\"solidity\":0.2},\"type\":\"scatter\"}],\"parcoords\":[{\"type\":\"parcoords\",\"line\":{\"colorbar\":{\"outlinewidth\":0,\"ticks\":\"\"}}}],\"scatterpolargl\":[{\"type\":\"scatterpolargl\",\"marker\":{\"colorbar\":{\"outlinewidth\":0,\"ticks\":\"\"}}}],\"bar\":[{\"error_x\":{\"color\":\"#2a3f5f\"},\"error_y\":{\"color\":\"#2a3f5f\"},\"marker\":{\"line\":{\"color\":\"#E5ECF6\",\"width\":0.5},\"pattern\":{\"fillmode\":\"overlay\",\"size\":10,\"solidity\":0.2}},\"type\":\"bar\"}],\"scattergeo\":[{\"type\":\"scattergeo\",\"marker\":{\"colorbar\":{\"outlinewidth\":0,\"ticks\":\"\"}}}],\"scatterpolar\":[{\"type\":\"scatterpolar\",\"marker\":{\"colorbar\":{\"outlinewidth\":0,\"ticks\":\"\"}}}],\"histogram\":[{\"marker\":{\"pattern\":{\"fillmode\":\"overlay\",\"size\":10,\"solidity\":0.2}},\"type\":\"histogram\"}],\"scattergl\":[{\"type\":\"scattergl\",\"marker\":{\"colorbar\":{\"outlinewidth\":0,\"ticks\":\"\"}}}],\"scatter3d\":[{\"type\":\"scatter3d\",\"line\":{\"colorbar\":{\"outlinewidth\":0,\"ticks\":\"\"}},\"marker\":{\"colorbar\":{\"outlinewidth\":0,\"ticks\":\"\"}}}],\"scattermapbox\":[{\"type\":\"scattermapbox\",\"marker\":{\"colorbar\":{\"outlinewidth\":0,\"ticks\":\"\"}}}],\"scatterternary\":[{\"type\":\"scatterternary\",\"marker\":{\"colorbar\":{\"outlinewidth\":0,\"ticks\":\"\"}}}],\"scattercarpet\":[{\"type\":\"scattercarpet\",\"marker\":{\"colorbar\":{\"outlinewidth\":0,\"ticks\":\"\"}}}],\"carpet\":[{\"aaxis\":{\"endlinecolor\":\"#2a3f5f\",\"gridcolor\":\"white\",\"linecolor\":\"white\",\"minorgridcolor\":\"white\",\"startlinecolor\":\"#2a3f5f\"},\"baxis\":{\"endlinecolor\":\"#2a3f5f\",\"gridcolor\":\"white\",\"linecolor\":\"white\",\"minorgridcolor\":\"white\",\"startlinecolor\":\"#2a3f5f\"},\"type\":\"carpet\"}],\"table\":[{\"cells\":{\"fill\":{\"color\":\"#EBF0F8\"},\"line\":{\"color\":\"white\"}},\"header\":{\"fill\":{\"color\":\"#C8D4E3\"},\"line\":{\"color\":\"white\"}},\"type\":\"table\"}],\"barpolar\":[{\"marker\":{\"line\":{\"color\":\"#E5ECF6\",\"width\":0.5},\"pattern\":{\"fillmode\":\"overlay\",\"size\":10,\"solidity\":0.2}},\"type\":\"barpolar\"}],\"pie\":[{\"automargin\":true,\"type\":\"pie\"}]},\"layout\":{\"autotypenumbers\":\"strict\",\"colorway\":[\"#636efa\",\"#EF553B\",\"#00cc96\",\"#ab63fa\",\"#FFA15A\",\"#19d3f3\",\"#FF6692\",\"#B6E880\",\"#FF97FF\",\"#FECB52\"],\"font\":{\"color\":\"#2a3f5f\"},\"hovermode\":\"closest\",\"hoverlabel\":{\"align\":\"left\"},\"paper_bgcolor\":\"white\",\"plot_bgcolor\":\"#E5ECF6\",\"polar\":{\"bgcolor\":\"#E5ECF6\",\"angularaxis\":{\"gridcolor\":\"white\",\"linecolor\":\"white\",\"ticks\":\"\"},\"radialaxis\":{\"gridcolor\":\"white\",\"linecolor\":\"white\",\"ticks\":\"\"}},\"ternary\":{\"bgcolor\":\"#E5ECF6\",\"aaxis\":{\"gridcolor\":\"white\",\"linecolor\":\"white\",\"ticks\":\"\"},\"baxis\":{\"gridcolor\":\"white\",\"linecolor\":\"white\",\"ticks\":\"\"},\"caxis\":{\"gridcolor\":\"white\",\"linecolor\":\"white\",\"ticks\":\"\"}},\"coloraxis\":{\"colorbar\":{\"outlinewidth\":0,\"ticks\":\"\"}},\"colorscale\":{\"sequential\":[[0.0,\"#0d0887\"],[0.1111111111111111,\"#46039f\"],[0.2222222222222222,\"#7201a8\"],[0.3333333333333333,\"#9c179e\"],[0.4444444444444444,\"#bd3786\"],[0.5555555555555556,\"#d8576b\"],[0.6666666666666666,\"#ed7953\"],[0.7777777777777778,\"#fb9f3a\"],[0.8888888888888888,\"#fdca26\"],[1.0,\"#f0f921\"]],\"sequentialminus\":[[0.0,\"#0d0887\"],[0.1111111111111111,\"#46039f\"],[0.2222222222222222,\"#7201a8\"],[0.3333333333333333,\"#9c179e\"],[0.4444444444444444,\"#bd3786\"],[0.5555555555555556,\"#d8576b\"],[0.6666666666666666,\"#ed7953\"],[0.7777777777777778,\"#fb9f3a\"],[0.8888888888888888,\"#fdca26\"],[1.0,\"#f0f921\"]],\"diverging\":[[0,\"#8e0152\"],[0.1,\"#c51b7d\"],[0.2,\"#de77ae\"],[0.3,\"#f1b6da\"],[0.4,\"#fde0ef\"],[0.5,\"#f7f7f7\"],[0.6,\"#e6f5d0\"],[0.7,\"#b8e186\"],[0.8,\"#7fbc41\"],[0.9,\"#4d9221\"],[1,\"#276419\"]]},\"xaxis\":{\"gridcolor\":\"white\",\"linecolor\":\"white\",\"ticks\":\"\",\"title\":{\"standoff\":15},\"zerolinecolor\":\"white\",\"automargin\":true,\"zerolinewidth\":2},\"yaxis\":{\"gridcolor\":\"white\",\"linecolor\":\"white\",\"ticks\":\"\",\"title\":{\"standoff\":15},\"zerolinecolor\":\"white\",\"automargin\":true,\"zerolinewidth\":2},\"scene\":{\"xaxis\":{\"backgroundcolor\":\"#E5ECF6\",\"gridcolor\":\"white\",\"linecolor\":\"white\",\"showbackground\":true,\"ticks\":\"\",\"zerolinecolor\":\"white\",\"gridwidth\":2},\"yaxis\":{\"backgroundcolor\":\"#E5ECF6\",\"gridcolor\":\"white\",\"linecolor\":\"white\",\"showbackground\":true,\"ticks\":\"\",\"zerolinecolor\":\"white\",\"gridwidth\":2},\"zaxis\":{\"backgroundcolor\":\"#E5ECF6\",\"gridcolor\":\"white\",\"linecolor\":\"white\",\"showbackground\":true,\"ticks\":\"\",\"zerolinecolor\":\"white\",\"gridwidth\":2}},\"shapedefaults\":{\"line\":{\"color\":\"#2a3f5f\"}},\"annotationdefaults\":{\"arrowcolor\":\"#2a3f5f\",\"arrowhead\":0,\"arrowwidth\":1},\"geo\":{\"bgcolor\":\"white\",\"landcolor\":\"#E5ECF6\",\"subunitcolor\":\"white\",\"showland\":true,\"showlakes\":true,\"lakecolor\":\"white\"},\"title\":{\"x\":0.05},\"mapbox\":{\"style\":\"light\"}}},\"xaxis\":{\"anchor\":\"y\",\"domain\":[0.0,1.0],\"title\":{\"text\":\"slots\"}},\"yaxis\":{\"anchor\":\"x\",\"domain\":[0.0,0.8316],\"title\":{\"text\":\"count\"}},\"xaxis2\":{\"anchor\":\"y2\",\"domain\":[0.0,1.0],\"matches\":\"x\",\"showticklabels\":false,\"showgrid\":true},\"yaxis2\":{\"anchor\":\"x2\",\"domain\":[0.8416,1.0],\"matches\":\"y2\",\"showticklabels\":false,\"showline\":false,\"ticks\":\"\",\"showgrid\":false},\"legend\":{\"tracegroupgap\":0},\"margin\":{\"t\":60},\"barmode\":\"relative\"},                        {\"responsive\": true}                    ).then(function(){\n",
              "                            \n",
              "var gd = document.getElementById('55f7154e-e03c-4592-a83e-8c35d5be3157');\n",
              "var x = new MutationObserver(function (mutations, observer) {{\n",
              "        var display = window.getComputedStyle(gd).display;\n",
              "        if (!display || display === 'none') {{\n",
              "            console.log([gd, 'removed!']);\n",
              "            Plotly.purge(gd);\n",
              "            observer.disconnect();\n",
              "        }}\n",
              "}});\n",
              "\n",
              "// Listen for the removal of the full notebook cells\n",
              "var notebookContainer = gd.closest('#notebook-container');\n",
              "if (notebookContainer) {{\n",
              "    x.observe(notebookContainer, {childList: true});\n",
              "}}\n",
              "\n",
              "// Listen for the clearing of the current output cell\n",
              "var outputEl = gd.closest('.output');\n",
              "if (outputEl) {{\n",
              "    x.observe(outputEl, {childList: true});\n",
              "}}\n",
              "\n",
              "                        })                };                            </script>        </div>\n",
              "</body>\n",
              "</html>"
            ]
          },
          "metadata": {}
        },
        {
          "output_type": "display_data",
          "data": {
            "text/html": [
              "<html>\n",
              "<head><meta charset=\"utf-8\" /></head>\n",
              "<body>\n",
              "    <div>            <script src=\"https://cdnjs.cloudflare.com/ajax/libs/mathjax/2.7.5/MathJax.js?config=TeX-AMS-MML_SVG\"></script><script type=\"text/javascript\">if (window.MathJax && window.MathJax.Hub && window.MathJax.Hub.Config) {window.MathJax.Hub.Config({SVG: {font: \"STIX-Web\"}});}</script>                <script type=\"text/javascript\">window.PlotlyConfig = {MathJaxConfig: 'local'};</script>\n",
              "        <script src=\"https://cdn.plot.ly/plotly-2.18.2.min.js\"></script>                <div id=\"61381cc5-7e30-465f-a22d-1286f4b0690c\" class=\"plotly-graph-div\" style=\"height:525px; width:100%;\"></div>            <script type=\"text/javascript\">                                    window.PLOTLYENV=window.PLOTLYENV || {};                                    if (document.getElementById(\"61381cc5-7e30-465f-a22d-1286f4b0690c\")) {                    Plotly.newPlot(                        \"61381cc5-7e30-465f-a22d-1286f4b0690c\",                        [{\"alignmentgroup\":\"True\",\"bingroup\":\"x\",\"hovertemplate\":\"free_bikes=%{x}<br>count=%{y}<extra></extra>\",\"legendgroup\":\"\",\"marker\":{\"color\":\"#636efa\",\"pattern\":{\"shape\":\"\"}},\"name\":\"\",\"offsetgroup\":\"\",\"orientation\":\"v\",\"showlegend\":false,\"x\":[13,10,3,2,1,12,7,20,13,4,12,10,7,2,1,4,4,13,14,5,1,0,5,6,1,7,17,26,14,6,24,13,7,9,16,5,3,7,1,3,20,5,17,25,2,0,5,7,12,7,5,16,2,10,11,12,8,1,0,8,9,7,5,4,5,2,0,15,1,3,5,8,13,2,8,2,10,7,17,17,2,8,21,25,4,7,5,2,31,5,17,2,8,7,6,15,18,14,6,11,3,4,4,6,0,5,12,5,14,10,10,3,7,2,8,11,11,17,1,8,4,6,9,9,6,10,5,11,1,7,3,4,1,6,3,2,6,8,5,8,0,3,12,6,12,12,12,3,3,2,6,12,4,14,5,11,15,19,3,2,8,2,6,19,21,3,19,2,9,22,18,13,1,7,11,0,1,4,2,6,2,3,4,8,4,5,10,10,9,14,8,7,1,18,15,11,10,4,5,10,12,14,6,5,9,4,6,2,8,28,15,7,17,24,1,7,2,11,6,3,9,8,5,6,17,2,6,12,9,2,14,4,1,2,10,23,1,4,5,16,9,10],\"xaxis\":\"x\",\"yaxis\":\"y\",\"type\":\"histogram\"},{\"alignmentgroup\":\"True\",\"hovertemplate\":\"free_bikes=%{x}<extra></extra>\",\"legendgroup\":\"\",\"marker\":{\"color\":\"#636efa\"},\"name\":\"\",\"notched\":true,\"offsetgroup\":\"\",\"showlegend\":false,\"x\":[13,10,3,2,1,12,7,20,13,4,12,10,7,2,1,4,4,13,14,5,1,0,5,6,1,7,17,26,14,6,24,13,7,9,16,5,3,7,1,3,20,5,17,25,2,0,5,7,12,7,5,16,2,10,11,12,8,1,0,8,9,7,5,4,5,2,0,15,1,3,5,8,13,2,8,2,10,7,17,17,2,8,21,25,4,7,5,2,31,5,17,2,8,7,6,15,18,14,6,11,3,4,4,6,0,5,12,5,14,10,10,3,7,2,8,11,11,17,1,8,4,6,9,9,6,10,5,11,1,7,3,4,1,6,3,2,6,8,5,8,0,3,12,6,12,12,12,3,3,2,6,12,4,14,5,11,15,19,3,2,8,2,6,19,21,3,19,2,9,22,18,13,1,7,11,0,1,4,2,6,2,3,4,8,4,5,10,10,9,14,8,7,1,18,15,11,10,4,5,10,12,14,6,5,9,4,6,2,8,28,15,7,17,24,1,7,2,11,6,3,9,8,5,6,17,2,6,12,9,2,14,4,1,2,10,23,1,4,5,16,9,10],\"xaxis\":\"x2\",\"yaxis\":\"y2\",\"type\":\"box\"}],                        {\"template\":{\"data\":{\"histogram2dcontour\":[{\"type\":\"histogram2dcontour\",\"colorbar\":{\"outlinewidth\":0,\"ticks\":\"\"},\"colorscale\":[[0.0,\"#0d0887\"],[0.1111111111111111,\"#46039f\"],[0.2222222222222222,\"#7201a8\"],[0.3333333333333333,\"#9c179e\"],[0.4444444444444444,\"#bd3786\"],[0.5555555555555556,\"#d8576b\"],[0.6666666666666666,\"#ed7953\"],[0.7777777777777778,\"#fb9f3a\"],[0.8888888888888888,\"#fdca26\"],[1.0,\"#f0f921\"]]}],\"choropleth\":[{\"type\":\"choropleth\",\"colorbar\":{\"outlinewidth\":0,\"ticks\":\"\"}}],\"histogram2d\":[{\"type\":\"histogram2d\",\"colorbar\":{\"outlinewidth\":0,\"ticks\":\"\"},\"colorscale\":[[0.0,\"#0d0887\"],[0.1111111111111111,\"#46039f\"],[0.2222222222222222,\"#7201a8\"],[0.3333333333333333,\"#9c179e\"],[0.4444444444444444,\"#bd3786\"],[0.5555555555555556,\"#d8576b\"],[0.6666666666666666,\"#ed7953\"],[0.7777777777777778,\"#fb9f3a\"],[0.8888888888888888,\"#fdca26\"],[1.0,\"#f0f921\"]]}],\"heatmap\":[{\"type\":\"heatmap\",\"colorbar\":{\"outlinewidth\":0,\"ticks\":\"\"},\"colorscale\":[[0.0,\"#0d0887\"],[0.1111111111111111,\"#46039f\"],[0.2222222222222222,\"#7201a8\"],[0.3333333333333333,\"#9c179e\"],[0.4444444444444444,\"#bd3786\"],[0.5555555555555556,\"#d8576b\"],[0.6666666666666666,\"#ed7953\"],[0.7777777777777778,\"#fb9f3a\"],[0.8888888888888888,\"#fdca26\"],[1.0,\"#f0f921\"]]}],\"heatmapgl\":[{\"type\":\"heatmapgl\",\"colorbar\":{\"outlinewidth\":0,\"ticks\":\"\"},\"colorscale\":[[0.0,\"#0d0887\"],[0.1111111111111111,\"#46039f\"],[0.2222222222222222,\"#7201a8\"],[0.3333333333333333,\"#9c179e\"],[0.4444444444444444,\"#bd3786\"],[0.5555555555555556,\"#d8576b\"],[0.6666666666666666,\"#ed7953\"],[0.7777777777777778,\"#fb9f3a\"],[0.8888888888888888,\"#fdca26\"],[1.0,\"#f0f921\"]]}],\"contourcarpet\":[{\"type\":\"contourcarpet\",\"colorbar\":{\"outlinewidth\":0,\"ticks\":\"\"}}],\"contour\":[{\"type\":\"contour\",\"colorbar\":{\"outlinewidth\":0,\"ticks\":\"\"},\"colorscale\":[[0.0,\"#0d0887\"],[0.1111111111111111,\"#46039f\"],[0.2222222222222222,\"#7201a8\"],[0.3333333333333333,\"#9c179e\"],[0.4444444444444444,\"#bd3786\"],[0.5555555555555556,\"#d8576b\"],[0.6666666666666666,\"#ed7953\"],[0.7777777777777778,\"#fb9f3a\"],[0.8888888888888888,\"#fdca26\"],[1.0,\"#f0f921\"]]}],\"surface\":[{\"type\":\"surface\",\"colorbar\":{\"outlinewidth\":0,\"ticks\":\"\"},\"colorscale\":[[0.0,\"#0d0887\"],[0.1111111111111111,\"#46039f\"],[0.2222222222222222,\"#7201a8\"],[0.3333333333333333,\"#9c179e\"],[0.4444444444444444,\"#bd3786\"],[0.5555555555555556,\"#d8576b\"],[0.6666666666666666,\"#ed7953\"],[0.7777777777777778,\"#fb9f3a\"],[0.8888888888888888,\"#fdca26\"],[1.0,\"#f0f921\"]]}],\"mesh3d\":[{\"type\":\"mesh3d\",\"colorbar\":{\"outlinewidth\":0,\"ticks\":\"\"}}],\"scatter\":[{\"fillpattern\":{\"fillmode\":\"overlay\",\"size\":10,\"solidity\":0.2},\"type\":\"scatter\"}],\"parcoords\":[{\"type\":\"parcoords\",\"line\":{\"colorbar\":{\"outlinewidth\":0,\"ticks\":\"\"}}}],\"scatterpolargl\":[{\"type\":\"scatterpolargl\",\"marker\":{\"colorbar\":{\"outlinewidth\":0,\"ticks\":\"\"}}}],\"bar\":[{\"error_x\":{\"color\":\"#2a3f5f\"},\"error_y\":{\"color\":\"#2a3f5f\"},\"marker\":{\"line\":{\"color\":\"#E5ECF6\",\"width\":0.5},\"pattern\":{\"fillmode\":\"overlay\",\"size\":10,\"solidity\":0.2}},\"type\":\"bar\"}],\"scattergeo\":[{\"type\":\"scattergeo\",\"marker\":{\"colorbar\":{\"outlinewidth\":0,\"ticks\":\"\"}}}],\"scatterpolar\":[{\"type\":\"scatterpolar\",\"marker\":{\"colorbar\":{\"outlinewidth\":0,\"ticks\":\"\"}}}],\"histogram\":[{\"marker\":{\"pattern\":{\"fillmode\":\"overlay\",\"size\":10,\"solidity\":0.2}},\"type\":\"histogram\"}],\"scattergl\":[{\"type\":\"scattergl\",\"marker\":{\"colorbar\":{\"outlinewidth\":0,\"ticks\":\"\"}}}],\"scatter3d\":[{\"type\":\"scatter3d\",\"line\":{\"colorbar\":{\"outlinewidth\":0,\"ticks\":\"\"}},\"marker\":{\"colorbar\":{\"outlinewidth\":0,\"ticks\":\"\"}}}],\"scattermapbox\":[{\"type\":\"scattermapbox\",\"marker\":{\"colorbar\":{\"outlinewidth\":0,\"ticks\":\"\"}}}],\"scatterternary\":[{\"type\":\"scatterternary\",\"marker\":{\"colorbar\":{\"outlinewidth\":0,\"ticks\":\"\"}}}],\"scattercarpet\":[{\"type\":\"scattercarpet\",\"marker\":{\"colorbar\":{\"outlinewidth\":0,\"ticks\":\"\"}}}],\"carpet\":[{\"aaxis\":{\"endlinecolor\":\"#2a3f5f\",\"gridcolor\":\"white\",\"linecolor\":\"white\",\"minorgridcolor\":\"white\",\"startlinecolor\":\"#2a3f5f\"},\"baxis\":{\"endlinecolor\":\"#2a3f5f\",\"gridcolor\":\"white\",\"linecolor\":\"white\",\"minorgridcolor\":\"white\",\"startlinecolor\":\"#2a3f5f\"},\"type\":\"carpet\"}],\"table\":[{\"cells\":{\"fill\":{\"color\":\"#EBF0F8\"},\"line\":{\"color\":\"white\"}},\"header\":{\"fill\":{\"color\":\"#C8D4E3\"},\"line\":{\"color\":\"white\"}},\"type\":\"table\"}],\"barpolar\":[{\"marker\":{\"line\":{\"color\":\"#E5ECF6\",\"width\":0.5},\"pattern\":{\"fillmode\":\"overlay\",\"size\":10,\"solidity\":0.2}},\"type\":\"barpolar\"}],\"pie\":[{\"automargin\":true,\"type\":\"pie\"}]},\"layout\":{\"autotypenumbers\":\"strict\",\"colorway\":[\"#636efa\",\"#EF553B\",\"#00cc96\",\"#ab63fa\",\"#FFA15A\",\"#19d3f3\",\"#FF6692\",\"#B6E880\",\"#FF97FF\",\"#FECB52\"],\"font\":{\"color\":\"#2a3f5f\"},\"hovermode\":\"closest\",\"hoverlabel\":{\"align\":\"left\"},\"paper_bgcolor\":\"white\",\"plot_bgcolor\":\"#E5ECF6\",\"polar\":{\"bgcolor\":\"#E5ECF6\",\"angularaxis\":{\"gridcolor\":\"white\",\"linecolor\":\"white\",\"ticks\":\"\"},\"radialaxis\":{\"gridcolor\":\"white\",\"linecolor\":\"white\",\"ticks\":\"\"}},\"ternary\":{\"bgcolor\":\"#E5ECF6\",\"aaxis\":{\"gridcolor\":\"white\",\"linecolor\":\"white\",\"ticks\":\"\"},\"baxis\":{\"gridcolor\":\"white\",\"linecolor\":\"white\",\"ticks\":\"\"},\"caxis\":{\"gridcolor\":\"white\",\"linecolor\":\"white\",\"ticks\":\"\"}},\"coloraxis\":{\"colorbar\":{\"outlinewidth\":0,\"ticks\":\"\"}},\"colorscale\":{\"sequential\":[[0.0,\"#0d0887\"],[0.1111111111111111,\"#46039f\"],[0.2222222222222222,\"#7201a8\"],[0.3333333333333333,\"#9c179e\"],[0.4444444444444444,\"#bd3786\"],[0.5555555555555556,\"#d8576b\"],[0.6666666666666666,\"#ed7953\"],[0.7777777777777778,\"#fb9f3a\"],[0.8888888888888888,\"#fdca26\"],[1.0,\"#f0f921\"]],\"sequentialminus\":[[0.0,\"#0d0887\"],[0.1111111111111111,\"#46039f\"],[0.2222222222222222,\"#7201a8\"],[0.3333333333333333,\"#9c179e\"],[0.4444444444444444,\"#bd3786\"],[0.5555555555555556,\"#d8576b\"],[0.6666666666666666,\"#ed7953\"],[0.7777777777777778,\"#fb9f3a\"],[0.8888888888888888,\"#fdca26\"],[1.0,\"#f0f921\"]],\"diverging\":[[0,\"#8e0152\"],[0.1,\"#c51b7d\"],[0.2,\"#de77ae\"],[0.3,\"#f1b6da\"],[0.4,\"#fde0ef\"],[0.5,\"#f7f7f7\"],[0.6,\"#e6f5d0\"],[0.7,\"#b8e186\"],[0.8,\"#7fbc41\"],[0.9,\"#4d9221\"],[1,\"#276419\"]]},\"xaxis\":{\"gridcolor\":\"white\",\"linecolor\":\"white\",\"ticks\":\"\",\"title\":{\"standoff\":15},\"zerolinecolor\":\"white\",\"automargin\":true,\"zerolinewidth\":2},\"yaxis\":{\"gridcolor\":\"white\",\"linecolor\":\"white\",\"ticks\":\"\",\"title\":{\"standoff\":15},\"zerolinecolor\":\"white\",\"automargin\":true,\"zerolinewidth\":2},\"scene\":{\"xaxis\":{\"backgroundcolor\":\"#E5ECF6\",\"gridcolor\":\"white\",\"linecolor\":\"white\",\"showbackground\":true,\"ticks\":\"\",\"zerolinecolor\":\"white\",\"gridwidth\":2},\"yaxis\":{\"backgroundcolor\":\"#E5ECF6\",\"gridcolor\":\"white\",\"linecolor\":\"white\",\"showbackground\":true,\"ticks\":\"\",\"zerolinecolor\":\"white\",\"gridwidth\":2},\"zaxis\":{\"backgroundcolor\":\"#E5ECF6\",\"gridcolor\":\"white\",\"linecolor\":\"white\",\"showbackground\":true,\"ticks\":\"\",\"zerolinecolor\":\"white\",\"gridwidth\":2}},\"shapedefaults\":{\"line\":{\"color\":\"#2a3f5f\"}},\"annotationdefaults\":{\"arrowcolor\":\"#2a3f5f\",\"arrowhead\":0,\"arrowwidth\":1},\"geo\":{\"bgcolor\":\"white\",\"landcolor\":\"#E5ECF6\",\"subunitcolor\":\"white\",\"showland\":true,\"showlakes\":true,\"lakecolor\":\"white\"},\"title\":{\"x\":0.05},\"mapbox\":{\"style\":\"light\"}}},\"xaxis\":{\"anchor\":\"y\",\"domain\":[0.0,1.0],\"title\":{\"text\":\"free_bikes\"}},\"yaxis\":{\"anchor\":\"x\",\"domain\":[0.0,0.8316],\"title\":{\"text\":\"count\"}},\"xaxis2\":{\"anchor\":\"y2\",\"domain\":[0.0,1.0],\"matches\":\"x\",\"showticklabels\":false,\"showgrid\":true},\"yaxis2\":{\"anchor\":\"x2\",\"domain\":[0.8416,1.0],\"matches\":\"y2\",\"showticklabels\":false,\"showline\":false,\"ticks\":\"\",\"showgrid\":false},\"legend\":{\"tracegroupgap\":0},\"margin\":{\"t\":60},\"barmode\":\"relative\"},                        {\"responsive\": true}                    ).then(function(){\n",
              "                            \n",
              "var gd = document.getElementById('61381cc5-7e30-465f-a22d-1286f4b0690c');\n",
              "var x = new MutationObserver(function (mutations, observer) {{\n",
              "        var display = window.getComputedStyle(gd).display;\n",
              "        if (!display || display === 'none') {{\n",
              "            console.log([gd, 'removed!']);\n",
              "            Plotly.purge(gd);\n",
              "            observer.disconnect();\n",
              "        }}\n",
              "}});\n",
              "\n",
              "// Listen for the removal of the full notebook cells\n",
              "var notebookContainer = gd.closest('#notebook-container');\n",
              "if (notebookContainer) {{\n",
              "    x.observe(notebookContainer, {childList: true});\n",
              "}}\n",
              "\n",
              "// Listen for the clearing of the current output cell\n",
              "var outputEl = gd.closest('.output');\n",
              "if (outputEl) {{\n",
              "    x.observe(outputEl, {childList: true});\n",
              "}}\n",
              "\n",
              "                        })                };                            </script>        </div>\n",
              "</body>\n",
              "</html>"
            ]
          },
          "metadata": {}
        },
        {
          "output_type": "display_data",
          "data": {
            "text/html": [
              "<html>\n",
              "<head><meta charset=\"utf-8\" /></head>\n",
              "<body>\n",
              "    <div>            <script src=\"https://cdnjs.cloudflare.com/ajax/libs/mathjax/2.7.5/MathJax.js?config=TeX-AMS-MML_SVG\"></script><script type=\"text/javascript\">if (window.MathJax && window.MathJax.Hub && window.MathJax.Hub.Config) {window.MathJax.Hub.Config({SVG: {font: \"STIX-Web\"}});}</script>                <script type=\"text/javascript\">window.PlotlyConfig = {MathJaxConfig: 'local'};</script>\n",
              "        <script src=\"https://cdn.plot.ly/plotly-2.18.2.min.js\"></script>                <div id=\"9644cadd-5c0a-4a27-9280-2404e4543869\" class=\"plotly-graph-div\" style=\"height:525px; width:100%;\"></div>            <script type=\"text/javascript\">                                    window.PLOTLYENV=window.PLOTLYENV || {};                                    if (document.getElementById(\"9644cadd-5c0a-4a27-9280-2404e4543869\")) {                    Plotly.newPlot(                        \"9644cadd-5c0a-4a27-9280-2404e4543869\",                        [{\"alignmentgroup\":\"True\",\"bingroup\":\"x\",\"hovertemplate\":\"ebikes=%{x}<br>count=%{y}<extra></extra>\",\"legendgroup\":\"\",\"marker\":{\"color\":\"#636efa\",\"pattern\":{\"shape\":\"\"}},\"name\":\"\",\"offsetgroup\":\"\",\"orientation\":\"v\",\"showlegend\":false,\"x\":[4,0,1,2,0,0,1,0,2,3,2,0,0,2,1,0,0,1,1,0,1,0,0,0,1,0,0,3,4,0,2,2,4,0,2,1,1,2,0,2,1,5,2,0,0,0,0,0,0,2,0,1,0,1,0,0,0,1,0,1,0,0,4,0,3,2,0,5,1,2,4,0,1,1,0,1,0,0,6,1,1,0,4,4,3,0,2,0,2,2,1,0,4,0,1,2,0,0,0,2,2,3,1,0,0,2,3,0,0,2,1,1,1,1,0,0,1,1,1,2,1,3,0,2,4,1,1,0,1,1,3,0,0,2,3,0,0,0,0,3,0,1,1,1,5,4,0,0,0,0,1,0,1,0,3,3,0,0,1,0,2,1,5,0,0,0,2,0,3,2,3,1,0,1,2,0,0,3,2,1,2,2,1,1,3,0,0,0,1,3,2,0,1,0,7,2,2,2,4,0,1,2,0,5,0,1,0,0,0,8,1,0,3,4,0,0,0,1,5,1,8,0,0,2,5,2,3,5,2,0,0,0,1,1,2,3,1,4,2,1,7,0],\"xaxis\":\"x\",\"yaxis\":\"y\",\"type\":\"histogram\"},{\"alignmentgroup\":\"True\",\"hovertemplate\":\"ebikes=%{x}<extra></extra>\",\"legendgroup\":\"\",\"marker\":{\"color\":\"#636efa\"},\"name\":\"\",\"notched\":true,\"offsetgroup\":\"\",\"showlegend\":false,\"x\":[4,0,1,2,0,0,1,0,2,3,2,0,0,2,1,0,0,1,1,0,1,0,0,0,1,0,0,3,4,0,2,2,4,0,2,1,1,2,0,2,1,5,2,0,0,0,0,0,0,2,0,1,0,1,0,0,0,1,0,1,0,0,4,0,3,2,0,5,1,2,4,0,1,1,0,1,0,0,6,1,1,0,4,4,3,0,2,0,2,2,1,0,4,0,1,2,0,0,0,2,2,3,1,0,0,2,3,0,0,2,1,1,1,1,0,0,1,1,1,2,1,3,0,2,4,1,1,0,1,1,3,0,0,2,3,0,0,0,0,3,0,1,1,1,5,4,0,0,0,0,1,0,1,0,3,3,0,0,1,0,2,1,5,0,0,0,2,0,3,2,3,1,0,1,2,0,0,3,2,1,2,2,1,1,3,0,0,0,1,3,2,0,1,0,7,2,2,2,4,0,1,2,0,5,0,1,0,0,0,8,1,0,3,4,0,0,0,1,5,1,8,0,0,2,5,2,3,5,2,0,0,0,1,1,2,3,1,4,2,1,7,0],\"xaxis\":\"x2\",\"yaxis\":\"y2\",\"type\":\"box\"}],                        {\"template\":{\"data\":{\"histogram2dcontour\":[{\"type\":\"histogram2dcontour\",\"colorbar\":{\"outlinewidth\":0,\"ticks\":\"\"},\"colorscale\":[[0.0,\"#0d0887\"],[0.1111111111111111,\"#46039f\"],[0.2222222222222222,\"#7201a8\"],[0.3333333333333333,\"#9c179e\"],[0.4444444444444444,\"#bd3786\"],[0.5555555555555556,\"#d8576b\"],[0.6666666666666666,\"#ed7953\"],[0.7777777777777778,\"#fb9f3a\"],[0.8888888888888888,\"#fdca26\"],[1.0,\"#f0f921\"]]}],\"choropleth\":[{\"type\":\"choropleth\",\"colorbar\":{\"outlinewidth\":0,\"ticks\":\"\"}}],\"histogram2d\":[{\"type\":\"histogram2d\",\"colorbar\":{\"outlinewidth\":0,\"ticks\":\"\"},\"colorscale\":[[0.0,\"#0d0887\"],[0.1111111111111111,\"#46039f\"],[0.2222222222222222,\"#7201a8\"],[0.3333333333333333,\"#9c179e\"],[0.4444444444444444,\"#bd3786\"],[0.5555555555555556,\"#d8576b\"],[0.6666666666666666,\"#ed7953\"],[0.7777777777777778,\"#fb9f3a\"],[0.8888888888888888,\"#fdca26\"],[1.0,\"#f0f921\"]]}],\"heatmap\":[{\"type\":\"heatmap\",\"colorbar\":{\"outlinewidth\":0,\"ticks\":\"\"},\"colorscale\":[[0.0,\"#0d0887\"],[0.1111111111111111,\"#46039f\"],[0.2222222222222222,\"#7201a8\"],[0.3333333333333333,\"#9c179e\"],[0.4444444444444444,\"#bd3786\"],[0.5555555555555556,\"#d8576b\"],[0.6666666666666666,\"#ed7953\"],[0.7777777777777778,\"#fb9f3a\"],[0.8888888888888888,\"#fdca26\"],[1.0,\"#f0f921\"]]}],\"heatmapgl\":[{\"type\":\"heatmapgl\",\"colorbar\":{\"outlinewidth\":0,\"ticks\":\"\"},\"colorscale\":[[0.0,\"#0d0887\"],[0.1111111111111111,\"#46039f\"],[0.2222222222222222,\"#7201a8\"],[0.3333333333333333,\"#9c179e\"],[0.4444444444444444,\"#bd3786\"],[0.5555555555555556,\"#d8576b\"],[0.6666666666666666,\"#ed7953\"],[0.7777777777777778,\"#fb9f3a\"],[0.8888888888888888,\"#fdca26\"],[1.0,\"#f0f921\"]]}],\"contourcarpet\":[{\"type\":\"contourcarpet\",\"colorbar\":{\"outlinewidth\":0,\"ticks\":\"\"}}],\"contour\":[{\"type\":\"contour\",\"colorbar\":{\"outlinewidth\":0,\"ticks\":\"\"},\"colorscale\":[[0.0,\"#0d0887\"],[0.1111111111111111,\"#46039f\"],[0.2222222222222222,\"#7201a8\"],[0.3333333333333333,\"#9c179e\"],[0.4444444444444444,\"#bd3786\"],[0.5555555555555556,\"#d8576b\"],[0.6666666666666666,\"#ed7953\"],[0.7777777777777778,\"#fb9f3a\"],[0.8888888888888888,\"#fdca26\"],[1.0,\"#f0f921\"]]}],\"surface\":[{\"type\":\"surface\",\"colorbar\":{\"outlinewidth\":0,\"ticks\":\"\"},\"colorscale\":[[0.0,\"#0d0887\"],[0.1111111111111111,\"#46039f\"],[0.2222222222222222,\"#7201a8\"],[0.3333333333333333,\"#9c179e\"],[0.4444444444444444,\"#bd3786\"],[0.5555555555555556,\"#d8576b\"],[0.6666666666666666,\"#ed7953\"],[0.7777777777777778,\"#fb9f3a\"],[0.8888888888888888,\"#fdca26\"],[1.0,\"#f0f921\"]]}],\"mesh3d\":[{\"type\":\"mesh3d\",\"colorbar\":{\"outlinewidth\":0,\"ticks\":\"\"}}],\"scatter\":[{\"fillpattern\":{\"fillmode\":\"overlay\",\"size\":10,\"solidity\":0.2},\"type\":\"scatter\"}],\"parcoords\":[{\"type\":\"parcoords\",\"line\":{\"colorbar\":{\"outlinewidth\":0,\"ticks\":\"\"}}}],\"scatterpolargl\":[{\"type\":\"scatterpolargl\",\"marker\":{\"colorbar\":{\"outlinewidth\":0,\"ticks\":\"\"}}}],\"bar\":[{\"error_x\":{\"color\":\"#2a3f5f\"},\"error_y\":{\"color\":\"#2a3f5f\"},\"marker\":{\"line\":{\"color\":\"#E5ECF6\",\"width\":0.5},\"pattern\":{\"fillmode\":\"overlay\",\"size\":10,\"solidity\":0.2}},\"type\":\"bar\"}],\"scattergeo\":[{\"type\":\"scattergeo\",\"marker\":{\"colorbar\":{\"outlinewidth\":0,\"ticks\":\"\"}}}],\"scatterpolar\":[{\"type\":\"scatterpolar\",\"marker\":{\"colorbar\":{\"outlinewidth\":0,\"ticks\":\"\"}}}],\"histogram\":[{\"marker\":{\"pattern\":{\"fillmode\":\"overlay\",\"size\":10,\"solidity\":0.2}},\"type\":\"histogram\"}],\"scattergl\":[{\"type\":\"scattergl\",\"marker\":{\"colorbar\":{\"outlinewidth\":0,\"ticks\":\"\"}}}],\"scatter3d\":[{\"type\":\"scatter3d\",\"line\":{\"colorbar\":{\"outlinewidth\":0,\"ticks\":\"\"}},\"marker\":{\"colorbar\":{\"outlinewidth\":0,\"ticks\":\"\"}}}],\"scattermapbox\":[{\"type\":\"scattermapbox\",\"marker\":{\"colorbar\":{\"outlinewidth\":0,\"ticks\":\"\"}}}],\"scatterternary\":[{\"type\":\"scatterternary\",\"marker\":{\"colorbar\":{\"outlinewidth\":0,\"ticks\":\"\"}}}],\"scattercarpet\":[{\"type\":\"scattercarpet\",\"marker\":{\"colorbar\":{\"outlinewidth\":0,\"ticks\":\"\"}}}],\"carpet\":[{\"aaxis\":{\"endlinecolor\":\"#2a3f5f\",\"gridcolor\":\"white\",\"linecolor\":\"white\",\"minorgridcolor\":\"white\",\"startlinecolor\":\"#2a3f5f\"},\"baxis\":{\"endlinecolor\":\"#2a3f5f\",\"gridcolor\":\"white\",\"linecolor\":\"white\",\"minorgridcolor\":\"white\",\"startlinecolor\":\"#2a3f5f\"},\"type\":\"carpet\"}],\"table\":[{\"cells\":{\"fill\":{\"color\":\"#EBF0F8\"},\"line\":{\"color\":\"white\"}},\"header\":{\"fill\":{\"color\":\"#C8D4E3\"},\"line\":{\"color\":\"white\"}},\"type\":\"table\"}],\"barpolar\":[{\"marker\":{\"line\":{\"color\":\"#E5ECF6\",\"width\":0.5},\"pattern\":{\"fillmode\":\"overlay\",\"size\":10,\"solidity\":0.2}},\"type\":\"barpolar\"}],\"pie\":[{\"automargin\":true,\"type\":\"pie\"}]},\"layout\":{\"autotypenumbers\":\"strict\",\"colorway\":[\"#636efa\",\"#EF553B\",\"#00cc96\",\"#ab63fa\",\"#FFA15A\",\"#19d3f3\",\"#FF6692\",\"#B6E880\",\"#FF97FF\",\"#FECB52\"],\"font\":{\"color\":\"#2a3f5f\"},\"hovermode\":\"closest\",\"hoverlabel\":{\"align\":\"left\"},\"paper_bgcolor\":\"white\",\"plot_bgcolor\":\"#E5ECF6\",\"polar\":{\"bgcolor\":\"#E5ECF6\",\"angularaxis\":{\"gridcolor\":\"white\",\"linecolor\":\"white\",\"ticks\":\"\"},\"radialaxis\":{\"gridcolor\":\"white\",\"linecolor\":\"white\",\"ticks\":\"\"}},\"ternary\":{\"bgcolor\":\"#E5ECF6\",\"aaxis\":{\"gridcolor\":\"white\",\"linecolor\":\"white\",\"ticks\":\"\"},\"baxis\":{\"gridcolor\":\"white\",\"linecolor\":\"white\",\"ticks\":\"\"},\"caxis\":{\"gridcolor\":\"white\",\"linecolor\":\"white\",\"ticks\":\"\"}},\"coloraxis\":{\"colorbar\":{\"outlinewidth\":0,\"ticks\":\"\"}},\"colorscale\":{\"sequential\":[[0.0,\"#0d0887\"],[0.1111111111111111,\"#46039f\"],[0.2222222222222222,\"#7201a8\"],[0.3333333333333333,\"#9c179e\"],[0.4444444444444444,\"#bd3786\"],[0.5555555555555556,\"#d8576b\"],[0.6666666666666666,\"#ed7953\"],[0.7777777777777778,\"#fb9f3a\"],[0.8888888888888888,\"#fdca26\"],[1.0,\"#f0f921\"]],\"sequentialminus\":[[0.0,\"#0d0887\"],[0.1111111111111111,\"#46039f\"],[0.2222222222222222,\"#7201a8\"],[0.3333333333333333,\"#9c179e\"],[0.4444444444444444,\"#bd3786\"],[0.5555555555555556,\"#d8576b\"],[0.6666666666666666,\"#ed7953\"],[0.7777777777777778,\"#fb9f3a\"],[0.8888888888888888,\"#fdca26\"],[1.0,\"#f0f921\"]],\"diverging\":[[0,\"#8e0152\"],[0.1,\"#c51b7d\"],[0.2,\"#de77ae\"],[0.3,\"#f1b6da\"],[0.4,\"#fde0ef\"],[0.5,\"#f7f7f7\"],[0.6,\"#e6f5d0\"],[0.7,\"#b8e186\"],[0.8,\"#7fbc41\"],[0.9,\"#4d9221\"],[1,\"#276419\"]]},\"xaxis\":{\"gridcolor\":\"white\",\"linecolor\":\"white\",\"ticks\":\"\",\"title\":{\"standoff\":15},\"zerolinecolor\":\"white\",\"automargin\":true,\"zerolinewidth\":2},\"yaxis\":{\"gridcolor\":\"white\",\"linecolor\":\"white\",\"ticks\":\"\",\"title\":{\"standoff\":15},\"zerolinecolor\":\"white\",\"automargin\":true,\"zerolinewidth\":2},\"scene\":{\"xaxis\":{\"backgroundcolor\":\"#E5ECF6\",\"gridcolor\":\"white\",\"linecolor\":\"white\",\"showbackground\":true,\"ticks\":\"\",\"zerolinecolor\":\"white\",\"gridwidth\":2},\"yaxis\":{\"backgroundcolor\":\"#E5ECF6\",\"gridcolor\":\"white\",\"linecolor\":\"white\",\"showbackground\":true,\"ticks\":\"\",\"zerolinecolor\":\"white\",\"gridwidth\":2},\"zaxis\":{\"backgroundcolor\":\"#E5ECF6\",\"gridcolor\":\"white\",\"linecolor\":\"white\",\"showbackground\":true,\"ticks\":\"\",\"zerolinecolor\":\"white\",\"gridwidth\":2}},\"shapedefaults\":{\"line\":{\"color\":\"#2a3f5f\"}},\"annotationdefaults\":{\"arrowcolor\":\"#2a3f5f\",\"arrowhead\":0,\"arrowwidth\":1},\"geo\":{\"bgcolor\":\"white\",\"landcolor\":\"#E5ECF6\",\"subunitcolor\":\"white\",\"showland\":true,\"showlakes\":true,\"lakecolor\":\"white\"},\"title\":{\"x\":0.05},\"mapbox\":{\"style\":\"light\"}}},\"xaxis\":{\"anchor\":\"y\",\"domain\":[0.0,1.0],\"title\":{\"text\":\"ebikes\"}},\"yaxis\":{\"anchor\":\"x\",\"domain\":[0.0,0.8316],\"title\":{\"text\":\"count\"}},\"xaxis2\":{\"anchor\":\"y2\",\"domain\":[0.0,1.0],\"matches\":\"x\",\"showticklabels\":false,\"showgrid\":true},\"yaxis2\":{\"anchor\":\"x2\",\"domain\":[0.8416,1.0],\"matches\":\"y2\",\"showticklabels\":false,\"showline\":false,\"ticks\":\"\",\"showgrid\":false},\"legend\":{\"tracegroupgap\":0},\"margin\":{\"t\":60},\"barmode\":\"relative\"},                        {\"responsive\": true}                    ).then(function(){\n",
              "                            \n",
              "var gd = document.getElementById('9644cadd-5c0a-4a27-9280-2404e4543869');\n",
              "var x = new MutationObserver(function (mutations, observer) {{\n",
              "        var display = window.getComputedStyle(gd).display;\n",
              "        if (!display || display === 'none') {{\n",
              "            console.log([gd, 'removed!']);\n",
              "            Plotly.purge(gd);\n",
              "            observer.disconnect();\n",
              "        }}\n",
              "}});\n",
              "\n",
              "// Listen for the removal of the full notebook cells\n",
              "var notebookContainer = gd.closest('#notebook-container');\n",
              "if (notebookContainer) {{\n",
              "    x.observe(notebookContainer, {childList: true});\n",
              "}}\n",
              "\n",
              "// Listen for the clearing of the current output cell\n",
              "var outputEl = gd.closest('.output');\n",
              "if (outputEl) {{\n",
              "    x.observe(outputEl, {childList: true});\n",
              "}}\n",
              "\n",
              "                        })                };                            </script>        </div>\n",
              "</body>\n",
              "</html>"
            ]
          },
          "metadata": {}
        },
        {
          "output_type": "display_data",
          "data": {
            "text/html": [
              "<html>\n",
              "<head><meta charset=\"utf-8\" /></head>\n",
              "<body>\n",
              "    <div>            <script src=\"https://cdnjs.cloudflare.com/ajax/libs/mathjax/2.7.5/MathJax.js?config=TeX-AMS-MML_SVG\"></script><script type=\"text/javascript\">if (window.MathJax && window.MathJax.Hub && window.MathJax.Hub.Config) {window.MathJax.Hub.Config({SVG: {font: \"STIX-Web\"}});}</script>                <script type=\"text/javascript\">window.PlotlyConfig = {MathJaxConfig: 'local'};</script>\n",
              "        <script src=\"https://cdn.plot.ly/plotly-2.18.2.min.js\"></script>                <div id=\"c1014575-946a-4431-83e1-a164d66a820c\" class=\"plotly-graph-div\" style=\"height:525px; width:100%;\"></div>            <script type=\"text/javascript\">                                    window.PLOTLYENV=window.PLOTLYENV || {};                                    if (document.getElementById(\"c1014575-946a-4431-83e1-a164d66a820c\")) {                    Plotly.newPlot(                        \"c1014575-946a-4431-83e1-a164d66a820c\",                        [{\"alignmentgroup\":\"True\",\"bingroup\":\"x\",\"hovertemplate\":\"latitude=%{x}<br>count=%{y}<extra></extra>\",\"legendgroup\":\"\",\"marker\":{\"color\":\"#636efa\",\"pattern\":{\"shape\":\"\"}},\"name\":\"\",\"offsetgroup\":\"\",\"orientation\":\"v\",\"showlegend\":false,\"x\":[49.262487,49.274566,49.279764,49.260599,49.264215,49.270877,49.26893,49.271721,49.287214,49.282409,49.287097,49.273471,49.282758,49.28602,49.279739,49.277483,49.275679,49.282759,49.288444,49.289124,49.28062,49.279938,49.273663,49.28972,49.285253,49.283343,49.284605,49.279821,49.278004,49.279342,49.273833,49.28526,49.281506,49.276115,49.272827,49.269361,49.2653,49.262598,49.25894,49.258763,49.266724,49.262141,49.268269,49.275717,49.276436,49.277844,49.265089,49.28026,49.291909,49.293257,49.288011,49.28117,49.283227,49.299292,49.29534,49.294318,49.298657,49.259183,49.263837,49.270721,49.265605,49.267222,49.262255,49.257654,49.25919,49.25741,49.285953,49.280881,49.256845,49.25849,49.258425,49.270905,49.273568,49.277141,49.267859,49.265336,49.267628,49.275938,49.2756,49.284157,49.258924,49.266774,49.273355,49.276144,49.268339,49.284062,49.261742,49.262206,49.27023,49.262062,49.27033,49.258902,49.282224,49.265071,49.265198,49.273691,49.2685027,49.278529,49.288682,49.271741,49.262822,49.263635,49.28763,49.297933,49.258819,49.280284,49.276294,49.277469,49.277665,49.277436,49.280332,49.279369,49.283992,49.274881,49.275882,49.273777,49.265005,49.265024,49.271377,49.268616,49.266969,49.263242,49.261403,49.261263,49.262242,49.262321,49.264251,49.266751,49.270684,49.2731,49.254667,49.256694,49.258352,49.258817,49.26151,49.263382,49.261353,49.264466,49.280197,49.266725,49.261188,49.256857,49.283986,49.257985,49.257939,49.256496,49.283236,49.267266,49.265242,49.265213,49.302577,49.277595,49.279235,49.277333,49.273103,49.261973,49.275295,49.285871,49.284893,49.263962,49.277615,49.282214,49.266456,49.268216,49.284554,49.280216,49.266314,49.280852,49.285512,49.27821,49.281301,49.283298,49.280787,49.266476,49.290587,49.312568,49.262835,49.256825,49.275683,49.263518,49.28691,49.282503,49.283749,49.262944,49.27029,49.280427,49.279259,49.285836,49.272969,49.27247,49.271471,49.290112,49.263523,49.264928,49.264483,49.264579,49.263746,49.258761,49.268974,49.273011,49.266924,49.264326,49.266636,49.254818,49.268837,49.255034,49.271044,49.252691,49.272172,49.271082,49.27808,49.269969,49.287528,49.28803,49.259579,49.2890705989865,49.287782,49.28512,49.247854,49.265939,49.261122,49.267725,49.245135,49.274232,49.238105,49.246243,49.249722,49.243375,49.282087,49.283968,49.287464,49.285575,49.251358,49.249184,49.245535,49.289255,49.252656,49.259469,49.277178,49.291597,49.247204,49.2856698],\"xaxis\":\"x\",\"yaxis\":\"y\",\"type\":\"histogram\"},{\"alignmentgroup\":\"True\",\"hovertemplate\":\"latitude=%{x}<extra></extra>\",\"legendgroup\":\"\",\"marker\":{\"color\":\"#636efa\"},\"name\":\"\",\"notched\":true,\"offsetgroup\":\"\",\"showlegend\":false,\"x\":[49.262487,49.274566,49.279764,49.260599,49.264215,49.270877,49.26893,49.271721,49.287214,49.282409,49.287097,49.273471,49.282758,49.28602,49.279739,49.277483,49.275679,49.282759,49.288444,49.289124,49.28062,49.279938,49.273663,49.28972,49.285253,49.283343,49.284605,49.279821,49.278004,49.279342,49.273833,49.28526,49.281506,49.276115,49.272827,49.269361,49.2653,49.262598,49.25894,49.258763,49.266724,49.262141,49.268269,49.275717,49.276436,49.277844,49.265089,49.28026,49.291909,49.293257,49.288011,49.28117,49.283227,49.299292,49.29534,49.294318,49.298657,49.259183,49.263837,49.270721,49.265605,49.267222,49.262255,49.257654,49.25919,49.25741,49.285953,49.280881,49.256845,49.25849,49.258425,49.270905,49.273568,49.277141,49.267859,49.265336,49.267628,49.275938,49.2756,49.284157,49.258924,49.266774,49.273355,49.276144,49.268339,49.284062,49.261742,49.262206,49.27023,49.262062,49.27033,49.258902,49.282224,49.265071,49.265198,49.273691,49.2685027,49.278529,49.288682,49.271741,49.262822,49.263635,49.28763,49.297933,49.258819,49.280284,49.276294,49.277469,49.277665,49.277436,49.280332,49.279369,49.283992,49.274881,49.275882,49.273777,49.265005,49.265024,49.271377,49.268616,49.266969,49.263242,49.261403,49.261263,49.262242,49.262321,49.264251,49.266751,49.270684,49.2731,49.254667,49.256694,49.258352,49.258817,49.26151,49.263382,49.261353,49.264466,49.280197,49.266725,49.261188,49.256857,49.283986,49.257985,49.257939,49.256496,49.283236,49.267266,49.265242,49.265213,49.302577,49.277595,49.279235,49.277333,49.273103,49.261973,49.275295,49.285871,49.284893,49.263962,49.277615,49.282214,49.266456,49.268216,49.284554,49.280216,49.266314,49.280852,49.285512,49.27821,49.281301,49.283298,49.280787,49.266476,49.290587,49.312568,49.262835,49.256825,49.275683,49.263518,49.28691,49.282503,49.283749,49.262944,49.27029,49.280427,49.279259,49.285836,49.272969,49.27247,49.271471,49.290112,49.263523,49.264928,49.264483,49.264579,49.263746,49.258761,49.268974,49.273011,49.266924,49.264326,49.266636,49.254818,49.268837,49.255034,49.271044,49.252691,49.272172,49.271082,49.27808,49.269969,49.287528,49.28803,49.259579,49.2890705989865,49.287782,49.28512,49.247854,49.265939,49.261122,49.267725,49.245135,49.274232,49.238105,49.246243,49.249722,49.243375,49.282087,49.283968,49.287464,49.285575,49.251358,49.249184,49.245535,49.289255,49.252656,49.259469,49.277178,49.291597,49.247204,49.2856698],\"xaxis\":\"x2\",\"yaxis\":\"y2\",\"type\":\"box\"}],                        {\"template\":{\"data\":{\"histogram2dcontour\":[{\"type\":\"histogram2dcontour\",\"colorbar\":{\"outlinewidth\":0,\"ticks\":\"\"},\"colorscale\":[[0.0,\"#0d0887\"],[0.1111111111111111,\"#46039f\"],[0.2222222222222222,\"#7201a8\"],[0.3333333333333333,\"#9c179e\"],[0.4444444444444444,\"#bd3786\"],[0.5555555555555556,\"#d8576b\"],[0.6666666666666666,\"#ed7953\"],[0.7777777777777778,\"#fb9f3a\"],[0.8888888888888888,\"#fdca26\"],[1.0,\"#f0f921\"]]}],\"choropleth\":[{\"type\":\"choropleth\",\"colorbar\":{\"outlinewidth\":0,\"ticks\":\"\"}}],\"histogram2d\":[{\"type\":\"histogram2d\",\"colorbar\":{\"outlinewidth\":0,\"ticks\":\"\"},\"colorscale\":[[0.0,\"#0d0887\"],[0.1111111111111111,\"#46039f\"],[0.2222222222222222,\"#7201a8\"],[0.3333333333333333,\"#9c179e\"],[0.4444444444444444,\"#bd3786\"],[0.5555555555555556,\"#d8576b\"],[0.6666666666666666,\"#ed7953\"],[0.7777777777777778,\"#fb9f3a\"],[0.8888888888888888,\"#fdca26\"],[1.0,\"#f0f921\"]]}],\"heatmap\":[{\"type\":\"heatmap\",\"colorbar\":{\"outlinewidth\":0,\"ticks\":\"\"},\"colorscale\":[[0.0,\"#0d0887\"],[0.1111111111111111,\"#46039f\"],[0.2222222222222222,\"#7201a8\"],[0.3333333333333333,\"#9c179e\"],[0.4444444444444444,\"#bd3786\"],[0.5555555555555556,\"#d8576b\"],[0.6666666666666666,\"#ed7953\"],[0.7777777777777778,\"#fb9f3a\"],[0.8888888888888888,\"#fdca26\"],[1.0,\"#f0f921\"]]}],\"heatmapgl\":[{\"type\":\"heatmapgl\",\"colorbar\":{\"outlinewidth\":0,\"ticks\":\"\"},\"colorscale\":[[0.0,\"#0d0887\"],[0.1111111111111111,\"#46039f\"],[0.2222222222222222,\"#7201a8\"],[0.3333333333333333,\"#9c179e\"],[0.4444444444444444,\"#bd3786\"],[0.5555555555555556,\"#d8576b\"],[0.6666666666666666,\"#ed7953\"],[0.7777777777777778,\"#fb9f3a\"],[0.8888888888888888,\"#fdca26\"],[1.0,\"#f0f921\"]]}],\"contourcarpet\":[{\"type\":\"contourcarpet\",\"colorbar\":{\"outlinewidth\":0,\"ticks\":\"\"}}],\"contour\":[{\"type\":\"contour\",\"colorbar\":{\"outlinewidth\":0,\"ticks\":\"\"},\"colorscale\":[[0.0,\"#0d0887\"],[0.1111111111111111,\"#46039f\"],[0.2222222222222222,\"#7201a8\"],[0.3333333333333333,\"#9c179e\"],[0.4444444444444444,\"#bd3786\"],[0.5555555555555556,\"#d8576b\"],[0.6666666666666666,\"#ed7953\"],[0.7777777777777778,\"#fb9f3a\"],[0.8888888888888888,\"#fdca26\"],[1.0,\"#f0f921\"]]}],\"surface\":[{\"type\":\"surface\",\"colorbar\":{\"outlinewidth\":0,\"ticks\":\"\"},\"colorscale\":[[0.0,\"#0d0887\"],[0.1111111111111111,\"#46039f\"],[0.2222222222222222,\"#7201a8\"],[0.3333333333333333,\"#9c179e\"],[0.4444444444444444,\"#bd3786\"],[0.5555555555555556,\"#d8576b\"],[0.6666666666666666,\"#ed7953\"],[0.7777777777777778,\"#fb9f3a\"],[0.8888888888888888,\"#fdca26\"],[1.0,\"#f0f921\"]]}],\"mesh3d\":[{\"type\":\"mesh3d\",\"colorbar\":{\"outlinewidth\":0,\"ticks\":\"\"}}],\"scatter\":[{\"fillpattern\":{\"fillmode\":\"overlay\",\"size\":10,\"solidity\":0.2},\"type\":\"scatter\"}],\"parcoords\":[{\"type\":\"parcoords\",\"line\":{\"colorbar\":{\"outlinewidth\":0,\"ticks\":\"\"}}}],\"scatterpolargl\":[{\"type\":\"scatterpolargl\",\"marker\":{\"colorbar\":{\"outlinewidth\":0,\"ticks\":\"\"}}}],\"bar\":[{\"error_x\":{\"color\":\"#2a3f5f\"},\"error_y\":{\"color\":\"#2a3f5f\"},\"marker\":{\"line\":{\"color\":\"#E5ECF6\",\"width\":0.5},\"pattern\":{\"fillmode\":\"overlay\",\"size\":10,\"solidity\":0.2}},\"type\":\"bar\"}],\"scattergeo\":[{\"type\":\"scattergeo\",\"marker\":{\"colorbar\":{\"outlinewidth\":0,\"ticks\":\"\"}}}],\"scatterpolar\":[{\"type\":\"scatterpolar\",\"marker\":{\"colorbar\":{\"outlinewidth\":0,\"ticks\":\"\"}}}],\"histogram\":[{\"marker\":{\"pattern\":{\"fillmode\":\"overlay\",\"size\":10,\"solidity\":0.2}},\"type\":\"histogram\"}],\"scattergl\":[{\"type\":\"scattergl\",\"marker\":{\"colorbar\":{\"outlinewidth\":0,\"ticks\":\"\"}}}],\"scatter3d\":[{\"type\":\"scatter3d\",\"line\":{\"colorbar\":{\"outlinewidth\":0,\"ticks\":\"\"}},\"marker\":{\"colorbar\":{\"outlinewidth\":0,\"ticks\":\"\"}}}],\"scattermapbox\":[{\"type\":\"scattermapbox\",\"marker\":{\"colorbar\":{\"outlinewidth\":0,\"ticks\":\"\"}}}],\"scatterternary\":[{\"type\":\"scatterternary\",\"marker\":{\"colorbar\":{\"outlinewidth\":0,\"ticks\":\"\"}}}],\"scattercarpet\":[{\"type\":\"scattercarpet\",\"marker\":{\"colorbar\":{\"outlinewidth\":0,\"ticks\":\"\"}}}],\"carpet\":[{\"aaxis\":{\"endlinecolor\":\"#2a3f5f\",\"gridcolor\":\"white\",\"linecolor\":\"white\",\"minorgridcolor\":\"white\",\"startlinecolor\":\"#2a3f5f\"},\"baxis\":{\"endlinecolor\":\"#2a3f5f\",\"gridcolor\":\"white\",\"linecolor\":\"white\",\"minorgridcolor\":\"white\",\"startlinecolor\":\"#2a3f5f\"},\"type\":\"carpet\"}],\"table\":[{\"cells\":{\"fill\":{\"color\":\"#EBF0F8\"},\"line\":{\"color\":\"white\"}},\"header\":{\"fill\":{\"color\":\"#C8D4E3\"},\"line\":{\"color\":\"white\"}},\"type\":\"table\"}],\"barpolar\":[{\"marker\":{\"line\":{\"color\":\"#E5ECF6\",\"width\":0.5},\"pattern\":{\"fillmode\":\"overlay\",\"size\":10,\"solidity\":0.2}},\"type\":\"barpolar\"}],\"pie\":[{\"automargin\":true,\"type\":\"pie\"}]},\"layout\":{\"autotypenumbers\":\"strict\",\"colorway\":[\"#636efa\",\"#EF553B\",\"#00cc96\",\"#ab63fa\",\"#FFA15A\",\"#19d3f3\",\"#FF6692\",\"#B6E880\",\"#FF97FF\",\"#FECB52\"],\"font\":{\"color\":\"#2a3f5f\"},\"hovermode\":\"closest\",\"hoverlabel\":{\"align\":\"left\"},\"paper_bgcolor\":\"white\",\"plot_bgcolor\":\"#E5ECF6\",\"polar\":{\"bgcolor\":\"#E5ECF6\",\"angularaxis\":{\"gridcolor\":\"white\",\"linecolor\":\"white\",\"ticks\":\"\"},\"radialaxis\":{\"gridcolor\":\"white\",\"linecolor\":\"white\",\"ticks\":\"\"}},\"ternary\":{\"bgcolor\":\"#E5ECF6\",\"aaxis\":{\"gridcolor\":\"white\",\"linecolor\":\"white\",\"ticks\":\"\"},\"baxis\":{\"gridcolor\":\"white\",\"linecolor\":\"white\",\"ticks\":\"\"},\"caxis\":{\"gridcolor\":\"white\",\"linecolor\":\"white\",\"ticks\":\"\"}},\"coloraxis\":{\"colorbar\":{\"outlinewidth\":0,\"ticks\":\"\"}},\"colorscale\":{\"sequential\":[[0.0,\"#0d0887\"],[0.1111111111111111,\"#46039f\"],[0.2222222222222222,\"#7201a8\"],[0.3333333333333333,\"#9c179e\"],[0.4444444444444444,\"#bd3786\"],[0.5555555555555556,\"#d8576b\"],[0.6666666666666666,\"#ed7953\"],[0.7777777777777778,\"#fb9f3a\"],[0.8888888888888888,\"#fdca26\"],[1.0,\"#f0f921\"]],\"sequentialminus\":[[0.0,\"#0d0887\"],[0.1111111111111111,\"#46039f\"],[0.2222222222222222,\"#7201a8\"],[0.3333333333333333,\"#9c179e\"],[0.4444444444444444,\"#bd3786\"],[0.5555555555555556,\"#d8576b\"],[0.6666666666666666,\"#ed7953\"],[0.7777777777777778,\"#fb9f3a\"],[0.8888888888888888,\"#fdca26\"],[1.0,\"#f0f921\"]],\"diverging\":[[0,\"#8e0152\"],[0.1,\"#c51b7d\"],[0.2,\"#de77ae\"],[0.3,\"#f1b6da\"],[0.4,\"#fde0ef\"],[0.5,\"#f7f7f7\"],[0.6,\"#e6f5d0\"],[0.7,\"#b8e186\"],[0.8,\"#7fbc41\"],[0.9,\"#4d9221\"],[1,\"#276419\"]]},\"xaxis\":{\"gridcolor\":\"white\",\"linecolor\":\"white\",\"ticks\":\"\",\"title\":{\"standoff\":15},\"zerolinecolor\":\"white\",\"automargin\":true,\"zerolinewidth\":2},\"yaxis\":{\"gridcolor\":\"white\",\"linecolor\":\"white\",\"ticks\":\"\",\"title\":{\"standoff\":15},\"zerolinecolor\":\"white\",\"automargin\":true,\"zerolinewidth\":2},\"scene\":{\"xaxis\":{\"backgroundcolor\":\"#E5ECF6\",\"gridcolor\":\"white\",\"linecolor\":\"white\",\"showbackground\":true,\"ticks\":\"\",\"zerolinecolor\":\"white\",\"gridwidth\":2},\"yaxis\":{\"backgroundcolor\":\"#E5ECF6\",\"gridcolor\":\"white\",\"linecolor\":\"white\",\"showbackground\":true,\"ticks\":\"\",\"zerolinecolor\":\"white\",\"gridwidth\":2},\"zaxis\":{\"backgroundcolor\":\"#E5ECF6\",\"gridcolor\":\"white\",\"linecolor\":\"white\",\"showbackground\":true,\"ticks\":\"\",\"zerolinecolor\":\"white\",\"gridwidth\":2}},\"shapedefaults\":{\"line\":{\"color\":\"#2a3f5f\"}},\"annotationdefaults\":{\"arrowcolor\":\"#2a3f5f\",\"arrowhead\":0,\"arrowwidth\":1},\"geo\":{\"bgcolor\":\"white\",\"landcolor\":\"#E5ECF6\",\"subunitcolor\":\"white\",\"showland\":true,\"showlakes\":true,\"lakecolor\":\"white\"},\"title\":{\"x\":0.05},\"mapbox\":{\"style\":\"light\"}}},\"xaxis\":{\"anchor\":\"y\",\"domain\":[0.0,1.0],\"title\":{\"text\":\"latitude\"}},\"yaxis\":{\"anchor\":\"x\",\"domain\":[0.0,0.8316],\"title\":{\"text\":\"count\"}},\"xaxis2\":{\"anchor\":\"y2\",\"domain\":[0.0,1.0],\"matches\":\"x\",\"showticklabels\":false,\"showgrid\":true},\"yaxis2\":{\"anchor\":\"x2\",\"domain\":[0.8416,1.0],\"matches\":\"y2\",\"showticklabels\":false,\"showline\":false,\"ticks\":\"\",\"showgrid\":false},\"legend\":{\"tracegroupgap\":0},\"margin\":{\"t\":60},\"barmode\":\"relative\"},                        {\"responsive\": true}                    ).then(function(){\n",
              "                            \n",
              "var gd = document.getElementById('c1014575-946a-4431-83e1-a164d66a820c');\n",
              "var x = new MutationObserver(function (mutations, observer) {{\n",
              "        var display = window.getComputedStyle(gd).display;\n",
              "        if (!display || display === 'none') {{\n",
              "            console.log([gd, 'removed!']);\n",
              "            Plotly.purge(gd);\n",
              "            observer.disconnect();\n",
              "        }}\n",
              "}});\n",
              "\n",
              "// Listen for the removal of the full notebook cells\n",
              "var notebookContainer = gd.closest('#notebook-container');\n",
              "if (notebookContainer) {{\n",
              "    x.observe(notebookContainer, {childList: true});\n",
              "}}\n",
              "\n",
              "// Listen for the clearing of the current output cell\n",
              "var outputEl = gd.closest('.output');\n",
              "if (outputEl) {{\n",
              "    x.observe(outputEl, {childList: true});\n",
              "}}\n",
              "\n",
              "                        })                };                            </script>        </div>\n",
              "</body>\n",
              "</html>"
            ]
          },
          "metadata": {}
        },
        {
          "output_type": "display_data",
          "data": {
            "text/html": [
              "<html>\n",
              "<head><meta charset=\"utf-8\" /></head>\n",
              "<body>\n",
              "    <div>            <script src=\"https://cdnjs.cloudflare.com/ajax/libs/mathjax/2.7.5/MathJax.js?config=TeX-AMS-MML_SVG\"></script><script type=\"text/javascript\">if (window.MathJax && window.MathJax.Hub && window.MathJax.Hub.Config) {window.MathJax.Hub.Config({SVG: {font: \"STIX-Web\"}});}</script>                <script type=\"text/javascript\">window.PlotlyConfig = {MathJaxConfig: 'local'};</script>\n",
              "        <script src=\"https://cdn.plot.ly/plotly-2.18.2.min.js\"></script>                <div id=\"4ff8239f-a716-4bf5-9ec4-d52966d234ee\" class=\"plotly-graph-div\" style=\"height:525px; width:100%;\"></div>            <script type=\"text/javascript\">                                    window.PLOTLYENV=window.PLOTLYENV || {};                                    if (document.getElementById(\"4ff8239f-a716-4bf5-9ec4-d52966d234ee\")) {                    Plotly.newPlot(                        \"4ff8239f-a716-4bf5-9ec4-d52966d234ee\",                        [{\"alignmentgroup\":\"True\",\"bingroup\":\"x\",\"hovertemplate\":\"longitude=%{x}<br>count=%{y}<extra></extra>\",\"legendgroup\":\"\",\"marker\":{\"color\":\"#636efa\",\"pattern\":{\"shape\":\"\"}},\"name\":\"\",\"offsetgroup\":\"\",\"orientation\":\"v\",\"showlegend\":false,\"x\":[-123.114397,-123.121817,-123.110154,-123.113504,-123.117772,-123.115103,-123.11813,-123.104207,-123.11287,-123.118541,-123.118551,-123.118016,-123.122092,-123.116624,-123.116251,-123.114279,-123.116963,-123.106955,-123.139203,-123.12196,-123.12482,-123.127478,-123.127075,-123.144028,-123.134356,-123.131099,-123.108662,-123.10802,-123.105664,-123.101822,-123.114373,-123.141809,-123.120101,-123.114496,-123.147744,-123.13782,-123.13811,-123.138921,-123.139272,-123.115392,-123.104824,-123.101961,-123.147885,-123.142564,-123.11877,-123.120942,-123.119425,-123.135244,-123.140713,-123.138563,-123.132006,-123.104419,-123.120523,-123.130281,-123.150433,-123.148808,-123.121176,-123.120126,-123.105173,-123.146175,-123.152566,-123.153157,-123.126217,-123.153212,-123.148268,-123.148531,-123.124066,-123.130672,-123.120071,-123.104799,-123.100792,-123.126006,-123.129935,-123.122589,-123.145782,-123.145823,-123.127698,-123.145939,-123.102661,-123.099917,-123.152591,-123.141135,-123.154493,-123.151272,-123.157443,-123.095097,-123.13148,-123.109091,-123.10651,-123.104656,-123.10275,-123.109596,-123.132778,-123.123864,-123.131043,-123.102232,-123.0975014,-123.100017,-123.11818,-123.155421,-123.14338,-123.099236,-123.127245,-123.130758,-123.131317,-123.097052,-123.106534,-123.081315,-123.073653,-123.070427,-123.070068,-123.091241,-123.091206,-123.069323,-123.071865,-123.092723,-123.079481,-123.08127,-123.069416,-123.069908,-123.069936,-123.070521,-123.070102,-123.073707,-123.081459,-123.09306,-123.073853,-123.073501,-123.073562,-123.0732,-123.101389,-123.096579,-123.096337,-123.092797,-123.089413,-123.088837,-123.085333,-123.085183,-123.065859,-123.065925,-123.066009,-123.065646,-123.065264,-123.083366,-123.089531,-123.075426,-123.070443,-123.090786,-123.095577,-123.090785,-123.155616,-123.09583,-123.087528,-123.087359,-123.069892,-123.09725,-123.132585,-123.12105,-123.128685,-123.112621,-123.091654,-123.114101,-123.100324,-123.103168,-123.111031,-123.117639,-123.116011,-123.084746,-123.1384,-123.136972,-123.139108,-123.142288,-123.115271,-123.109389,-123.13625,-123.144177,-123.152626,-123.105234,-123.124388,-123.09568,-123.128818,-123.124697,-123.136133,-123.148109,-123.135025,-123.074082,-123.119145,-123.127265,-123.164325,-123.185643,-123.17731,-123.127062,-123.155267,-123.168068,-123.173926,-123.18373,-123.069892,-123.127071,-123.190701,-123.159663,-123.173849,-123.164725,-123.183661,-123.114785,-123.177633,-123.120226,-123.170661,-123.101289,-123.097978,-123.191458,-123.130557,-123.109623,-123.142139,-123.142135,-123.114769,-123.138407369468,-123.12395,-123.11242,-123.153422,-123.1129,-123.097571,-123.11311,-123.116098,-123.129998,-123.154966,-123.124373,-123.104991,-123.104978,-123.056909,-123.061615,-123.060771,-123.061575,-123.115637,-123.116141,-123.120496,-123.132677,-123.067965,-123.145718,-123.13,-123.129158,-123.101549,-123.1125432],\"xaxis\":\"x\",\"yaxis\":\"y\",\"type\":\"histogram\"},{\"alignmentgroup\":\"True\",\"hovertemplate\":\"longitude=%{x}<extra></extra>\",\"legendgroup\":\"\",\"marker\":{\"color\":\"#636efa\"},\"name\":\"\",\"notched\":true,\"offsetgroup\":\"\",\"showlegend\":false,\"x\":[-123.114397,-123.121817,-123.110154,-123.113504,-123.117772,-123.115103,-123.11813,-123.104207,-123.11287,-123.118541,-123.118551,-123.118016,-123.122092,-123.116624,-123.116251,-123.114279,-123.116963,-123.106955,-123.139203,-123.12196,-123.12482,-123.127478,-123.127075,-123.144028,-123.134356,-123.131099,-123.108662,-123.10802,-123.105664,-123.101822,-123.114373,-123.141809,-123.120101,-123.114496,-123.147744,-123.13782,-123.13811,-123.138921,-123.139272,-123.115392,-123.104824,-123.101961,-123.147885,-123.142564,-123.11877,-123.120942,-123.119425,-123.135244,-123.140713,-123.138563,-123.132006,-123.104419,-123.120523,-123.130281,-123.150433,-123.148808,-123.121176,-123.120126,-123.105173,-123.146175,-123.152566,-123.153157,-123.126217,-123.153212,-123.148268,-123.148531,-123.124066,-123.130672,-123.120071,-123.104799,-123.100792,-123.126006,-123.129935,-123.122589,-123.145782,-123.145823,-123.127698,-123.145939,-123.102661,-123.099917,-123.152591,-123.141135,-123.154493,-123.151272,-123.157443,-123.095097,-123.13148,-123.109091,-123.10651,-123.104656,-123.10275,-123.109596,-123.132778,-123.123864,-123.131043,-123.102232,-123.0975014,-123.100017,-123.11818,-123.155421,-123.14338,-123.099236,-123.127245,-123.130758,-123.131317,-123.097052,-123.106534,-123.081315,-123.073653,-123.070427,-123.070068,-123.091241,-123.091206,-123.069323,-123.071865,-123.092723,-123.079481,-123.08127,-123.069416,-123.069908,-123.069936,-123.070521,-123.070102,-123.073707,-123.081459,-123.09306,-123.073853,-123.073501,-123.073562,-123.0732,-123.101389,-123.096579,-123.096337,-123.092797,-123.089413,-123.088837,-123.085333,-123.085183,-123.065859,-123.065925,-123.066009,-123.065646,-123.065264,-123.083366,-123.089531,-123.075426,-123.070443,-123.090786,-123.095577,-123.090785,-123.155616,-123.09583,-123.087528,-123.087359,-123.069892,-123.09725,-123.132585,-123.12105,-123.128685,-123.112621,-123.091654,-123.114101,-123.100324,-123.103168,-123.111031,-123.117639,-123.116011,-123.084746,-123.1384,-123.136972,-123.139108,-123.142288,-123.115271,-123.109389,-123.13625,-123.144177,-123.152626,-123.105234,-123.124388,-123.09568,-123.128818,-123.124697,-123.136133,-123.148109,-123.135025,-123.074082,-123.119145,-123.127265,-123.164325,-123.185643,-123.17731,-123.127062,-123.155267,-123.168068,-123.173926,-123.18373,-123.069892,-123.127071,-123.190701,-123.159663,-123.173849,-123.164725,-123.183661,-123.114785,-123.177633,-123.120226,-123.170661,-123.101289,-123.097978,-123.191458,-123.130557,-123.109623,-123.142139,-123.142135,-123.114769,-123.138407369468,-123.12395,-123.11242,-123.153422,-123.1129,-123.097571,-123.11311,-123.116098,-123.129998,-123.154966,-123.124373,-123.104991,-123.104978,-123.056909,-123.061615,-123.060771,-123.061575,-123.115637,-123.116141,-123.120496,-123.132677,-123.067965,-123.145718,-123.13,-123.129158,-123.101549,-123.1125432],\"xaxis\":\"x2\",\"yaxis\":\"y2\",\"type\":\"box\"}],                        {\"template\":{\"data\":{\"histogram2dcontour\":[{\"type\":\"histogram2dcontour\",\"colorbar\":{\"outlinewidth\":0,\"ticks\":\"\"},\"colorscale\":[[0.0,\"#0d0887\"],[0.1111111111111111,\"#46039f\"],[0.2222222222222222,\"#7201a8\"],[0.3333333333333333,\"#9c179e\"],[0.4444444444444444,\"#bd3786\"],[0.5555555555555556,\"#d8576b\"],[0.6666666666666666,\"#ed7953\"],[0.7777777777777778,\"#fb9f3a\"],[0.8888888888888888,\"#fdca26\"],[1.0,\"#f0f921\"]]}],\"choropleth\":[{\"type\":\"choropleth\",\"colorbar\":{\"outlinewidth\":0,\"ticks\":\"\"}}],\"histogram2d\":[{\"type\":\"histogram2d\",\"colorbar\":{\"outlinewidth\":0,\"ticks\":\"\"},\"colorscale\":[[0.0,\"#0d0887\"],[0.1111111111111111,\"#46039f\"],[0.2222222222222222,\"#7201a8\"],[0.3333333333333333,\"#9c179e\"],[0.4444444444444444,\"#bd3786\"],[0.5555555555555556,\"#d8576b\"],[0.6666666666666666,\"#ed7953\"],[0.7777777777777778,\"#fb9f3a\"],[0.8888888888888888,\"#fdca26\"],[1.0,\"#f0f921\"]]}],\"heatmap\":[{\"type\":\"heatmap\",\"colorbar\":{\"outlinewidth\":0,\"ticks\":\"\"},\"colorscale\":[[0.0,\"#0d0887\"],[0.1111111111111111,\"#46039f\"],[0.2222222222222222,\"#7201a8\"],[0.3333333333333333,\"#9c179e\"],[0.4444444444444444,\"#bd3786\"],[0.5555555555555556,\"#d8576b\"],[0.6666666666666666,\"#ed7953\"],[0.7777777777777778,\"#fb9f3a\"],[0.8888888888888888,\"#fdca26\"],[1.0,\"#f0f921\"]]}],\"heatmapgl\":[{\"type\":\"heatmapgl\",\"colorbar\":{\"outlinewidth\":0,\"ticks\":\"\"},\"colorscale\":[[0.0,\"#0d0887\"],[0.1111111111111111,\"#46039f\"],[0.2222222222222222,\"#7201a8\"],[0.3333333333333333,\"#9c179e\"],[0.4444444444444444,\"#bd3786\"],[0.5555555555555556,\"#d8576b\"],[0.6666666666666666,\"#ed7953\"],[0.7777777777777778,\"#fb9f3a\"],[0.8888888888888888,\"#fdca26\"],[1.0,\"#f0f921\"]]}],\"contourcarpet\":[{\"type\":\"contourcarpet\",\"colorbar\":{\"outlinewidth\":0,\"ticks\":\"\"}}],\"contour\":[{\"type\":\"contour\",\"colorbar\":{\"outlinewidth\":0,\"ticks\":\"\"},\"colorscale\":[[0.0,\"#0d0887\"],[0.1111111111111111,\"#46039f\"],[0.2222222222222222,\"#7201a8\"],[0.3333333333333333,\"#9c179e\"],[0.4444444444444444,\"#bd3786\"],[0.5555555555555556,\"#d8576b\"],[0.6666666666666666,\"#ed7953\"],[0.7777777777777778,\"#fb9f3a\"],[0.8888888888888888,\"#fdca26\"],[1.0,\"#f0f921\"]]}],\"surface\":[{\"type\":\"surface\",\"colorbar\":{\"outlinewidth\":0,\"ticks\":\"\"},\"colorscale\":[[0.0,\"#0d0887\"],[0.1111111111111111,\"#46039f\"],[0.2222222222222222,\"#7201a8\"],[0.3333333333333333,\"#9c179e\"],[0.4444444444444444,\"#bd3786\"],[0.5555555555555556,\"#d8576b\"],[0.6666666666666666,\"#ed7953\"],[0.7777777777777778,\"#fb9f3a\"],[0.8888888888888888,\"#fdca26\"],[1.0,\"#f0f921\"]]}],\"mesh3d\":[{\"type\":\"mesh3d\",\"colorbar\":{\"outlinewidth\":0,\"ticks\":\"\"}}],\"scatter\":[{\"fillpattern\":{\"fillmode\":\"overlay\",\"size\":10,\"solidity\":0.2},\"type\":\"scatter\"}],\"parcoords\":[{\"type\":\"parcoords\",\"line\":{\"colorbar\":{\"outlinewidth\":0,\"ticks\":\"\"}}}],\"scatterpolargl\":[{\"type\":\"scatterpolargl\",\"marker\":{\"colorbar\":{\"outlinewidth\":0,\"ticks\":\"\"}}}],\"bar\":[{\"error_x\":{\"color\":\"#2a3f5f\"},\"error_y\":{\"color\":\"#2a3f5f\"},\"marker\":{\"line\":{\"color\":\"#E5ECF6\",\"width\":0.5},\"pattern\":{\"fillmode\":\"overlay\",\"size\":10,\"solidity\":0.2}},\"type\":\"bar\"}],\"scattergeo\":[{\"type\":\"scattergeo\",\"marker\":{\"colorbar\":{\"outlinewidth\":0,\"ticks\":\"\"}}}],\"scatterpolar\":[{\"type\":\"scatterpolar\",\"marker\":{\"colorbar\":{\"outlinewidth\":0,\"ticks\":\"\"}}}],\"histogram\":[{\"marker\":{\"pattern\":{\"fillmode\":\"overlay\",\"size\":10,\"solidity\":0.2}},\"type\":\"histogram\"}],\"scattergl\":[{\"type\":\"scattergl\",\"marker\":{\"colorbar\":{\"outlinewidth\":0,\"ticks\":\"\"}}}],\"scatter3d\":[{\"type\":\"scatter3d\",\"line\":{\"colorbar\":{\"outlinewidth\":0,\"ticks\":\"\"}},\"marker\":{\"colorbar\":{\"outlinewidth\":0,\"ticks\":\"\"}}}],\"scattermapbox\":[{\"type\":\"scattermapbox\",\"marker\":{\"colorbar\":{\"outlinewidth\":0,\"ticks\":\"\"}}}],\"scatterternary\":[{\"type\":\"scatterternary\",\"marker\":{\"colorbar\":{\"outlinewidth\":0,\"ticks\":\"\"}}}],\"scattercarpet\":[{\"type\":\"scattercarpet\",\"marker\":{\"colorbar\":{\"outlinewidth\":0,\"ticks\":\"\"}}}],\"carpet\":[{\"aaxis\":{\"endlinecolor\":\"#2a3f5f\",\"gridcolor\":\"white\",\"linecolor\":\"white\",\"minorgridcolor\":\"white\",\"startlinecolor\":\"#2a3f5f\"},\"baxis\":{\"endlinecolor\":\"#2a3f5f\",\"gridcolor\":\"white\",\"linecolor\":\"white\",\"minorgridcolor\":\"white\",\"startlinecolor\":\"#2a3f5f\"},\"type\":\"carpet\"}],\"table\":[{\"cells\":{\"fill\":{\"color\":\"#EBF0F8\"},\"line\":{\"color\":\"white\"}},\"header\":{\"fill\":{\"color\":\"#C8D4E3\"},\"line\":{\"color\":\"white\"}},\"type\":\"table\"}],\"barpolar\":[{\"marker\":{\"line\":{\"color\":\"#E5ECF6\",\"width\":0.5},\"pattern\":{\"fillmode\":\"overlay\",\"size\":10,\"solidity\":0.2}},\"type\":\"barpolar\"}],\"pie\":[{\"automargin\":true,\"type\":\"pie\"}]},\"layout\":{\"autotypenumbers\":\"strict\",\"colorway\":[\"#636efa\",\"#EF553B\",\"#00cc96\",\"#ab63fa\",\"#FFA15A\",\"#19d3f3\",\"#FF6692\",\"#B6E880\",\"#FF97FF\",\"#FECB52\"],\"font\":{\"color\":\"#2a3f5f\"},\"hovermode\":\"closest\",\"hoverlabel\":{\"align\":\"left\"},\"paper_bgcolor\":\"white\",\"plot_bgcolor\":\"#E5ECF6\",\"polar\":{\"bgcolor\":\"#E5ECF6\",\"angularaxis\":{\"gridcolor\":\"white\",\"linecolor\":\"white\",\"ticks\":\"\"},\"radialaxis\":{\"gridcolor\":\"white\",\"linecolor\":\"white\",\"ticks\":\"\"}},\"ternary\":{\"bgcolor\":\"#E5ECF6\",\"aaxis\":{\"gridcolor\":\"white\",\"linecolor\":\"white\",\"ticks\":\"\"},\"baxis\":{\"gridcolor\":\"white\",\"linecolor\":\"white\",\"ticks\":\"\"},\"caxis\":{\"gridcolor\":\"white\",\"linecolor\":\"white\",\"ticks\":\"\"}},\"coloraxis\":{\"colorbar\":{\"outlinewidth\":0,\"ticks\":\"\"}},\"colorscale\":{\"sequential\":[[0.0,\"#0d0887\"],[0.1111111111111111,\"#46039f\"],[0.2222222222222222,\"#7201a8\"],[0.3333333333333333,\"#9c179e\"],[0.4444444444444444,\"#bd3786\"],[0.5555555555555556,\"#d8576b\"],[0.6666666666666666,\"#ed7953\"],[0.7777777777777778,\"#fb9f3a\"],[0.8888888888888888,\"#fdca26\"],[1.0,\"#f0f921\"]],\"sequentialminus\":[[0.0,\"#0d0887\"],[0.1111111111111111,\"#46039f\"],[0.2222222222222222,\"#7201a8\"],[0.3333333333333333,\"#9c179e\"],[0.4444444444444444,\"#bd3786\"],[0.5555555555555556,\"#d8576b\"],[0.6666666666666666,\"#ed7953\"],[0.7777777777777778,\"#fb9f3a\"],[0.8888888888888888,\"#fdca26\"],[1.0,\"#f0f921\"]],\"diverging\":[[0,\"#8e0152\"],[0.1,\"#c51b7d\"],[0.2,\"#de77ae\"],[0.3,\"#f1b6da\"],[0.4,\"#fde0ef\"],[0.5,\"#f7f7f7\"],[0.6,\"#e6f5d0\"],[0.7,\"#b8e186\"],[0.8,\"#7fbc41\"],[0.9,\"#4d9221\"],[1,\"#276419\"]]},\"xaxis\":{\"gridcolor\":\"white\",\"linecolor\":\"white\",\"ticks\":\"\",\"title\":{\"standoff\":15},\"zerolinecolor\":\"white\",\"automargin\":true,\"zerolinewidth\":2},\"yaxis\":{\"gridcolor\":\"white\",\"linecolor\":\"white\",\"ticks\":\"\",\"title\":{\"standoff\":15},\"zerolinecolor\":\"white\",\"automargin\":true,\"zerolinewidth\":2},\"scene\":{\"xaxis\":{\"backgroundcolor\":\"#E5ECF6\",\"gridcolor\":\"white\",\"linecolor\":\"white\",\"showbackground\":true,\"ticks\":\"\",\"zerolinecolor\":\"white\",\"gridwidth\":2},\"yaxis\":{\"backgroundcolor\":\"#E5ECF6\",\"gridcolor\":\"white\",\"linecolor\":\"white\",\"showbackground\":true,\"ticks\":\"\",\"zerolinecolor\":\"white\",\"gridwidth\":2},\"zaxis\":{\"backgroundcolor\":\"#E5ECF6\",\"gridcolor\":\"white\",\"linecolor\":\"white\",\"showbackground\":true,\"ticks\":\"\",\"zerolinecolor\":\"white\",\"gridwidth\":2}},\"shapedefaults\":{\"line\":{\"color\":\"#2a3f5f\"}},\"annotationdefaults\":{\"arrowcolor\":\"#2a3f5f\",\"arrowhead\":0,\"arrowwidth\":1},\"geo\":{\"bgcolor\":\"white\",\"landcolor\":\"#E5ECF6\",\"subunitcolor\":\"white\",\"showland\":true,\"showlakes\":true,\"lakecolor\":\"white\"},\"title\":{\"x\":0.05},\"mapbox\":{\"style\":\"light\"}}},\"xaxis\":{\"anchor\":\"y\",\"domain\":[0.0,1.0],\"title\":{\"text\":\"longitude\"}},\"yaxis\":{\"anchor\":\"x\",\"domain\":[0.0,0.8316],\"title\":{\"text\":\"count\"}},\"xaxis2\":{\"anchor\":\"y2\",\"domain\":[0.0,1.0],\"matches\":\"x\",\"showticklabels\":false,\"showgrid\":true},\"yaxis2\":{\"anchor\":\"x2\",\"domain\":[0.8416,1.0],\"matches\":\"y2\",\"showticklabels\":false,\"showline\":false,\"ticks\":\"\",\"showgrid\":false},\"legend\":{\"tracegroupgap\":0},\"margin\":{\"t\":60},\"barmode\":\"relative\"},                        {\"responsive\": true}                    ).then(function(){\n",
              "                            \n",
              "var gd = document.getElementById('4ff8239f-a716-4bf5-9ec4-d52966d234ee');\n",
              "var x = new MutationObserver(function (mutations, observer) {{\n",
              "        var display = window.getComputedStyle(gd).display;\n",
              "        if (!display || display === 'none') {{\n",
              "            console.log([gd, 'removed!']);\n",
              "            Plotly.purge(gd);\n",
              "            observer.disconnect();\n",
              "        }}\n",
              "}});\n",
              "\n",
              "// Listen for the removal of the full notebook cells\n",
              "var notebookContainer = gd.closest('#notebook-container');\n",
              "if (notebookContainer) {{\n",
              "    x.observe(notebookContainer, {childList: true});\n",
              "}}\n",
              "\n",
              "// Listen for the clearing of the current output cell\n",
              "var outputEl = gd.closest('.output');\n",
              "if (outputEl) {{\n",
              "    x.observe(outputEl, {childList: true});\n",
              "}}\n",
              "\n",
              "                        })                };                            </script>        </div>\n",
              "</body>\n",
              "</html>"
            ]
          },
          "metadata": {}
        },
        {
          "output_type": "display_data",
          "data": {
            "text/html": [
              "<html>\n",
              "<head><meta charset=\"utf-8\" /></head>\n",
              "<body>\n",
              "    <div>            <script src=\"https://cdnjs.cloudflare.com/ajax/libs/mathjax/2.7.5/MathJax.js?config=TeX-AMS-MML_SVG\"></script><script type=\"text/javascript\">if (window.MathJax && window.MathJax.Hub && window.MathJax.Hub.Config) {window.MathJax.Hub.Config({SVG: {font: \"STIX-Web\"}});}</script>                <script type=\"text/javascript\">window.PlotlyConfig = {MathJaxConfig: 'local'};</script>\n",
              "        <script src=\"https://cdn.plot.ly/plotly-2.18.2.min.js\"></script>                <div id=\"6438dd3b-afa2-4307-b73d-b27cdec3468b\" class=\"plotly-graph-div\" style=\"height:525px; width:100%;\"></div>            <script type=\"text/javascript\">                                    window.PLOTLYENV=window.PLOTLYENV || {};                                    if (document.getElementById(\"6438dd3b-afa2-4307-b73d-b27cdec3468b\")) {                    Plotly.newPlot(                        \"6438dd3b-afa2-4307-b73d-b27cdec3468b\",                        [{\"alignmentgroup\":\"True\",\"bingroup\":\"x\",\"hovertemplate\":\"location_count=%{x}<br>count=%{y}<extra></extra>\",\"legendgroup\":\"\",\"marker\":{\"color\":\"#636efa\",\"pattern\":{\"shape\":\"\"}},\"name\":\"\",\"offsetgroup\":\"\",\"orientation\":\"v\",\"showlegend\":false,\"x\":[0,0,0,0,0,3,4,1,0,0,0,2,0,0,0,0,0,0,0,1,0,0,2,0,0,0,0,0,1,0,2,0,0,2,1,0,0,0,0,0,0,0,0,1,0,0,1,0,0,0,0,0,0,0,0,0,1,0,0,0,0,0,1,1,1,0,0,0,0,1,0,3,2,0,0,0,3,1,1,1,1,0,0,1,0,1,0,0,0,0,0,1,0,1,1,1,0,0,0,0,0,0,0,0,0,0,1,0,0,0,0,0,0,0,0,0,0,0,0,0,0,0,0,0,0,0,0,0,1,1,0,0,0,1,0,0,0,0,0,0,0,1,0,0,0,0,0,0,0,0,1,0,0,0,1,0,1,0,0,0,0,0,0,0,0,0,0,0,0,1,1,0,0,0,0,1,1,1,0,0,0,0,0,0,0,0,0,0,1,1,2,1,1,0,0,0,0,0,1,0,0,1,0,0,0,0,1,0,1,1,0,2,0,0,0,0,1,0,1,0,0,0,0,1,0,0,0,1,1,1,2,1,0,0,0,0,0,0,0,0,0,0],\"xaxis\":\"x\",\"yaxis\":\"y\",\"type\":\"histogram\"},{\"alignmentgroup\":\"True\",\"hovertemplate\":\"location_count=%{x}<extra></extra>\",\"legendgroup\":\"\",\"marker\":{\"color\":\"#636efa\"},\"name\":\"\",\"notched\":true,\"offsetgroup\":\"\",\"showlegend\":false,\"x\":[0,0,0,0,0,3,4,1,0,0,0,2,0,0,0,0,0,0,0,1,0,0,2,0,0,0,0,0,1,0,2,0,0,2,1,0,0,0,0,0,0,0,0,1,0,0,1,0,0,0,0,0,0,0,0,0,1,0,0,0,0,0,1,1,1,0,0,0,0,1,0,3,2,0,0,0,3,1,1,1,1,0,0,1,0,1,0,0,0,0,0,1,0,1,1,1,0,0,0,0,0,0,0,0,0,0,1,0,0,0,0,0,0,0,0,0,0,0,0,0,0,0,0,0,0,0,0,0,1,1,0,0,0,1,0,0,0,0,0,0,0,1,0,0,0,0,0,0,0,0,1,0,0,0,1,0,1,0,0,0,0,0,0,0,0,0,0,0,0,1,1,0,0,0,0,1,1,1,0,0,0,0,0,0,0,0,0,0,1,1,2,1,1,0,0,0,0,0,1,0,0,1,0,0,0,0,1,0,1,1,0,2,0,0,0,0,1,0,1,0,0,0,0,1,0,0,0,1,1,1,2,1,0,0,0,0,0,0,0,0,0,0],\"xaxis\":\"x2\",\"yaxis\":\"y2\",\"type\":\"box\"}],                        {\"template\":{\"data\":{\"histogram2dcontour\":[{\"type\":\"histogram2dcontour\",\"colorbar\":{\"outlinewidth\":0,\"ticks\":\"\"},\"colorscale\":[[0.0,\"#0d0887\"],[0.1111111111111111,\"#46039f\"],[0.2222222222222222,\"#7201a8\"],[0.3333333333333333,\"#9c179e\"],[0.4444444444444444,\"#bd3786\"],[0.5555555555555556,\"#d8576b\"],[0.6666666666666666,\"#ed7953\"],[0.7777777777777778,\"#fb9f3a\"],[0.8888888888888888,\"#fdca26\"],[1.0,\"#f0f921\"]]}],\"choropleth\":[{\"type\":\"choropleth\",\"colorbar\":{\"outlinewidth\":0,\"ticks\":\"\"}}],\"histogram2d\":[{\"type\":\"histogram2d\",\"colorbar\":{\"outlinewidth\":0,\"ticks\":\"\"},\"colorscale\":[[0.0,\"#0d0887\"],[0.1111111111111111,\"#46039f\"],[0.2222222222222222,\"#7201a8\"],[0.3333333333333333,\"#9c179e\"],[0.4444444444444444,\"#bd3786\"],[0.5555555555555556,\"#d8576b\"],[0.6666666666666666,\"#ed7953\"],[0.7777777777777778,\"#fb9f3a\"],[0.8888888888888888,\"#fdca26\"],[1.0,\"#f0f921\"]]}],\"heatmap\":[{\"type\":\"heatmap\",\"colorbar\":{\"outlinewidth\":0,\"ticks\":\"\"},\"colorscale\":[[0.0,\"#0d0887\"],[0.1111111111111111,\"#46039f\"],[0.2222222222222222,\"#7201a8\"],[0.3333333333333333,\"#9c179e\"],[0.4444444444444444,\"#bd3786\"],[0.5555555555555556,\"#d8576b\"],[0.6666666666666666,\"#ed7953\"],[0.7777777777777778,\"#fb9f3a\"],[0.8888888888888888,\"#fdca26\"],[1.0,\"#f0f921\"]]}],\"heatmapgl\":[{\"type\":\"heatmapgl\",\"colorbar\":{\"outlinewidth\":0,\"ticks\":\"\"},\"colorscale\":[[0.0,\"#0d0887\"],[0.1111111111111111,\"#46039f\"],[0.2222222222222222,\"#7201a8\"],[0.3333333333333333,\"#9c179e\"],[0.4444444444444444,\"#bd3786\"],[0.5555555555555556,\"#d8576b\"],[0.6666666666666666,\"#ed7953\"],[0.7777777777777778,\"#fb9f3a\"],[0.8888888888888888,\"#fdca26\"],[1.0,\"#f0f921\"]]}],\"contourcarpet\":[{\"type\":\"contourcarpet\",\"colorbar\":{\"outlinewidth\":0,\"ticks\":\"\"}}],\"contour\":[{\"type\":\"contour\",\"colorbar\":{\"outlinewidth\":0,\"ticks\":\"\"},\"colorscale\":[[0.0,\"#0d0887\"],[0.1111111111111111,\"#46039f\"],[0.2222222222222222,\"#7201a8\"],[0.3333333333333333,\"#9c179e\"],[0.4444444444444444,\"#bd3786\"],[0.5555555555555556,\"#d8576b\"],[0.6666666666666666,\"#ed7953\"],[0.7777777777777778,\"#fb9f3a\"],[0.8888888888888888,\"#fdca26\"],[1.0,\"#f0f921\"]]}],\"surface\":[{\"type\":\"surface\",\"colorbar\":{\"outlinewidth\":0,\"ticks\":\"\"},\"colorscale\":[[0.0,\"#0d0887\"],[0.1111111111111111,\"#46039f\"],[0.2222222222222222,\"#7201a8\"],[0.3333333333333333,\"#9c179e\"],[0.4444444444444444,\"#bd3786\"],[0.5555555555555556,\"#d8576b\"],[0.6666666666666666,\"#ed7953\"],[0.7777777777777778,\"#fb9f3a\"],[0.8888888888888888,\"#fdca26\"],[1.0,\"#f0f921\"]]}],\"mesh3d\":[{\"type\":\"mesh3d\",\"colorbar\":{\"outlinewidth\":0,\"ticks\":\"\"}}],\"scatter\":[{\"fillpattern\":{\"fillmode\":\"overlay\",\"size\":10,\"solidity\":0.2},\"type\":\"scatter\"}],\"parcoords\":[{\"type\":\"parcoords\",\"line\":{\"colorbar\":{\"outlinewidth\":0,\"ticks\":\"\"}}}],\"scatterpolargl\":[{\"type\":\"scatterpolargl\",\"marker\":{\"colorbar\":{\"outlinewidth\":0,\"ticks\":\"\"}}}],\"bar\":[{\"error_x\":{\"color\":\"#2a3f5f\"},\"error_y\":{\"color\":\"#2a3f5f\"},\"marker\":{\"line\":{\"color\":\"#E5ECF6\",\"width\":0.5},\"pattern\":{\"fillmode\":\"overlay\",\"size\":10,\"solidity\":0.2}},\"type\":\"bar\"}],\"scattergeo\":[{\"type\":\"scattergeo\",\"marker\":{\"colorbar\":{\"outlinewidth\":0,\"ticks\":\"\"}}}],\"scatterpolar\":[{\"type\":\"scatterpolar\",\"marker\":{\"colorbar\":{\"outlinewidth\":0,\"ticks\":\"\"}}}],\"histogram\":[{\"marker\":{\"pattern\":{\"fillmode\":\"overlay\",\"size\":10,\"solidity\":0.2}},\"type\":\"histogram\"}],\"scattergl\":[{\"type\":\"scattergl\",\"marker\":{\"colorbar\":{\"outlinewidth\":0,\"ticks\":\"\"}}}],\"scatter3d\":[{\"type\":\"scatter3d\",\"line\":{\"colorbar\":{\"outlinewidth\":0,\"ticks\":\"\"}},\"marker\":{\"colorbar\":{\"outlinewidth\":0,\"ticks\":\"\"}}}],\"scattermapbox\":[{\"type\":\"scattermapbox\",\"marker\":{\"colorbar\":{\"outlinewidth\":0,\"ticks\":\"\"}}}],\"scatterternary\":[{\"type\":\"scatterternary\",\"marker\":{\"colorbar\":{\"outlinewidth\":0,\"ticks\":\"\"}}}],\"scattercarpet\":[{\"type\":\"scattercarpet\",\"marker\":{\"colorbar\":{\"outlinewidth\":0,\"ticks\":\"\"}}}],\"carpet\":[{\"aaxis\":{\"endlinecolor\":\"#2a3f5f\",\"gridcolor\":\"white\",\"linecolor\":\"white\",\"minorgridcolor\":\"white\",\"startlinecolor\":\"#2a3f5f\"},\"baxis\":{\"endlinecolor\":\"#2a3f5f\",\"gridcolor\":\"white\",\"linecolor\":\"white\",\"minorgridcolor\":\"white\",\"startlinecolor\":\"#2a3f5f\"},\"type\":\"carpet\"}],\"table\":[{\"cells\":{\"fill\":{\"color\":\"#EBF0F8\"},\"line\":{\"color\":\"white\"}},\"header\":{\"fill\":{\"color\":\"#C8D4E3\"},\"line\":{\"color\":\"white\"}},\"type\":\"table\"}],\"barpolar\":[{\"marker\":{\"line\":{\"color\":\"#E5ECF6\",\"width\":0.5},\"pattern\":{\"fillmode\":\"overlay\",\"size\":10,\"solidity\":0.2}},\"type\":\"barpolar\"}],\"pie\":[{\"automargin\":true,\"type\":\"pie\"}]},\"layout\":{\"autotypenumbers\":\"strict\",\"colorway\":[\"#636efa\",\"#EF553B\",\"#00cc96\",\"#ab63fa\",\"#FFA15A\",\"#19d3f3\",\"#FF6692\",\"#B6E880\",\"#FF97FF\",\"#FECB52\"],\"font\":{\"color\":\"#2a3f5f\"},\"hovermode\":\"closest\",\"hoverlabel\":{\"align\":\"left\"},\"paper_bgcolor\":\"white\",\"plot_bgcolor\":\"#E5ECF6\",\"polar\":{\"bgcolor\":\"#E5ECF6\",\"angularaxis\":{\"gridcolor\":\"white\",\"linecolor\":\"white\",\"ticks\":\"\"},\"radialaxis\":{\"gridcolor\":\"white\",\"linecolor\":\"white\",\"ticks\":\"\"}},\"ternary\":{\"bgcolor\":\"#E5ECF6\",\"aaxis\":{\"gridcolor\":\"white\",\"linecolor\":\"white\",\"ticks\":\"\"},\"baxis\":{\"gridcolor\":\"white\",\"linecolor\":\"white\",\"ticks\":\"\"},\"caxis\":{\"gridcolor\":\"white\",\"linecolor\":\"white\",\"ticks\":\"\"}},\"coloraxis\":{\"colorbar\":{\"outlinewidth\":0,\"ticks\":\"\"}},\"colorscale\":{\"sequential\":[[0.0,\"#0d0887\"],[0.1111111111111111,\"#46039f\"],[0.2222222222222222,\"#7201a8\"],[0.3333333333333333,\"#9c179e\"],[0.4444444444444444,\"#bd3786\"],[0.5555555555555556,\"#d8576b\"],[0.6666666666666666,\"#ed7953\"],[0.7777777777777778,\"#fb9f3a\"],[0.8888888888888888,\"#fdca26\"],[1.0,\"#f0f921\"]],\"sequentialminus\":[[0.0,\"#0d0887\"],[0.1111111111111111,\"#46039f\"],[0.2222222222222222,\"#7201a8\"],[0.3333333333333333,\"#9c179e\"],[0.4444444444444444,\"#bd3786\"],[0.5555555555555556,\"#d8576b\"],[0.6666666666666666,\"#ed7953\"],[0.7777777777777778,\"#fb9f3a\"],[0.8888888888888888,\"#fdca26\"],[1.0,\"#f0f921\"]],\"diverging\":[[0,\"#8e0152\"],[0.1,\"#c51b7d\"],[0.2,\"#de77ae\"],[0.3,\"#f1b6da\"],[0.4,\"#fde0ef\"],[0.5,\"#f7f7f7\"],[0.6,\"#e6f5d0\"],[0.7,\"#b8e186\"],[0.8,\"#7fbc41\"],[0.9,\"#4d9221\"],[1,\"#276419\"]]},\"xaxis\":{\"gridcolor\":\"white\",\"linecolor\":\"white\",\"ticks\":\"\",\"title\":{\"standoff\":15},\"zerolinecolor\":\"white\",\"automargin\":true,\"zerolinewidth\":2},\"yaxis\":{\"gridcolor\":\"white\",\"linecolor\":\"white\",\"ticks\":\"\",\"title\":{\"standoff\":15},\"zerolinecolor\":\"white\",\"automargin\":true,\"zerolinewidth\":2},\"scene\":{\"xaxis\":{\"backgroundcolor\":\"#E5ECF6\",\"gridcolor\":\"white\",\"linecolor\":\"white\",\"showbackground\":true,\"ticks\":\"\",\"zerolinecolor\":\"white\",\"gridwidth\":2},\"yaxis\":{\"backgroundcolor\":\"#E5ECF6\",\"gridcolor\":\"white\",\"linecolor\":\"white\",\"showbackground\":true,\"ticks\":\"\",\"zerolinecolor\":\"white\",\"gridwidth\":2},\"zaxis\":{\"backgroundcolor\":\"#E5ECF6\",\"gridcolor\":\"white\",\"linecolor\":\"white\",\"showbackground\":true,\"ticks\":\"\",\"zerolinecolor\":\"white\",\"gridwidth\":2}},\"shapedefaults\":{\"line\":{\"color\":\"#2a3f5f\"}},\"annotationdefaults\":{\"arrowcolor\":\"#2a3f5f\",\"arrowhead\":0,\"arrowwidth\":1},\"geo\":{\"bgcolor\":\"white\",\"landcolor\":\"#E5ECF6\",\"subunitcolor\":\"white\",\"showland\":true,\"showlakes\":true,\"lakecolor\":\"white\"},\"title\":{\"x\":0.05},\"mapbox\":{\"style\":\"light\"}}},\"xaxis\":{\"anchor\":\"y\",\"domain\":[0.0,1.0],\"title\":{\"text\":\"location_count\"}},\"yaxis\":{\"anchor\":\"x\",\"domain\":[0.0,0.8316],\"title\":{\"text\":\"count\"}},\"xaxis2\":{\"anchor\":\"y2\",\"domain\":[0.0,1.0],\"matches\":\"x\",\"showticklabels\":false,\"showgrid\":true},\"yaxis2\":{\"anchor\":\"x2\",\"domain\":[0.8416,1.0],\"matches\":\"y2\",\"showticklabels\":false,\"showline\":false,\"ticks\":\"\",\"showgrid\":false},\"legend\":{\"tracegroupgap\":0},\"margin\":{\"t\":60},\"barmode\":\"relative\"},                        {\"responsive\": true}                    ).then(function(){\n",
              "                            \n",
              "var gd = document.getElementById('6438dd3b-afa2-4307-b73d-b27cdec3468b');\n",
              "var x = new MutationObserver(function (mutations, observer) {{\n",
              "        var display = window.getComputedStyle(gd).display;\n",
              "        if (!display || display === 'none') {{\n",
              "            console.log([gd, 'removed!']);\n",
              "            Plotly.purge(gd);\n",
              "            observer.disconnect();\n",
              "        }}\n",
              "}});\n",
              "\n",
              "// Listen for the removal of the full notebook cells\n",
              "var notebookContainer = gd.closest('#notebook-container');\n",
              "if (notebookContainer) {{\n",
              "    x.observe(notebookContainer, {childList: true});\n",
              "}}\n",
              "\n",
              "// Listen for the clearing of the current output cell\n",
              "var outputEl = gd.closest('.output');\n",
              "if (outputEl) {{\n",
              "    x.observe(outputEl, {childList: true});\n",
              "}}\n",
              "\n",
              "                        })                };                            </script>        </div>\n",
              "</body>\n",
              "</html>"
            ]
          },
          "metadata": {}
        },
        {
          "output_type": "display_data",
          "data": {
            "text/html": [
              "<html>\n",
              "<head><meta charset=\"utf-8\" /></head>\n",
              "<body>\n",
              "    <div>            <script src=\"https://cdnjs.cloudflare.com/ajax/libs/mathjax/2.7.5/MathJax.js?config=TeX-AMS-MML_SVG\"></script><script type=\"text/javascript\">if (window.MathJax && window.MathJax.Hub && window.MathJax.Hub.Config) {window.MathJax.Hub.Config({SVG: {font: \"STIX-Web\"}});}</script>                <script type=\"text/javascript\">window.PlotlyConfig = {MathJaxConfig: 'local'};</script>\n",
              "        <script src=\"https://cdn.plot.ly/plotly-2.18.2.min.js\"></script>                <div id=\"c9173844-fe58-49d7-9bb7-99a4f53e58e1\" class=\"plotly-graph-div\" style=\"height:525px; width:100%;\"></div>            <script type=\"text/javascript\">                                    window.PLOTLYENV=window.PLOTLYENV || {};                                    if (document.getElementById(\"c9173844-fe58-49d7-9bb7-99a4f53e58e1\")) {                    Plotly.newPlot(                        \"c9173844-fe58-49d7-9bb7-99a4f53e58e1\",                        [{\"alignmentgroup\":\"True\",\"bingroup\":\"x\",\"hovertemplate\":\"yelp_location_count=%{x}<br>count=%{y}<extra></extra>\",\"legendgroup\":\"\",\"marker\":{\"color\":\"#636efa\",\"pattern\":{\"shape\":\"\"}},\"name\":\"\",\"offsetgroup\":\"\",\"orientation\":\"v\",\"showlegend\":false,\"x\":[8,14,10,10,9,11,10,7,6,9,7,13,10,9,11,11,11,10,11,8,12,11,14,10,9,12,9,11,10,10,12,8,11,11,8,10,10,10,7,10,8,10,9,11,11,13,10,10,11,10,12,7,10,8,3,5,4,8,9,10,6,7,9,7,9,8,9,14,7,9,10,14,14,13,10,9,11,8,7,7,8,10,5,6,8,6,12,10,12,9,8,12,11,9,11,6,8,10,3,5,9,10,11,9,11,9,12,5,2,3,4,8,6,6,4,7,9,8,6,7,7,9,8,6,6,9,7,6,6,5,8,12,12,9,8,7,9,9,4,7,7,5,3,9,9,6,2,5,11,8,1,8,5,5,7,10,12,10,10,7,8,10,8,7,8,10,10,5,9,10,9,10,11,8,10,2,6,9,13,10,11,10,8,10,11,3,12,11,5,4,6,9,5,9,9,6,9,8,5,5,8,7,5,8,7,5,6,8,10,5,12,11,10,10,10,10,9,8,7,8,10,8,7,14,4,6,9,4,5,3,3,3,9,9,5,11,5,8,13,12,6,8],\"xaxis\":\"x\",\"yaxis\":\"y\",\"type\":\"histogram\"},{\"alignmentgroup\":\"True\",\"hovertemplate\":\"yelp_location_count=%{x}<extra></extra>\",\"legendgroup\":\"\",\"marker\":{\"color\":\"#636efa\"},\"name\":\"\",\"notched\":true,\"offsetgroup\":\"\",\"showlegend\":false,\"x\":[8,14,10,10,9,11,10,7,6,9,7,13,10,9,11,11,11,10,11,8,12,11,14,10,9,12,9,11,10,10,12,8,11,11,8,10,10,10,7,10,8,10,9,11,11,13,10,10,11,10,12,7,10,8,3,5,4,8,9,10,6,7,9,7,9,8,9,14,7,9,10,14,14,13,10,9,11,8,7,7,8,10,5,6,8,6,12,10,12,9,8,12,11,9,11,6,8,10,3,5,9,10,11,9,11,9,12,5,2,3,4,8,6,6,4,7,9,8,6,7,7,9,8,6,6,9,7,6,6,5,8,12,12,9,8,7,9,9,4,7,7,5,3,9,9,6,2,5,11,8,1,8,5,5,7,10,12,10,10,7,8,10,8,7,8,10,10,5,9,10,9,10,11,8,10,2,6,9,13,10,11,10,8,10,11,3,12,11,5,4,6,9,5,9,9,6,9,8,5,5,8,7,5,8,7,5,6,8,10,5,12,11,10,10,10,10,9,8,7,8,10,8,7,14,4,6,9,4,5,3,3,3,9,9,5,11,5,8,13,12,6,8],\"xaxis\":\"x2\",\"yaxis\":\"y2\",\"type\":\"box\"}],                        {\"template\":{\"data\":{\"histogram2dcontour\":[{\"type\":\"histogram2dcontour\",\"colorbar\":{\"outlinewidth\":0,\"ticks\":\"\"},\"colorscale\":[[0.0,\"#0d0887\"],[0.1111111111111111,\"#46039f\"],[0.2222222222222222,\"#7201a8\"],[0.3333333333333333,\"#9c179e\"],[0.4444444444444444,\"#bd3786\"],[0.5555555555555556,\"#d8576b\"],[0.6666666666666666,\"#ed7953\"],[0.7777777777777778,\"#fb9f3a\"],[0.8888888888888888,\"#fdca26\"],[1.0,\"#f0f921\"]]}],\"choropleth\":[{\"type\":\"choropleth\",\"colorbar\":{\"outlinewidth\":0,\"ticks\":\"\"}}],\"histogram2d\":[{\"type\":\"histogram2d\",\"colorbar\":{\"outlinewidth\":0,\"ticks\":\"\"},\"colorscale\":[[0.0,\"#0d0887\"],[0.1111111111111111,\"#46039f\"],[0.2222222222222222,\"#7201a8\"],[0.3333333333333333,\"#9c179e\"],[0.4444444444444444,\"#bd3786\"],[0.5555555555555556,\"#d8576b\"],[0.6666666666666666,\"#ed7953\"],[0.7777777777777778,\"#fb9f3a\"],[0.8888888888888888,\"#fdca26\"],[1.0,\"#f0f921\"]]}],\"heatmap\":[{\"type\":\"heatmap\",\"colorbar\":{\"outlinewidth\":0,\"ticks\":\"\"},\"colorscale\":[[0.0,\"#0d0887\"],[0.1111111111111111,\"#46039f\"],[0.2222222222222222,\"#7201a8\"],[0.3333333333333333,\"#9c179e\"],[0.4444444444444444,\"#bd3786\"],[0.5555555555555556,\"#d8576b\"],[0.6666666666666666,\"#ed7953\"],[0.7777777777777778,\"#fb9f3a\"],[0.8888888888888888,\"#fdca26\"],[1.0,\"#f0f921\"]]}],\"heatmapgl\":[{\"type\":\"heatmapgl\",\"colorbar\":{\"outlinewidth\":0,\"ticks\":\"\"},\"colorscale\":[[0.0,\"#0d0887\"],[0.1111111111111111,\"#46039f\"],[0.2222222222222222,\"#7201a8\"],[0.3333333333333333,\"#9c179e\"],[0.4444444444444444,\"#bd3786\"],[0.5555555555555556,\"#d8576b\"],[0.6666666666666666,\"#ed7953\"],[0.7777777777777778,\"#fb9f3a\"],[0.8888888888888888,\"#fdca26\"],[1.0,\"#f0f921\"]]}],\"contourcarpet\":[{\"type\":\"contourcarpet\",\"colorbar\":{\"outlinewidth\":0,\"ticks\":\"\"}}],\"contour\":[{\"type\":\"contour\",\"colorbar\":{\"outlinewidth\":0,\"ticks\":\"\"},\"colorscale\":[[0.0,\"#0d0887\"],[0.1111111111111111,\"#46039f\"],[0.2222222222222222,\"#7201a8\"],[0.3333333333333333,\"#9c179e\"],[0.4444444444444444,\"#bd3786\"],[0.5555555555555556,\"#d8576b\"],[0.6666666666666666,\"#ed7953\"],[0.7777777777777778,\"#fb9f3a\"],[0.8888888888888888,\"#fdca26\"],[1.0,\"#f0f921\"]]}],\"surface\":[{\"type\":\"surface\",\"colorbar\":{\"outlinewidth\":0,\"ticks\":\"\"},\"colorscale\":[[0.0,\"#0d0887\"],[0.1111111111111111,\"#46039f\"],[0.2222222222222222,\"#7201a8\"],[0.3333333333333333,\"#9c179e\"],[0.4444444444444444,\"#bd3786\"],[0.5555555555555556,\"#d8576b\"],[0.6666666666666666,\"#ed7953\"],[0.7777777777777778,\"#fb9f3a\"],[0.8888888888888888,\"#fdca26\"],[1.0,\"#f0f921\"]]}],\"mesh3d\":[{\"type\":\"mesh3d\",\"colorbar\":{\"outlinewidth\":0,\"ticks\":\"\"}}],\"scatter\":[{\"fillpattern\":{\"fillmode\":\"overlay\",\"size\":10,\"solidity\":0.2},\"type\":\"scatter\"}],\"parcoords\":[{\"type\":\"parcoords\",\"line\":{\"colorbar\":{\"outlinewidth\":0,\"ticks\":\"\"}}}],\"scatterpolargl\":[{\"type\":\"scatterpolargl\",\"marker\":{\"colorbar\":{\"outlinewidth\":0,\"ticks\":\"\"}}}],\"bar\":[{\"error_x\":{\"color\":\"#2a3f5f\"},\"error_y\":{\"color\":\"#2a3f5f\"},\"marker\":{\"line\":{\"color\":\"#E5ECF6\",\"width\":0.5},\"pattern\":{\"fillmode\":\"overlay\",\"size\":10,\"solidity\":0.2}},\"type\":\"bar\"}],\"scattergeo\":[{\"type\":\"scattergeo\",\"marker\":{\"colorbar\":{\"outlinewidth\":0,\"ticks\":\"\"}}}],\"scatterpolar\":[{\"type\":\"scatterpolar\",\"marker\":{\"colorbar\":{\"outlinewidth\":0,\"ticks\":\"\"}}}],\"histogram\":[{\"marker\":{\"pattern\":{\"fillmode\":\"overlay\",\"size\":10,\"solidity\":0.2}},\"type\":\"histogram\"}],\"scattergl\":[{\"type\":\"scattergl\",\"marker\":{\"colorbar\":{\"outlinewidth\":0,\"ticks\":\"\"}}}],\"scatter3d\":[{\"type\":\"scatter3d\",\"line\":{\"colorbar\":{\"outlinewidth\":0,\"ticks\":\"\"}},\"marker\":{\"colorbar\":{\"outlinewidth\":0,\"ticks\":\"\"}}}],\"scattermapbox\":[{\"type\":\"scattermapbox\",\"marker\":{\"colorbar\":{\"outlinewidth\":0,\"ticks\":\"\"}}}],\"scatterternary\":[{\"type\":\"scatterternary\",\"marker\":{\"colorbar\":{\"outlinewidth\":0,\"ticks\":\"\"}}}],\"scattercarpet\":[{\"type\":\"scattercarpet\",\"marker\":{\"colorbar\":{\"outlinewidth\":0,\"ticks\":\"\"}}}],\"carpet\":[{\"aaxis\":{\"endlinecolor\":\"#2a3f5f\",\"gridcolor\":\"white\",\"linecolor\":\"white\",\"minorgridcolor\":\"white\",\"startlinecolor\":\"#2a3f5f\"},\"baxis\":{\"endlinecolor\":\"#2a3f5f\",\"gridcolor\":\"white\",\"linecolor\":\"white\",\"minorgridcolor\":\"white\",\"startlinecolor\":\"#2a3f5f\"},\"type\":\"carpet\"}],\"table\":[{\"cells\":{\"fill\":{\"color\":\"#EBF0F8\"},\"line\":{\"color\":\"white\"}},\"header\":{\"fill\":{\"color\":\"#C8D4E3\"},\"line\":{\"color\":\"white\"}},\"type\":\"table\"}],\"barpolar\":[{\"marker\":{\"line\":{\"color\":\"#E5ECF6\",\"width\":0.5},\"pattern\":{\"fillmode\":\"overlay\",\"size\":10,\"solidity\":0.2}},\"type\":\"barpolar\"}],\"pie\":[{\"automargin\":true,\"type\":\"pie\"}]},\"layout\":{\"autotypenumbers\":\"strict\",\"colorway\":[\"#636efa\",\"#EF553B\",\"#00cc96\",\"#ab63fa\",\"#FFA15A\",\"#19d3f3\",\"#FF6692\",\"#B6E880\",\"#FF97FF\",\"#FECB52\"],\"font\":{\"color\":\"#2a3f5f\"},\"hovermode\":\"closest\",\"hoverlabel\":{\"align\":\"left\"},\"paper_bgcolor\":\"white\",\"plot_bgcolor\":\"#E5ECF6\",\"polar\":{\"bgcolor\":\"#E5ECF6\",\"angularaxis\":{\"gridcolor\":\"white\",\"linecolor\":\"white\",\"ticks\":\"\"},\"radialaxis\":{\"gridcolor\":\"white\",\"linecolor\":\"white\",\"ticks\":\"\"}},\"ternary\":{\"bgcolor\":\"#E5ECF6\",\"aaxis\":{\"gridcolor\":\"white\",\"linecolor\":\"white\",\"ticks\":\"\"},\"baxis\":{\"gridcolor\":\"white\",\"linecolor\":\"white\",\"ticks\":\"\"},\"caxis\":{\"gridcolor\":\"white\",\"linecolor\":\"white\",\"ticks\":\"\"}},\"coloraxis\":{\"colorbar\":{\"outlinewidth\":0,\"ticks\":\"\"}},\"colorscale\":{\"sequential\":[[0.0,\"#0d0887\"],[0.1111111111111111,\"#46039f\"],[0.2222222222222222,\"#7201a8\"],[0.3333333333333333,\"#9c179e\"],[0.4444444444444444,\"#bd3786\"],[0.5555555555555556,\"#d8576b\"],[0.6666666666666666,\"#ed7953\"],[0.7777777777777778,\"#fb9f3a\"],[0.8888888888888888,\"#fdca26\"],[1.0,\"#f0f921\"]],\"sequentialminus\":[[0.0,\"#0d0887\"],[0.1111111111111111,\"#46039f\"],[0.2222222222222222,\"#7201a8\"],[0.3333333333333333,\"#9c179e\"],[0.4444444444444444,\"#bd3786\"],[0.5555555555555556,\"#d8576b\"],[0.6666666666666666,\"#ed7953\"],[0.7777777777777778,\"#fb9f3a\"],[0.8888888888888888,\"#fdca26\"],[1.0,\"#f0f921\"]],\"diverging\":[[0,\"#8e0152\"],[0.1,\"#c51b7d\"],[0.2,\"#de77ae\"],[0.3,\"#f1b6da\"],[0.4,\"#fde0ef\"],[0.5,\"#f7f7f7\"],[0.6,\"#e6f5d0\"],[0.7,\"#b8e186\"],[0.8,\"#7fbc41\"],[0.9,\"#4d9221\"],[1,\"#276419\"]]},\"xaxis\":{\"gridcolor\":\"white\",\"linecolor\":\"white\",\"ticks\":\"\",\"title\":{\"standoff\":15},\"zerolinecolor\":\"white\",\"automargin\":true,\"zerolinewidth\":2},\"yaxis\":{\"gridcolor\":\"white\",\"linecolor\":\"white\",\"ticks\":\"\",\"title\":{\"standoff\":15},\"zerolinecolor\":\"white\",\"automargin\":true,\"zerolinewidth\":2},\"scene\":{\"xaxis\":{\"backgroundcolor\":\"#E5ECF6\",\"gridcolor\":\"white\",\"linecolor\":\"white\",\"showbackground\":true,\"ticks\":\"\",\"zerolinecolor\":\"white\",\"gridwidth\":2},\"yaxis\":{\"backgroundcolor\":\"#E5ECF6\",\"gridcolor\":\"white\",\"linecolor\":\"white\",\"showbackground\":true,\"ticks\":\"\",\"zerolinecolor\":\"white\",\"gridwidth\":2},\"zaxis\":{\"backgroundcolor\":\"#E5ECF6\",\"gridcolor\":\"white\",\"linecolor\":\"white\",\"showbackground\":true,\"ticks\":\"\",\"zerolinecolor\":\"white\",\"gridwidth\":2}},\"shapedefaults\":{\"line\":{\"color\":\"#2a3f5f\"}},\"annotationdefaults\":{\"arrowcolor\":\"#2a3f5f\",\"arrowhead\":0,\"arrowwidth\":1},\"geo\":{\"bgcolor\":\"white\",\"landcolor\":\"#E5ECF6\",\"subunitcolor\":\"white\",\"showland\":true,\"showlakes\":true,\"lakecolor\":\"white\"},\"title\":{\"x\":0.05},\"mapbox\":{\"style\":\"light\"}}},\"xaxis\":{\"anchor\":\"y\",\"domain\":[0.0,1.0],\"title\":{\"text\":\"yelp_location_count\"}},\"yaxis\":{\"anchor\":\"x\",\"domain\":[0.0,0.8316],\"title\":{\"text\":\"count\"}},\"xaxis2\":{\"anchor\":\"y2\",\"domain\":[0.0,1.0],\"matches\":\"x\",\"showticklabels\":false,\"showgrid\":true},\"yaxis2\":{\"anchor\":\"x2\",\"domain\":[0.8416,1.0],\"matches\":\"y2\",\"showticklabels\":false,\"showline\":false,\"ticks\":\"\",\"showgrid\":false},\"legend\":{\"tracegroupgap\":0},\"margin\":{\"t\":60},\"barmode\":\"relative\"},                        {\"responsive\": true}                    ).then(function(){\n",
              "                            \n",
              "var gd = document.getElementById('c9173844-fe58-49d7-9bb7-99a4f53e58e1');\n",
              "var x = new MutationObserver(function (mutations, observer) {{\n",
              "        var display = window.getComputedStyle(gd).display;\n",
              "        if (!display || display === 'none') {{\n",
              "            console.log([gd, 'removed!']);\n",
              "            Plotly.purge(gd);\n",
              "            observer.disconnect();\n",
              "        }}\n",
              "}});\n",
              "\n",
              "// Listen for the removal of the full notebook cells\n",
              "var notebookContainer = gd.closest('#notebook-container');\n",
              "if (notebookContainer) {{\n",
              "    x.observe(notebookContainer, {childList: true});\n",
              "}}\n",
              "\n",
              "// Listen for the clearing of the current output cell\n",
              "var outputEl = gd.closest('.output');\n",
              "if (outputEl) {{\n",
              "    x.observe(outputEl, {childList: true});\n",
              "}}\n",
              "\n",
              "                        })                };                            </script>        </div>\n",
              "</body>\n",
              "</html>"
            ]
          },
          "metadata": {}
        },
        {
          "output_type": "display_data",
          "data": {
            "text/html": [
              "<html>\n",
              "<head><meta charset=\"utf-8\" /></head>\n",
              "<body>\n",
              "    <div>            <script src=\"https://cdnjs.cloudflare.com/ajax/libs/mathjax/2.7.5/MathJax.js?config=TeX-AMS-MML_SVG\"></script><script type=\"text/javascript\">if (window.MathJax && window.MathJax.Hub && window.MathJax.Hub.Config) {window.MathJax.Hub.Config({SVG: {font: \"STIX-Web\"}});}</script>                <script type=\"text/javascript\">window.PlotlyConfig = {MathJaxConfig: 'local'};</script>\n",
              "        <script src=\"https://cdn.plot.ly/plotly-2.18.2.min.js\"></script>                <div id=\"c2e83725-324c-4e54-bb40-91ebd95c4df7\" class=\"plotly-graph-div\" style=\"height:525px; width:100%;\"></div>            <script type=\"text/javascript\">                                    window.PLOTLYENV=window.PLOTLYENV || {};                                    if (document.getElementById(\"c2e83725-324c-4e54-bb40-91ebd95c4df7\")) {                    Plotly.newPlot(                        \"c2e83725-324c-4e54-bb40-91ebd95c4df7\",                        [{\"alignmentgroup\":\"True\",\"bingroup\":\"x\",\"hovertemplate\":\"yelp_review_count=%{x}<br>count=%{y}<extra></extra>\",\"legendgroup\":\"\",\"marker\":{\"color\":\"#636efa\",\"pattern\":{\"shape\":\"\"}},\"name\":\"\",\"offsetgroup\":\"\",\"orientation\":\"v\",\"showlegend\":false,\"x\":[42,94,61,49,69,73,76,34,56,48,37,86,49,74,87,79,67,64,244,1213,94,80,114,1292,152,166,74,66,63,56,75,138,58,79,130,87,68,45,16,51,39,46,86,151,69,74,76,165,1294,1292,255,50,49,1228,33,40,1096,45,45,132,8,78,45,11,18,14,36,193,25,45,46,115,113,74,91,21,71,130,27,53,12,101,95,192,82,42,48,39,50,45,35,46,156,65,69,22,33,57,27,95,23,46,176,1242,43,55,67,16,12,14,15,44,42,19,15,18,31,26,18,22,22,56,52,49,17,38,53,20,20,19,24,53,53,38,34,32,34,34,15,19,48,44,4,34,37,50,3,20,49,33,2,44,13,13,23,46,109,47,76,57,44,73,39,30,69,62,69,13,139,155,147,209,92,33,1292,21,8,45,95,48,87,67,138,20,88,15,64,83,77,12,11,1226,9,16,16,11,56,40,13,77,15,12,10,18,12,11,13,23,41,15,168,47,238,238,49,1292,129,69,15,58,46,57,178,132,17,172,189,170,13,4,4,4,25,184,170,1306,44,15,176,1251,173,69],\"xaxis\":\"x\",\"yaxis\":\"y\",\"type\":\"histogram\"},{\"alignmentgroup\":\"True\",\"hovertemplate\":\"yelp_review_count=%{x}<extra></extra>\",\"legendgroup\":\"\",\"marker\":{\"color\":\"#636efa\"},\"name\":\"\",\"notched\":true,\"offsetgroup\":\"\",\"showlegend\":false,\"x\":[42,94,61,49,69,73,76,34,56,48,37,86,49,74,87,79,67,64,244,1213,94,80,114,1292,152,166,74,66,63,56,75,138,58,79,130,87,68,45,16,51,39,46,86,151,69,74,76,165,1294,1292,255,50,49,1228,33,40,1096,45,45,132,8,78,45,11,18,14,36,193,25,45,46,115,113,74,91,21,71,130,27,53,12,101,95,192,82,42,48,39,50,45,35,46,156,65,69,22,33,57,27,95,23,46,176,1242,43,55,67,16,12,14,15,44,42,19,15,18,31,26,18,22,22,56,52,49,17,38,53,20,20,19,24,53,53,38,34,32,34,34,15,19,48,44,4,34,37,50,3,20,49,33,2,44,13,13,23,46,109,47,76,57,44,73,39,30,69,62,69,13,139,155,147,209,92,33,1292,21,8,45,95,48,87,67,138,20,88,15,64,83,77,12,11,1226,9,16,16,11,56,40,13,77,15,12,10,18,12,11,13,23,41,15,168,47,238,238,49,1292,129,69,15,58,46,57,178,132,17,172,189,170,13,4,4,4,25,184,170,1306,44,15,176,1251,173,69],\"xaxis\":\"x2\",\"yaxis\":\"y2\",\"type\":\"box\"}],                        {\"template\":{\"data\":{\"histogram2dcontour\":[{\"type\":\"histogram2dcontour\",\"colorbar\":{\"outlinewidth\":0,\"ticks\":\"\"},\"colorscale\":[[0.0,\"#0d0887\"],[0.1111111111111111,\"#46039f\"],[0.2222222222222222,\"#7201a8\"],[0.3333333333333333,\"#9c179e\"],[0.4444444444444444,\"#bd3786\"],[0.5555555555555556,\"#d8576b\"],[0.6666666666666666,\"#ed7953\"],[0.7777777777777778,\"#fb9f3a\"],[0.8888888888888888,\"#fdca26\"],[1.0,\"#f0f921\"]]}],\"choropleth\":[{\"type\":\"choropleth\",\"colorbar\":{\"outlinewidth\":0,\"ticks\":\"\"}}],\"histogram2d\":[{\"type\":\"histogram2d\",\"colorbar\":{\"outlinewidth\":0,\"ticks\":\"\"},\"colorscale\":[[0.0,\"#0d0887\"],[0.1111111111111111,\"#46039f\"],[0.2222222222222222,\"#7201a8\"],[0.3333333333333333,\"#9c179e\"],[0.4444444444444444,\"#bd3786\"],[0.5555555555555556,\"#d8576b\"],[0.6666666666666666,\"#ed7953\"],[0.7777777777777778,\"#fb9f3a\"],[0.8888888888888888,\"#fdca26\"],[1.0,\"#f0f921\"]]}],\"heatmap\":[{\"type\":\"heatmap\",\"colorbar\":{\"outlinewidth\":0,\"ticks\":\"\"},\"colorscale\":[[0.0,\"#0d0887\"],[0.1111111111111111,\"#46039f\"],[0.2222222222222222,\"#7201a8\"],[0.3333333333333333,\"#9c179e\"],[0.4444444444444444,\"#bd3786\"],[0.5555555555555556,\"#d8576b\"],[0.6666666666666666,\"#ed7953\"],[0.7777777777777778,\"#fb9f3a\"],[0.8888888888888888,\"#fdca26\"],[1.0,\"#f0f921\"]]}],\"heatmapgl\":[{\"type\":\"heatmapgl\",\"colorbar\":{\"outlinewidth\":0,\"ticks\":\"\"},\"colorscale\":[[0.0,\"#0d0887\"],[0.1111111111111111,\"#46039f\"],[0.2222222222222222,\"#7201a8\"],[0.3333333333333333,\"#9c179e\"],[0.4444444444444444,\"#bd3786\"],[0.5555555555555556,\"#d8576b\"],[0.6666666666666666,\"#ed7953\"],[0.7777777777777778,\"#fb9f3a\"],[0.8888888888888888,\"#fdca26\"],[1.0,\"#f0f921\"]]}],\"contourcarpet\":[{\"type\":\"contourcarpet\",\"colorbar\":{\"outlinewidth\":0,\"ticks\":\"\"}}],\"contour\":[{\"type\":\"contour\",\"colorbar\":{\"outlinewidth\":0,\"ticks\":\"\"},\"colorscale\":[[0.0,\"#0d0887\"],[0.1111111111111111,\"#46039f\"],[0.2222222222222222,\"#7201a8\"],[0.3333333333333333,\"#9c179e\"],[0.4444444444444444,\"#bd3786\"],[0.5555555555555556,\"#d8576b\"],[0.6666666666666666,\"#ed7953\"],[0.7777777777777778,\"#fb9f3a\"],[0.8888888888888888,\"#fdca26\"],[1.0,\"#f0f921\"]]}],\"surface\":[{\"type\":\"surface\",\"colorbar\":{\"outlinewidth\":0,\"ticks\":\"\"},\"colorscale\":[[0.0,\"#0d0887\"],[0.1111111111111111,\"#46039f\"],[0.2222222222222222,\"#7201a8\"],[0.3333333333333333,\"#9c179e\"],[0.4444444444444444,\"#bd3786\"],[0.5555555555555556,\"#d8576b\"],[0.6666666666666666,\"#ed7953\"],[0.7777777777777778,\"#fb9f3a\"],[0.8888888888888888,\"#fdca26\"],[1.0,\"#f0f921\"]]}],\"mesh3d\":[{\"type\":\"mesh3d\",\"colorbar\":{\"outlinewidth\":0,\"ticks\":\"\"}}],\"scatter\":[{\"fillpattern\":{\"fillmode\":\"overlay\",\"size\":10,\"solidity\":0.2},\"type\":\"scatter\"}],\"parcoords\":[{\"type\":\"parcoords\",\"line\":{\"colorbar\":{\"outlinewidth\":0,\"ticks\":\"\"}}}],\"scatterpolargl\":[{\"type\":\"scatterpolargl\",\"marker\":{\"colorbar\":{\"outlinewidth\":0,\"ticks\":\"\"}}}],\"bar\":[{\"error_x\":{\"color\":\"#2a3f5f\"},\"error_y\":{\"color\":\"#2a3f5f\"},\"marker\":{\"line\":{\"color\":\"#E5ECF6\",\"width\":0.5},\"pattern\":{\"fillmode\":\"overlay\",\"size\":10,\"solidity\":0.2}},\"type\":\"bar\"}],\"scattergeo\":[{\"type\":\"scattergeo\",\"marker\":{\"colorbar\":{\"outlinewidth\":0,\"ticks\":\"\"}}}],\"scatterpolar\":[{\"type\":\"scatterpolar\",\"marker\":{\"colorbar\":{\"outlinewidth\":0,\"ticks\":\"\"}}}],\"histogram\":[{\"marker\":{\"pattern\":{\"fillmode\":\"overlay\",\"size\":10,\"solidity\":0.2}},\"type\":\"histogram\"}],\"scattergl\":[{\"type\":\"scattergl\",\"marker\":{\"colorbar\":{\"outlinewidth\":0,\"ticks\":\"\"}}}],\"scatter3d\":[{\"type\":\"scatter3d\",\"line\":{\"colorbar\":{\"outlinewidth\":0,\"ticks\":\"\"}},\"marker\":{\"colorbar\":{\"outlinewidth\":0,\"ticks\":\"\"}}}],\"scattermapbox\":[{\"type\":\"scattermapbox\",\"marker\":{\"colorbar\":{\"outlinewidth\":0,\"ticks\":\"\"}}}],\"scatterternary\":[{\"type\":\"scatterternary\",\"marker\":{\"colorbar\":{\"outlinewidth\":0,\"ticks\":\"\"}}}],\"scattercarpet\":[{\"type\":\"scattercarpet\",\"marker\":{\"colorbar\":{\"outlinewidth\":0,\"ticks\":\"\"}}}],\"carpet\":[{\"aaxis\":{\"endlinecolor\":\"#2a3f5f\",\"gridcolor\":\"white\",\"linecolor\":\"white\",\"minorgridcolor\":\"white\",\"startlinecolor\":\"#2a3f5f\"},\"baxis\":{\"endlinecolor\":\"#2a3f5f\",\"gridcolor\":\"white\",\"linecolor\":\"white\",\"minorgridcolor\":\"white\",\"startlinecolor\":\"#2a3f5f\"},\"type\":\"carpet\"}],\"table\":[{\"cells\":{\"fill\":{\"color\":\"#EBF0F8\"},\"line\":{\"color\":\"white\"}},\"header\":{\"fill\":{\"color\":\"#C8D4E3\"},\"line\":{\"color\":\"white\"}},\"type\":\"table\"}],\"barpolar\":[{\"marker\":{\"line\":{\"color\":\"#E5ECF6\",\"width\":0.5},\"pattern\":{\"fillmode\":\"overlay\",\"size\":10,\"solidity\":0.2}},\"type\":\"barpolar\"}],\"pie\":[{\"automargin\":true,\"type\":\"pie\"}]},\"layout\":{\"autotypenumbers\":\"strict\",\"colorway\":[\"#636efa\",\"#EF553B\",\"#00cc96\",\"#ab63fa\",\"#FFA15A\",\"#19d3f3\",\"#FF6692\",\"#B6E880\",\"#FF97FF\",\"#FECB52\"],\"font\":{\"color\":\"#2a3f5f\"},\"hovermode\":\"closest\",\"hoverlabel\":{\"align\":\"left\"},\"paper_bgcolor\":\"white\",\"plot_bgcolor\":\"#E5ECF6\",\"polar\":{\"bgcolor\":\"#E5ECF6\",\"angularaxis\":{\"gridcolor\":\"white\",\"linecolor\":\"white\",\"ticks\":\"\"},\"radialaxis\":{\"gridcolor\":\"white\",\"linecolor\":\"white\",\"ticks\":\"\"}},\"ternary\":{\"bgcolor\":\"#E5ECF6\",\"aaxis\":{\"gridcolor\":\"white\",\"linecolor\":\"white\",\"ticks\":\"\"},\"baxis\":{\"gridcolor\":\"white\",\"linecolor\":\"white\",\"ticks\":\"\"},\"caxis\":{\"gridcolor\":\"white\",\"linecolor\":\"white\",\"ticks\":\"\"}},\"coloraxis\":{\"colorbar\":{\"outlinewidth\":0,\"ticks\":\"\"}},\"colorscale\":{\"sequential\":[[0.0,\"#0d0887\"],[0.1111111111111111,\"#46039f\"],[0.2222222222222222,\"#7201a8\"],[0.3333333333333333,\"#9c179e\"],[0.4444444444444444,\"#bd3786\"],[0.5555555555555556,\"#d8576b\"],[0.6666666666666666,\"#ed7953\"],[0.7777777777777778,\"#fb9f3a\"],[0.8888888888888888,\"#fdca26\"],[1.0,\"#f0f921\"]],\"sequentialminus\":[[0.0,\"#0d0887\"],[0.1111111111111111,\"#46039f\"],[0.2222222222222222,\"#7201a8\"],[0.3333333333333333,\"#9c179e\"],[0.4444444444444444,\"#bd3786\"],[0.5555555555555556,\"#d8576b\"],[0.6666666666666666,\"#ed7953\"],[0.7777777777777778,\"#fb9f3a\"],[0.8888888888888888,\"#fdca26\"],[1.0,\"#f0f921\"]],\"diverging\":[[0,\"#8e0152\"],[0.1,\"#c51b7d\"],[0.2,\"#de77ae\"],[0.3,\"#f1b6da\"],[0.4,\"#fde0ef\"],[0.5,\"#f7f7f7\"],[0.6,\"#e6f5d0\"],[0.7,\"#b8e186\"],[0.8,\"#7fbc41\"],[0.9,\"#4d9221\"],[1,\"#276419\"]]},\"xaxis\":{\"gridcolor\":\"white\",\"linecolor\":\"white\",\"ticks\":\"\",\"title\":{\"standoff\":15},\"zerolinecolor\":\"white\",\"automargin\":true,\"zerolinewidth\":2},\"yaxis\":{\"gridcolor\":\"white\",\"linecolor\":\"white\",\"ticks\":\"\",\"title\":{\"standoff\":15},\"zerolinecolor\":\"white\",\"automargin\":true,\"zerolinewidth\":2},\"scene\":{\"xaxis\":{\"backgroundcolor\":\"#E5ECF6\",\"gridcolor\":\"white\",\"linecolor\":\"white\",\"showbackground\":true,\"ticks\":\"\",\"zerolinecolor\":\"white\",\"gridwidth\":2},\"yaxis\":{\"backgroundcolor\":\"#E5ECF6\",\"gridcolor\":\"white\",\"linecolor\":\"white\",\"showbackground\":true,\"ticks\":\"\",\"zerolinecolor\":\"white\",\"gridwidth\":2},\"zaxis\":{\"backgroundcolor\":\"#E5ECF6\",\"gridcolor\":\"white\",\"linecolor\":\"white\",\"showbackground\":true,\"ticks\":\"\",\"zerolinecolor\":\"white\",\"gridwidth\":2}},\"shapedefaults\":{\"line\":{\"color\":\"#2a3f5f\"}},\"annotationdefaults\":{\"arrowcolor\":\"#2a3f5f\",\"arrowhead\":0,\"arrowwidth\":1},\"geo\":{\"bgcolor\":\"white\",\"landcolor\":\"#E5ECF6\",\"subunitcolor\":\"white\",\"showland\":true,\"showlakes\":true,\"lakecolor\":\"white\"},\"title\":{\"x\":0.05},\"mapbox\":{\"style\":\"light\"}}},\"xaxis\":{\"anchor\":\"y\",\"domain\":[0.0,1.0],\"title\":{\"text\":\"yelp_review_count\"}},\"yaxis\":{\"anchor\":\"x\",\"domain\":[0.0,0.8316],\"title\":{\"text\":\"count\"}},\"xaxis2\":{\"anchor\":\"y2\",\"domain\":[0.0,1.0],\"matches\":\"x\",\"showticklabels\":false,\"showgrid\":true},\"yaxis2\":{\"anchor\":\"x2\",\"domain\":[0.8416,1.0],\"matches\":\"y2\",\"showticklabels\":false,\"showline\":false,\"ticks\":\"\",\"showgrid\":false},\"legend\":{\"tracegroupgap\":0},\"margin\":{\"t\":60},\"barmode\":\"relative\"},                        {\"responsive\": true}                    ).then(function(){\n",
              "                            \n",
              "var gd = document.getElementById('c2e83725-324c-4e54-bb40-91ebd95c4df7');\n",
              "var x = new MutationObserver(function (mutations, observer) {{\n",
              "        var display = window.getComputedStyle(gd).display;\n",
              "        if (!display || display === 'none') {{\n",
              "            console.log([gd, 'removed!']);\n",
              "            Plotly.purge(gd);\n",
              "            observer.disconnect();\n",
              "        }}\n",
              "}});\n",
              "\n",
              "// Listen for the removal of the full notebook cells\n",
              "var notebookContainer = gd.closest('#notebook-container');\n",
              "if (notebookContainer) {{\n",
              "    x.observe(notebookContainer, {childList: true});\n",
              "}}\n",
              "\n",
              "// Listen for the clearing of the current output cell\n",
              "var outputEl = gd.closest('.output');\n",
              "if (outputEl) {{\n",
              "    x.observe(outputEl, {childList: true});\n",
              "}}\n",
              "\n",
              "                        })                };                            </script>        </div>\n",
              "</body>\n",
              "</html>"
            ]
          },
          "metadata": {}
        }
      ]
    },
    {
      "cell_type": "code",
      "source": [
        "nc = len(numeric_cols)\n",
        "fig = px.scatter_matrix(df, dimensions=numeric_cols)\n",
        "\n",
        "fig.update_layout(width= (nc + 1) * 200,\n",
        "                 height= (nc + 1) * 200,\n",
        "                 margin=dict(l=0, r=0, t=0, b=0))\n",
        "\n",
        "fig.show()"
      ],
      "metadata": {
        "colab": {
          "base_uri": "https://localhost:8080/",
          "height": 1000
        },
        "id": "37v-FvxDl88p",
        "outputId": "f29a52b6-ede4-44b9-9a70-772d98b44151"
      },
      "execution_count": 36,
      "outputs": [
        {
          "output_type": "display_data",
          "data": {
            "text/html": [
              "<html>\n",
              "<head><meta charset=\"utf-8\" /></head>\n",
              "<body>\n",
              "    <div>            <script src=\"https://cdnjs.cloudflare.com/ajax/libs/mathjax/2.7.5/MathJax.js?config=TeX-AMS-MML_SVG\"></script><script type=\"text/javascript\">if (window.MathJax && window.MathJax.Hub && window.MathJax.Hub.Config) {window.MathJax.Hub.Config({SVG: {font: \"STIX-Web\"}});}</script>                <script type=\"text/javascript\">window.PlotlyConfig = {MathJaxConfig: 'local'};</script>\n",
              "        <script src=\"https://cdn.plot.ly/plotly-2.18.2.min.js\"></script>                <div id=\"0a8e5fbb-7693-4aa7-ba82-9bb92691e657\" class=\"plotly-graph-div\" style=\"height:2000px; width:2000px;\"></div>            <script type=\"text/javascript\">                                    window.PLOTLYENV=window.PLOTLYENV || {};                                    if (document.getElementById(\"0a8e5fbb-7693-4aa7-ba82-9bb92691e657\")) {                    Plotly.newPlot(                        \"0a8e5fbb-7693-4aa7-ba82-9bb92691e657\",                        [{\"dimensions\":[{\"axis\":{\"matches\":true},\"label\":\"empty_slots\",\"values\":[22,6,23,14,15,2,7,0,13,16,14,12,22,20,19,16,10,9,3,9,17,15,9,8,11,15,15,1,0,8,2,12,23,5,6,23,11,7,13,11,1,13,0,3,18,17,13,13,6,9,12,2,24,6,5,7,12,17,16,17,7,8,20,36,6,10,12,1,11,12,9,10,5,5,8,14,4,9,1,2,18,8,14,5,14,7,9,12,1,15,1,12,12,7,10,1,2,6,7,7,17,6,14,14,14,9,0,9,8,5,6,11,13,12,6,3,17,3,12,14,10,14,16,5,12,4,7,3,11,7,13,10,13,10,11,14,6,12,11,8,12,15,6,8,3,2,4,12,12,14,32,3,12,2,17,9,7,9,11,19,4,20,14,0,3,17,7,12,8,18,4,9,16,11,8,0,17,10,12,12,18,16,15,6,16,11,7,16,11,9,6,17,17,4,3,15,5,10,13,10,4,2,10,19,14,12,10,14,10,6,8,14,13,2,12,10,12,8,10,12,6,10,15,8,2,18,6,10,11,14,4,14,13,15,12,3,19,12,19,2,13,7]},{\"axis\":{\"matches\":true},\"label\":\"slots\",\"values\":[35,16,26,16,16,14,14,20,26,20,26,22,30,22,20,20,14,22,18,14,18,15,14,14,12,22,32,28,16,14,26,26,30,14,22,28,14,14,14,14,20,18,18,28,20,18,18,20,18,16,18,18,28,16,16,19,20,18,16,26,16,16,30,40,12,12,12,16,12,16,14,18,18,18,16,16,14,16,18,20,20,16,36,30,18,14,14,14,32,20,18,14,20,14,16,16,20,20,18,20,20,12,18,20,14,14,12,14,22,16,16,14,20,14,14,14,28,20,14,22,14,20,26,14,18,14,12,14,12,14,16,14,14,16,14,16,12,20,16,16,12,18,18,14,16,14,16,16,16,16,38,16,16,16,22,20,22,28,14,22,12,22,20,20,24,20,26,14,18,40,22,22,18,18,20,0,18,14,14,18,20,20,22,14,20,16,18,26,20,24,14,24,18,22,18,26,16,14,18,20,16,16,16,24,23,16,16,16,18,34,24,24,30,26,14,18,14,19,18,18,16,18,20,16,20,20,12,22,20,16,18,18,14,18,22,26,20,18,24,20,22,18]},{\"axis\":{\"matches\":true},\"label\":\"free_bikes\",\"values\":[13,10,3,2,1,12,7,20,13,4,12,10,7,2,1,4,4,13,14,5,1,0,5,6,1,7,17,26,14,6,24,13,7,9,16,5,3,7,1,3,20,5,17,25,2,0,5,7,12,7,5,16,2,10,11,12,8,1,0,8,9,7,5,4,5,2,0,15,1,3,5,8,13,2,8,2,10,7,17,17,2,8,21,25,4,7,5,2,31,5,17,2,8,7,6,15,18,14,6,11,3,4,4,6,0,5,12,5,14,10,10,3,7,2,8,11,11,17,1,8,4,6,9,9,6,10,5,11,1,7,3,4,1,6,3,2,6,8,5,8,0,3,12,6,12,12,12,3,3,2,6,12,4,14,5,11,15,19,3,2,8,2,6,19,21,3,19,2,9,22,18,13,1,7,11,0,1,4,2,6,2,3,4,8,4,5,10,10,9,14,8,7,1,18,15,11,10,4,5,10,12,14,6,5,9,4,6,2,8,28,15,7,17,24,1,7,2,11,6,3,9,8,5,6,17,2,6,12,9,2,14,4,1,2,10,23,1,4,5,16,9,10]},{\"axis\":{\"matches\":true},\"label\":\"ebikes\",\"values\":[4,0,1,2,0,0,1,0,2,3,2,0,0,2,1,0,0,1,1,0,1,0,0,0,1,0,0,3,4,0,2,2,4,0,2,1,1,2,0,2,1,5,2,0,0,0,0,0,0,2,0,1,0,1,0,0,0,1,0,1,0,0,4,0,3,2,0,5,1,2,4,0,1,1,0,1,0,0,6,1,1,0,4,4,3,0,2,0,2,2,1,0,4,0,1,2,0,0,0,2,2,3,1,0,0,2,3,0,0,2,1,1,1,1,0,0,1,1,1,2,1,3,0,2,4,1,1,0,1,1,3,0,0,2,3,0,0,0,0,3,0,1,1,1,5,4,0,0,0,0,1,0,1,0,3,3,0,0,1,0,2,1,5,0,0,0,2,0,3,2,3,1,0,1,2,0,0,3,2,1,2,2,1,1,3,0,0,0,1,3,2,0,1,0,7,2,2,2,4,0,1,2,0,5,0,1,0,0,0,8,1,0,3,4,0,0,0,1,5,1,8,0,0,2,5,2,3,5,2,0,0,0,1,1,2,3,1,4,2,1,7,0]},{\"axis\":{\"matches\":true},\"label\":\"latitude\",\"values\":[49.262487,49.274566,49.279764,49.260599,49.264215,49.270877,49.26893,49.271721,49.287214,49.282409,49.287097,49.273471,49.282758,49.28602,49.279739,49.277483,49.275679,49.282759,49.288444,49.289124,49.28062,49.279938,49.273663,49.28972,49.285253,49.283343,49.284605,49.279821,49.278004,49.279342,49.273833,49.28526,49.281506,49.276115,49.272827,49.269361,49.2653,49.262598,49.25894,49.258763,49.266724,49.262141,49.268269,49.275717,49.276436,49.277844,49.265089,49.28026,49.291909,49.293257,49.288011,49.28117,49.283227,49.299292,49.29534,49.294318,49.298657,49.259183,49.263837,49.270721,49.265605,49.267222,49.262255,49.257654,49.25919,49.25741,49.285953,49.280881,49.256845,49.25849,49.258425,49.270905,49.273568,49.277141,49.267859,49.265336,49.267628,49.275938,49.2756,49.284157,49.258924,49.266774,49.273355,49.276144,49.268339,49.284062,49.261742,49.262206,49.27023,49.262062,49.27033,49.258902,49.282224,49.265071,49.265198,49.273691,49.2685027,49.278529,49.288682,49.271741,49.262822,49.263635,49.28763,49.297933,49.258819,49.280284,49.276294,49.277469,49.277665,49.277436,49.280332,49.279369,49.283992,49.274881,49.275882,49.273777,49.265005,49.265024,49.271377,49.268616,49.266969,49.263242,49.261403,49.261263,49.262242,49.262321,49.264251,49.266751,49.270684,49.2731,49.254667,49.256694,49.258352,49.258817,49.26151,49.263382,49.261353,49.264466,49.280197,49.266725,49.261188,49.256857,49.283986,49.257985,49.257939,49.256496,49.283236,49.267266,49.265242,49.265213,49.302577,49.277595,49.279235,49.277333,49.273103,49.261973,49.275295,49.285871,49.284893,49.263962,49.277615,49.282214,49.266456,49.268216,49.284554,49.280216,49.266314,49.280852,49.285512,49.27821,49.281301,49.283298,49.280787,49.266476,49.290587,49.312568,49.262835,49.256825,49.275683,49.263518,49.28691,49.282503,49.283749,49.262944,49.27029,49.280427,49.279259,49.285836,49.272969,49.27247,49.271471,49.290112,49.263523,49.264928,49.264483,49.264579,49.263746,49.258761,49.268974,49.273011,49.266924,49.264326,49.266636,49.254818,49.268837,49.255034,49.271044,49.252691,49.272172,49.271082,49.27808,49.269969,49.287528,49.28803,49.259579,49.2890705989865,49.287782,49.28512,49.247854,49.265939,49.261122,49.267725,49.245135,49.274232,49.238105,49.246243,49.249722,49.243375,49.282087,49.283968,49.287464,49.285575,49.251358,49.249184,49.245535,49.289255,49.252656,49.259469,49.277178,49.291597,49.247204,49.2856698]},{\"axis\":{\"matches\":true},\"label\":\"longitude\",\"values\":[-123.114397,-123.121817,-123.110154,-123.113504,-123.117772,-123.115103,-123.11813,-123.104207,-123.11287,-123.118541,-123.118551,-123.118016,-123.122092,-123.116624,-123.116251,-123.114279,-123.116963,-123.106955,-123.139203,-123.12196,-123.12482,-123.127478,-123.127075,-123.144028,-123.134356,-123.131099,-123.108662,-123.10802,-123.105664,-123.101822,-123.114373,-123.141809,-123.120101,-123.114496,-123.147744,-123.13782,-123.13811,-123.138921,-123.139272,-123.115392,-123.104824,-123.101961,-123.147885,-123.142564,-123.11877,-123.120942,-123.119425,-123.135244,-123.140713,-123.138563,-123.132006,-123.104419,-123.120523,-123.130281,-123.150433,-123.148808,-123.121176,-123.120126,-123.105173,-123.146175,-123.152566,-123.153157,-123.126217,-123.153212,-123.148268,-123.148531,-123.124066,-123.130672,-123.120071,-123.104799,-123.100792,-123.126006,-123.129935,-123.122589,-123.145782,-123.145823,-123.127698,-123.145939,-123.102661,-123.099917,-123.152591,-123.141135,-123.154493,-123.151272,-123.157443,-123.095097,-123.13148,-123.109091,-123.10651,-123.104656,-123.10275,-123.109596,-123.132778,-123.123864,-123.131043,-123.102232,-123.0975014,-123.100017,-123.11818,-123.155421,-123.14338,-123.099236,-123.127245,-123.130758,-123.131317,-123.097052,-123.106534,-123.081315,-123.073653,-123.070427,-123.070068,-123.091241,-123.091206,-123.069323,-123.071865,-123.092723,-123.079481,-123.08127,-123.069416,-123.069908,-123.069936,-123.070521,-123.070102,-123.073707,-123.081459,-123.09306,-123.073853,-123.073501,-123.073562,-123.0732,-123.101389,-123.096579,-123.096337,-123.092797,-123.089413,-123.088837,-123.085333,-123.085183,-123.065859,-123.065925,-123.066009,-123.065646,-123.065264,-123.083366,-123.089531,-123.075426,-123.070443,-123.090786,-123.095577,-123.090785,-123.155616,-123.09583,-123.087528,-123.087359,-123.069892,-123.09725,-123.132585,-123.12105,-123.128685,-123.112621,-123.091654,-123.114101,-123.100324,-123.103168,-123.111031,-123.117639,-123.116011,-123.084746,-123.1384,-123.136972,-123.139108,-123.142288,-123.115271,-123.109389,-123.13625,-123.144177,-123.152626,-123.105234,-123.124388,-123.09568,-123.128818,-123.124697,-123.136133,-123.148109,-123.135025,-123.074082,-123.119145,-123.127265,-123.164325,-123.185643,-123.17731,-123.127062,-123.155267,-123.168068,-123.173926,-123.18373,-123.069892,-123.127071,-123.190701,-123.159663,-123.173849,-123.164725,-123.183661,-123.114785,-123.177633,-123.120226,-123.170661,-123.101289,-123.097978,-123.191458,-123.130557,-123.109623,-123.142139,-123.142135,-123.114769,-123.138407369468,-123.12395,-123.11242,-123.153422,-123.1129,-123.097571,-123.11311,-123.116098,-123.129998,-123.154966,-123.124373,-123.104991,-123.104978,-123.056909,-123.061615,-123.060771,-123.061575,-123.115637,-123.116141,-123.120496,-123.132677,-123.067965,-123.145718,-123.13,-123.129158,-123.101549,-123.1125432]},{\"axis\":{\"matches\":true},\"label\":\"location_count\",\"values\":[0,0,0,0,0,3,4,1,0,0,0,2,0,0,0,0,0,0,0,1,0,0,2,0,0,0,0,0,1,0,2,0,0,2,1,0,0,0,0,0,0,0,0,1,0,0,1,0,0,0,0,0,0,0,0,0,1,0,0,0,0,0,1,1,1,0,0,0,0,1,0,3,2,0,0,0,3,1,1,1,1,0,0,1,0,1,0,0,0,0,0,1,0,1,1,1,0,0,0,0,0,0,0,0,0,0,1,0,0,0,0,0,0,0,0,0,0,0,0,0,0,0,0,0,0,0,0,0,1,1,0,0,0,1,0,0,0,0,0,0,0,1,0,0,0,0,0,0,0,0,1,0,0,0,1,0,1,0,0,0,0,0,0,0,0,0,0,0,0,1,1,0,0,0,0,1,1,1,0,0,0,0,0,0,0,0,0,0,1,1,2,1,1,0,0,0,0,0,1,0,0,1,0,0,0,0,1,0,1,1,0,2,0,0,0,0,1,0,1,0,0,0,0,1,0,0,0,1,1,1,2,1,0,0,0,0,0,0,0,0,0,0]},{\"axis\":{\"matches\":true},\"label\":\"yelp_location_count\",\"values\":[8,14,10,10,9,11,10,7,6,9,7,13,10,9,11,11,11,10,11,8,12,11,14,10,9,12,9,11,10,10,12,8,11,11,8,10,10,10,7,10,8,10,9,11,11,13,10,10,11,10,12,7,10,8,3,5,4,8,9,10,6,7,9,7,9,8,9,14,7,9,10,14,14,13,10,9,11,8,7,7,8,10,5,6,8,6,12,10,12,9,8,12,11,9,11,6,8,10,3,5,9,10,11,9,11,9,12,5,2,3,4,8,6,6,4,7,9,8,6,7,7,9,8,6,6,9,7,6,6,5,8,12,12,9,8,7,9,9,4,7,7,5,3,9,9,6,2,5,11,8,1,8,5,5,7,10,12,10,10,7,8,10,8,7,8,10,10,5,9,10,9,10,11,8,10,2,6,9,13,10,11,10,8,10,11,3,12,11,5,4,6,9,5,9,9,6,9,8,5,5,8,7,5,8,7,5,6,8,10,5,12,11,10,10,10,10,9,8,7,8,10,8,7,14,4,6,9,4,5,3,3,3,9,9,5,11,5,8,13,12,6,8]},{\"axis\":{\"matches\":true},\"label\":\"yelp_review_count\",\"values\":[42,94,61,49,69,73,76,34,56,48,37,86,49,74,87,79,67,64,244,1213,94,80,114,1292,152,166,74,66,63,56,75,138,58,79,130,87,68,45,16,51,39,46,86,151,69,74,76,165,1294,1292,255,50,49,1228,33,40,1096,45,45,132,8,78,45,11,18,14,36,193,25,45,46,115,113,74,91,21,71,130,27,53,12,101,95,192,82,42,48,39,50,45,35,46,156,65,69,22,33,57,27,95,23,46,176,1242,43,55,67,16,12,14,15,44,42,19,15,18,31,26,18,22,22,56,52,49,17,38,53,20,20,19,24,53,53,38,34,32,34,34,15,19,48,44,4,34,37,50,3,20,49,33,2,44,13,13,23,46,109,47,76,57,44,73,39,30,69,62,69,13,139,155,147,209,92,33,1292,21,8,45,95,48,87,67,138,20,88,15,64,83,77,12,11,1226,9,16,16,11,56,40,13,77,15,12,10,18,12,11,13,23,41,15,168,47,238,238,49,1292,129,69,15,58,46,57,178,132,17,172,189,170,13,4,4,4,25,184,170,1306,44,15,176,1251,173,69]}],\"hovertemplate\":\"%{xaxis.title.text}=%{x}<br>%{yaxis.title.text}=%{y}<extra></extra>\",\"legendgroup\":\"\",\"marker\":{\"color\":\"#636efa\",\"symbol\":\"circle\"},\"name\":\"\",\"showlegend\":false,\"type\":\"splom\"}],                        {\"template\":{\"data\":{\"histogram2dcontour\":[{\"type\":\"histogram2dcontour\",\"colorbar\":{\"outlinewidth\":0,\"ticks\":\"\"},\"colorscale\":[[0.0,\"#0d0887\"],[0.1111111111111111,\"#46039f\"],[0.2222222222222222,\"#7201a8\"],[0.3333333333333333,\"#9c179e\"],[0.4444444444444444,\"#bd3786\"],[0.5555555555555556,\"#d8576b\"],[0.6666666666666666,\"#ed7953\"],[0.7777777777777778,\"#fb9f3a\"],[0.8888888888888888,\"#fdca26\"],[1.0,\"#f0f921\"]]}],\"choropleth\":[{\"type\":\"choropleth\",\"colorbar\":{\"outlinewidth\":0,\"ticks\":\"\"}}],\"histogram2d\":[{\"type\":\"histogram2d\",\"colorbar\":{\"outlinewidth\":0,\"ticks\":\"\"},\"colorscale\":[[0.0,\"#0d0887\"],[0.1111111111111111,\"#46039f\"],[0.2222222222222222,\"#7201a8\"],[0.3333333333333333,\"#9c179e\"],[0.4444444444444444,\"#bd3786\"],[0.5555555555555556,\"#d8576b\"],[0.6666666666666666,\"#ed7953\"],[0.7777777777777778,\"#fb9f3a\"],[0.8888888888888888,\"#fdca26\"],[1.0,\"#f0f921\"]]}],\"heatmap\":[{\"type\":\"heatmap\",\"colorbar\":{\"outlinewidth\":0,\"ticks\":\"\"},\"colorscale\":[[0.0,\"#0d0887\"],[0.1111111111111111,\"#46039f\"],[0.2222222222222222,\"#7201a8\"],[0.3333333333333333,\"#9c179e\"],[0.4444444444444444,\"#bd3786\"],[0.5555555555555556,\"#d8576b\"],[0.6666666666666666,\"#ed7953\"],[0.7777777777777778,\"#fb9f3a\"],[0.8888888888888888,\"#fdca26\"],[1.0,\"#f0f921\"]]}],\"heatmapgl\":[{\"type\":\"heatmapgl\",\"colorbar\":{\"outlinewidth\":0,\"ticks\":\"\"},\"colorscale\":[[0.0,\"#0d0887\"],[0.1111111111111111,\"#46039f\"],[0.2222222222222222,\"#7201a8\"],[0.3333333333333333,\"#9c179e\"],[0.4444444444444444,\"#bd3786\"],[0.5555555555555556,\"#d8576b\"],[0.6666666666666666,\"#ed7953\"],[0.7777777777777778,\"#fb9f3a\"],[0.8888888888888888,\"#fdca26\"],[1.0,\"#f0f921\"]]}],\"contourcarpet\":[{\"type\":\"contourcarpet\",\"colorbar\":{\"outlinewidth\":0,\"ticks\":\"\"}}],\"contour\":[{\"type\":\"contour\",\"colorbar\":{\"outlinewidth\":0,\"ticks\":\"\"},\"colorscale\":[[0.0,\"#0d0887\"],[0.1111111111111111,\"#46039f\"],[0.2222222222222222,\"#7201a8\"],[0.3333333333333333,\"#9c179e\"],[0.4444444444444444,\"#bd3786\"],[0.5555555555555556,\"#d8576b\"],[0.6666666666666666,\"#ed7953\"],[0.7777777777777778,\"#fb9f3a\"],[0.8888888888888888,\"#fdca26\"],[1.0,\"#f0f921\"]]}],\"surface\":[{\"type\":\"surface\",\"colorbar\":{\"outlinewidth\":0,\"ticks\":\"\"},\"colorscale\":[[0.0,\"#0d0887\"],[0.1111111111111111,\"#46039f\"],[0.2222222222222222,\"#7201a8\"],[0.3333333333333333,\"#9c179e\"],[0.4444444444444444,\"#bd3786\"],[0.5555555555555556,\"#d8576b\"],[0.6666666666666666,\"#ed7953\"],[0.7777777777777778,\"#fb9f3a\"],[0.8888888888888888,\"#fdca26\"],[1.0,\"#f0f921\"]]}],\"mesh3d\":[{\"type\":\"mesh3d\",\"colorbar\":{\"outlinewidth\":0,\"ticks\":\"\"}}],\"scatter\":[{\"fillpattern\":{\"fillmode\":\"overlay\",\"size\":10,\"solidity\":0.2},\"type\":\"scatter\"}],\"parcoords\":[{\"type\":\"parcoords\",\"line\":{\"colorbar\":{\"outlinewidth\":0,\"ticks\":\"\"}}}],\"scatterpolargl\":[{\"type\":\"scatterpolargl\",\"marker\":{\"colorbar\":{\"outlinewidth\":0,\"ticks\":\"\"}}}],\"bar\":[{\"error_x\":{\"color\":\"#2a3f5f\"},\"error_y\":{\"color\":\"#2a3f5f\"},\"marker\":{\"line\":{\"color\":\"#E5ECF6\",\"width\":0.5},\"pattern\":{\"fillmode\":\"overlay\",\"size\":10,\"solidity\":0.2}},\"type\":\"bar\"}],\"scattergeo\":[{\"type\":\"scattergeo\",\"marker\":{\"colorbar\":{\"outlinewidth\":0,\"ticks\":\"\"}}}],\"scatterpolar\":[{\"type\":\"scatterpolar\",\"marker\":{\"colorbar\":{\"outlinewidth\":0,\"ticks\":\"\"}}}],\"histogram\":[{\"marker\":{\"pattern\":{\"fillmode\":\"overlay\",\"size\":10,\"solidity\":0.2}},\"type\":\"histogram\"}],\"scattergl\":[{\"type\":\"scattergl\",\"marker\":{\"colorbar\":{\"outlinewidth\":0,\"ticks\":\"\"}}}],\"scatter3d\":[{\"type\":\"scatter3d\",\"line\":{\"colorbar\":{\"outlinewidth\":0,\"ticks\":\"\"}},\"marker\":{\"colorbar\":{\"outlinewidth\":0,\"ticks\":\"\"}}}],\"scattermapbox\":[{\"type\":\"scattermapbox\",\"marker\":{\"colorbar\":{\"outlinewidth\":0,\"ticks\":\"\"}}}],\"scatterternary\":[{\"type\":\"scatterternary\",\"marker\":{\"colorbar\":{\"outlinewidth\":0,\"ticks\":\"\"}}}],\"scattercarpet\":[{\"type\":\"scattercarpet\",\"marker\":{\"colorbar\":{\"outlinewidth\":0,\"ticks\":\"\"}}}],\"carpet\":[{\"aaxis\":{\"endlinecolor\":\"#2a3f5f\",\"gridcolor\":\"white\",\"linecolor\":\"white\",\"minorgridcolor\":\"white\",\"startlinecolor\":\"#2a3f5f\"},\"baxis\":{\"endlinecolor\":\"#2a3f5f\",\"gridcolor\":\"white\",\"linecolor\":\"white\",\"minorgridcolor\":\"white\",\"startlinecolor\":\"#2a3f5f\"},\"type\":\"carpet\"}],\"table\":[{\"cells\":{\"fill\":{\"color\":\"#EBF0F8\"},\"line\":{\"color\":\"white\"}},\"header\":{\"fill\":{\"color\":\"#C8D4E3\"},\"line\":{\"color\":\"white\"}},\"type\":\"table\"}],\"barpolar\":[{\"marker\":{\"line\":{\"color\":\"#E5ECF6\",\"width\":0.5},\"pattern\":{\"fillmode\":\"overlay\",\"size\":10,\"solidity\":0.2}},\"type\":\"barpolar\"}],\"pie\":[{\"automargin\":true,\"type\":\"pie\"}]},\"layout\":{\"autotypenumbers\":\"strict\",\"colorway\":[\"#636efa\",\"#EF553B\",\"#00cc96\",\"#ab63fa\",\"#FFA15A\",\"#19d3f3\",\"#FF6692\",\"#B6E880\",\"#FF97FF\",\"#FECB52\"],\"font\":{\"color\":\"#2a3f5f\"},\"hovermode\":\"closest\",\"hoverlabel\":{\"align\":\"left\"},\"paper_bgcolor\":\"white\",\"plot_bgcolor\":\"#E5ECF6\",\"polar\":{\"bgcolor\":\"#E5ECF6\",\"angularaxis\":{\"gridcolor\":\"white\",\"linecolor\":\"white\",\"ticks\":\"\"},\"radialaxis\":{\"gridcolor\":\"white\",\"linecolor\":\"white\",\"ticks\":\"\"}},\"ternary\":{\"bgcolor\":\"#E5ECF6\",\"aaxis\":{\"gridcolor\":\"white\",\"linecolor\":\"white\",\"ticks\":\"\"},\"baxis\":{\"gridcolor\":\"white\",\"linecolor\":\"white\",\"ticks\":\"\"},\"caxis\":{\"gridcolor\":\"white\",\"linecolor\":\"white\",\"ticks\":\"\"}},\"coloraxis\":{\"colorbar\":{\"outlinewidth\":0,\"ticks\":\"\"}},\"colorscale\":{\"sequential\":[[0.0,\"#0d0887\"],[0.1111111111111111,\"#46039f\"],[0.2222222222222222,\"#7201a8\"],[0.3333333333333333,\"#9c179e\"],[0.4444444444444444,\"#bd3786\"],[0.5555555555555556,\"#d8576b\"],[0.6666666666666666,\"#ed7953\"],[0.7777777777777778,\"#fb9f3a\"],[0.8888888888888888,\"#fdca26\"],[1.0,\"#f0f921\"]],\"sequentialminus\":[[0.0,\"#0d0887\"],[0.1111111111111111,\"#46039f\"],[0.2222222222222222,\"#7201a8\"],[0.3333333333333333,\"#9c179e\"],[0.4444444444444444,\"#bd3786\"],[0.5555555555555556,\"#d8576b\"],[0.6666666666666666,\"#ed7953\"],[0.7777777777777778,\"#fb9f3a\"],[0.8888888888888888,\"#fdca26\"],[1.0,\"#f0f921\"]],\"diverging\":[[0,\"#8e0152\"],[0.1,\"#c51b7d\"],[0.2,\"#de77ae\"],[0.3,\"#f1b6da\"],[0.4,\"#fde0ef\"],[0.5,\"#f7f7f7\"],[0.6,\"#e6f5d0\"],[0.7,\"#b8e186\"],[0.8,\"#7fbc41\"],[0.9,\"#4d9221\"],[1,\"#276419\"]]},\"xaxis\":{\"gridcolor\":\"white\",\"linecolor\":\"white\",\"ticks\":\"\",\"title\":{\"standoff\":15},\"zerolinecolor\":\"white\",\"automargin\":true,\"zerolinewidth\":2},\"yaxis\":{\"gridcolor\":\"white\",\"linecolor\":\"white\",\"ticks\":\"\",\"title\":{\"standoff\":15},\"zerolinecolor\":\"white\",\"automargin\":true,\"zerolinewidth\":2},\"scene\":{\"xaxis\":{\"backgroundcolor\":\"#E5ECF6\",\"gridcolor\":\"white\",\"linecolor\":\"white\",\"showbackground\":true,\"ticks\":\"\",\"zerolinecolor\":\"white\",\"gridwidth\":2},\"yaxis\":{\"backgroundcolor\":\"#E5ECF6\",\"gridcolor\":\"white\",\"linecolor\":\"white\",\"showbackground\":true,\"ticks\":\"\",\"zerolinecolor\":\"white\",\"gridwidth\":2},\"zaxis\":{\"backgroundcolor\":\"#E5ECF6\",\"gridcolor\":\"white\",\"linecolor\":\"white\",\"showbackground\":true,\"ticks\":\"\",\"zerolinecolor\":\"white\",\"gridwidth\":2}},\"shapedefaults\":{\"line\":{\"color\":\"#2a3f5f\"}},\"annotationdefaults\":{\"arrowcolor\":\"#2a3f5f\",\"arrowhead\":0,\"arrowwidth\":1},\"geo\":{\"bgcolor\":\"white\",\"landcolor\":\"#E5ECF6\",\"subunitcolor\":\"white\",\"showland\":true,\"showlakes\":true,\"lakecolor\":\"white\"},\"title\":{\"x\":0.05},\"mapbox\":{\"style\":\"light\"}}},\"legend\":{\"tracegroupgap\":0},\"margin\":{\"t\":0,\"l\":0,\"r\":0,\"b\":0},\"dragmode\":\"select\",\"width\":2000,\"height\":2000},                        {\"responsive\": true}                    ).then(function(){\n",
              "                            \n",
              "var gd = document.getElementById('0a8e5fbb-7693-4aa7-ba82-9bb92691e657');\n",
              "var x = new MutationObserver(function (mutations, observer) {{\n",
              "        var display = window.getComputedStyle(gd).display;\n",
              "        if (!display || display === 'none') {{\n",
              "            console.log([gd, 'removed!']);\n",
              "            Plotly.purge(gd);\n",
              "            observer.disconnect();\n",
              "        }}\n",
              "}});\n",
              "\n",
              "// Listen for the removal of the full notebook cells\n",
              "var notebookContainer = gd.closest('#notebook-container');\n",
              "if (notebookContainer) {{\n",
              "    x.observe(notebookContainer, {childList: true});\n",
              "}}\n",
              "\n",
              "// Listen for the clearing of the current output cell\n",
              "var outputEl = gd.closest('.output');\n",
              "if (outputEl) {{\n",
              "    x.observe(outputEl, {childList: true});\n",
              "}}\n",
              "\n",
              "                        })                };                            </script>        </div>\n",
              "</body>\n",
              "</html>"
            ]
          },
          "metadata": {}
        }
      ]
    },
    {
      "cell_type": "code",
      "source": [
        "# Correlation matrix\n",
        "#sample from  https://stackoverflow.com/questions/66572672/correlation-heatmap-in-plotly\n",
        "# Correlation\n",
        "df_corr = df[numeric_cols].corr().round(1)  \n",
        "# Mask to matrix\n",
        "mask = np.zeros_like(df_corr, dtype=bool)\n",
        "mask[np.triu_indices_from(mask)] = True\n",
        "# Viz\n",
        "df_corr_viz = df_corr.mask(mask).dropna(how='all').dropna(how='all')\n",
        "# colour variable https://plotly.com/python/colorscales/\n",
        "fig = px.imshow(df_corr_viz, text_auto=True, color_continuous_scale=[(0.00, \"black\"),   (0.33, \"black\"),\n",
        "                                                     (0.33, \"white\"), (0.66, \"white\"),\n",
        "                                                     (0.66, \"blue\"),  (1.00, \"blue\")])\n",
        "fig.show()"
      ],
      "metadata": {
        "colab": {
          "base_uri": "https://localhost:8080/",
          "height": 542
        },
        "id": "EL9dR14LmAQo",
        "outputId": "c4b443ca-92be-41c7-fd4d-100838a4deca"
      },
      "execution_count": 35,
      "outputs": [
        {
          "output_type": "display_data",
          "data": {
            "text/html": [
              "<html>\n",
              "<head><meta charset=\"utf-8\" /></head>\n",
              "<body>\n",
              "    <div>            <script src=\"https://cdnjs.cloudflare.com/ajax/libs/mathjax/2.7.5/MathJax.js?config=TeX-AMS-MML_SVG\"></script><script type=\"text/javascript\">if (window.MathJax && window.MathJax.Hub && window.MathJax.Hub.Config) {window.MathJax.Hub.Config({SVG: {font: \"STIX-Web\"}});}</script>                <script type=\"text/javascript\">window.PlotlyConfig = {MathJaxConfig: 'local'};</script>\n",
              "        <script src=\"https://cdn.plot.ly/plotly-2.18.2.min.js\"></script>                <div id=\"1f9db59e-443c-401a-b44d-cd53ca53132a\" class=\"plotly-graph-div\" style=\"height:525px; width:100%;\"></div>            <script type=\"text/javascript\">                                    window.PLOTLYENV=window.PLOTLYENV || {};                                    if (document.getElementById(\"1f9db59e-443c-401a-b44d-cd53ca53132a\")) {                    Plotly.newPlot(                        \"1f9db59e-443c-401a-b44d-cd53ca53132a\",                        [{\"coloraxis\":\"coloraxis\",\"name\":\"0\",\"texttemplate\":\"%{z}\",\"x\":[\"empty_slots\",\"slots\",\"free_bikes\",\"ebikes\",\"latitude\",\"longitude\",\"location_count\",\"yelp_location_count\",\"yelp_review_count\"],\"y\":[\"slots\",\"free_bikes\",\"ebikes\",\"latitude\",\"longitude\",\"location_count\",\"yelp_location_count\",\"yelp_review_count\"],\"z\":[[0.4,null,null,null,null,null,null,null,null],[-0.6,0.5,null,null,null,null,null,null,null],[-0.1,0.2,0.3,null,null,null,null,null,null],[-0.1,0.1,0.2,-0.3,null,null,null,null,null],[-0.1,-0.2,-0.1,-0.1,-0.1,null,null,null,null],[-0.1,-0.0,0.1,-0.0,0.0,-0.1,null,null,null],[0.0,0.0,-0.0,-0.0,0.0,-0.2,0.0,null,null],[-0.1,0.0,0.1,-0.1,0.4,-0.2,-0.0,0.2,null]],\"type\":\"heatmap\",\"xaxis\":\"x\",\"yaxis\":\"y\",\"hovertemplate\":\"x: %{x}<br>y: %{y}<br>color: %{z}<extra></extra>\"}],                        {\"template\":{\"data\":{\"histogram2dcontour\":[{\"type\":\"histogram2dcontour\",\"colorbar\":{\"outlinewidth\":0,\"ticks\":\"\"},\"colorscale\":[[0.0,\"#0d0887\"],[0.1111111111111111,\"#46039f\"],[0.2222222222222222,\"#7201a8\"],[0.3333333333333333,\"#9c179e\"],[0.4444444444444444,\"#bd3786\"],[0.5555555555555556,\"#d8576b\"],[0.6666666666666666,\"#ed7953\"],[0.7777777777777778,\"#fb9f3a\"],[0.8888888888888888,\"#fdca26\"],[1.0,\"#f0f921\"]]}],\"choropleth\":[{\"type\":\"choropleth\",\"colorbar\":{\"outlinewidth\":0,\"ticks\":\"\"}}],\"histogram2d\":[{\"type\":\"histogram2d\",\"colorbar\":{\"outlinewidth\":0,\"ticks\":\"\"},\"colorscale\":[[0.0,\"#0d0887\"],[0.1111111111111111,\"#46039f\"],[0.2222222222222222,\"#7201a8\"],[0.3333333333333333,\"#9c179e\"],[0.4444444444444444,\"#bd3786\"],[0.5555555555555556,\"#d8576b\"],[0.6666666666666666,\"#ed7953\"],[0.7777777777777778,\"#fb9f3a\"],[0.8888888888888888,\"#fdca26\"],[1.0,\"#f0f921\"]]}],\"heatmap\":[{\"type\":\"heatmap\",\"colorbar\":{\"outlinewidth\":0,\"ticks\":\"\"},\"colorscale\":[[0.0,\"#0d0887\"],[0.1111111111111111,\"#46039f\"],[0.2222222222222222,\"#7201a8\"],[0.3333333333333333,\"#9c179e\"],[0.4444444444444444,\"#bd3786\"],[0.5555555555555556,\"#d8576b\"],[0.6666666666666666,\"#ed7953\"],[0.7777777777777778,\"#fb9f3a\"],[0.8888888888888888,\"#fdca26\"],[1.0,\"#f0f921\"]]}],\"heatmapgl\":[{\"type\":\"heatmapgl\",\"colorbar\":{\"outlinewidth\":0,\"ticks\":\"\"},\"colorscale\":[[0.0,\"#0d0887\"],[0.1111111111111111,\"#46039f\"],[0.2222222222222222,\"#7201a8\"],[0.3333333333333333,\"#9c179e\"],[0.4444444444444444,\"#bd3786\"],[0.5555555555555556,\"#d8576b\"],[0.6666666666666666,\"#ed7953\"],[0.7777777777777778,\"#fb9f3a\"],[0.8888888888888888,\"#fdca26\"],[1.0,\"#f0f921\"]]}],\"contourcarpet\":[{\"type\":\"contourcarpet\",\"colorbar\":{\"outlinewidth\":0,\"ticks\":\"\"}}],\"contour\":[{\"type\":\"contour\",\"colorbar\":{\"outlinewidth\":0,\"ticks\":\"\"},\"colorscale\":[[0.0,\"#0d0887\"],[0.1111111111111111,\"#46039f\"],[0.2222222222222222,\"#7201a8\"],[0.3333333333333333,\"#9c179e\"],[0.4444444444444444,\"#bd3786\"],[0.5555555555555556,\"#d8576b\"],[0.6666666666666666,\"#ed7953\"],[0.7777777777777778,\"#fb9f3a\"],[0.8888888888888888,\"#fdca26\"],[1.0,\"#f0f921\"]]}],\"surface\":[{\"type\":\"surface\",\"colorbar\":{\"outlinewidth\":0,\"ticks\":\"\"},\"colorscale\":[[0.0,\"#0d0887\"],[0.1111111111111111,\"#46039f\"],[0.2222222222222222,\"#7201a8\"],[0.3333333333333333,\"#9c179e\"],[0.4444444444444444,\"#bd3786\"],[0.5555555555555556,\"#d8576b\"],[0.6666666666666666,\"#ed7953\"],[0.7777777777777778,\"#fb9f3a\"],[0.8888888888888888,\"#fdca26\"],[1.0,\"#f0f921\"]]}],\"mesh3d\":[{\"type\":\"mesh3d\",\"colorbar\":{\"outlinewidth\":0,\"ticks\":\"\"}}],\"scatter\":[{\"fillpattern\":{\"fillmode\":\"overlay\",\"size\":10,\"solidity\":0.2},\"type\":\"scatter\"}],\"parcoords\":[{\"type\":\"parcoords\",\"line\":{\"colorbar\":{\"outlinewidth\":0,\"ticks\":\"\"}}}],\"scatterpolargl\":[{\"type\":\"scatterpolargl\",\"marker\":{\"colorbar\":{\"outlinewidth\":0,\"ticks\":\"\"}}}],\"bar\":[{\"error_x\":{\"color\":\"#2a3f5f\"},\"error_y\":{\"color\":\"#2a3f5f\"},\"marker\":{\"line\":{\"color\":\"#E5ECF6\",\"width\":0.5},\"pattern\":{\"fillmode\":\"overlay\",\"size\":10,\"solidity\":0.2}},\"type\":\"bar\"}],\"scattergeo\":[{\"type\":\"scattergeo\",\"marker\":{\"colorbar\":{\"outlinewidth\":0,\"ticks\":\"\"}}}],\"scatterpolar\":[{\"type\":\"scatterpolar\",\"marker\":{\"colorbar\":{\"outlinewidth\":0,\"ticks\":\"\"}}}],\"histogram\":[{\"marker\":{\"pattern\":{\"fillmode\":\"overlay\",\"size\":10,\"solidity\":0.2}},\"type\":\"histogram\"}],\"scattergl\":[{\"type\":\"scattergl\",\"marker\":{\"colorbar\":{\"outlinewidth\":0,\"ticks\":\"\"}}}],\"scatter3d\":[{\"type\":\"scatter3d\",\"line\":{\"colorbar\":{\"outlinewidth\":0,\"ticks\":\"\"}},\"marker\":{\"colorbar\":{\"outlinewidth\":0,\"ticks\":\"\"}}}],\"scattermapbox\":[{\"type\":\"scattermapbox\",\"marker\":{\"colorbar\":{\"outlinewidth\":0,\"ticks\":\"\"}}}],\"scatterternary\":[{\"type\":\"scatterternary\",\"marker\":{\"colorbar\":{\"outlinewidth\":0,\"ticks\":\"\"}}}],\"scattercarpet\":[{\"type\":\"scattercarpet\",\"marker\":{\"colorbar\":{\"outlinewidth\":0,\"ticks\":\"\"}}}],\"carpet\":[{\"aaxis\":{\"endlinecolor\":\"#2a3f5f\",\"gridcolor\":\"white\",\"linecolor\":\"white\",\"minorgridcolor\":\"white\",\"startlinecolor\":\"#2a3f5f\"},\"baxis\":{\"endlinecolor\":\"#2a3f5f\",\"gridcolor\":\"white\",\"linecolor\":\"white\",\"minorgridcolor\":\"white\",\"startlinecolor\":\"#2a3f5f\"},\"type\":\"carpet\"}],\"table\":[{\"cells\":{\"fill\":{\"color\":\"#EBF0F8\"},\"line\":{\"color\":\"white\"}},\"header\":{\"fill\":{\"color\":\"#C8D4E3\"},\"line\":{\"color\":\"white\"}},\"type\":\"table\"}],\"barpolar\":[{\"marker\":{\"line\":{\"color\":\"#E5ECF6\",\"width\":0.5},\"pattern\":{\"fillmode\":\"overlay\",\"size\":10,\"solidity\":0.2}},\"type\":\"barpolar\"}],\"pie\":[{\"automargin\":true,\"type\":\"pie\"}]},\"layout\":{\"autotypenumbers\":\"strict\",\"colorway\":[\"#636efa\",\"#EF553B\",\"#00cc96\",\"#ab63fa\",\"#FFA15A\",\"#19d3f3\",\"#FF6692\",\"#B6E880\",\"#FF97FF\",\"#FECB52\"],\"font\":{\"color\":\"#2a3f5f\"},\"hovermode\":\"closest\",\"hoverlabel\":{\"align\":\"left\"},\"paper_bgcolor\":\"white\",\"plot_bgcolor\":\"#E5ECF6\",\"polar\":{\"bgcolor\":\"#E5ECF6\",\"angularaxis\":{\"gridcolor\":\"white\",\"linecolor\":\"white\",\"ticks\":\"\"},\"radialaxis\":{\"gridcolor\":\"white\",\"linecolor\":\"white\",\"ticks\":\"\"}},\"ternary\":{\"bgcolor\":\"#E5ECF6\",\"aaxis\":{\"gridcolor\":\"white\",\"linecolor\":\"white\",\"ticks\":\"\"},\"baxis\":{\"gridcolor\":\"white\",\"linecolor\":\"white\",\"ticks\":\"\"},\"caxis\":{\"gridcolor\":\"white\",\"linecolor\":\"white\",\"ticks\":\"\"}},\"coloraxis\":{\"colorbar\":{\"outlinewidth\":0,\"ticks\":\"\"}},\"colorscale\":{\"sequential\":[[0.0,\"#0d0887\"],[0.1111111111111111,\"#46039f\"],[0.2222222222222222,\"#7201a8\"],[0.3333333333333333,\"#9c179e\"],[0.4444444444444444,\"#bd3786\"],[0.5555555555555556,\"#d8576b\"],[0.6666666666666666,\"#ed7953\"],[0.7777777777777778,\"#fb9f3a\"],[0.8888888888888888,\"#fdca26\"],[1.0,\"#f0f921\"]],\"sequentialminus\":[[0.0,\"#0d0887\"],[0.1111111111111111,\"#46039f\"],[0.2222222222222222,\"#7201a8\"],[0.3333333333333333,\"#9c179e\"],[0.4444444444444444,\"#bd3786\"],[0.5555555555555556,\"#d8576b\"],[0.6666666666666666,\"#ed7953\"],[0.7777777777777778,\"#fb9f3a\"],[0.8888888888888888,\"#fdca26\"],[1.0,\"#f0f921\"]],\"diverging\":[[0,\"#8e0152\"],[0.1,\"#c51b7d\"],[0.2,\"#de77ae\"],[0.3,\"#f1b6da\"],[0.4,\"#fde0ef\"],[0.5,\"#f7f7f7\"],[0.6,\"#e6f5d0\"],[0.7,\"#b8e186\"],[0.8,\"#7fbc41\"],[0.9,\"#4d9221\"],[1,\"#276419\"]]},\"xaxis\":{\"gridcolor\":\"white\",\"linecolor\":\"white\",\"ticks\":\"\",\"title\":{\"standoff\":15},\"zerolinecolor\":\"white\",\"automargin\":true,\"zerolinewidth\":2},\"yaxis\":{\"gridcolor\":\"white\",\"linecolor\":\"white\",\"ticks\":\"\",\"title\":{\"standoff\":15},\"zerolinecolor\":\"white\",\"automargin\":true,\"zerolinewidth\":2},\"scene\":{\"xaxis\":{\"backgroundcolor\":\"#E5ECF6\",\"gridcolor\":\"white\",\"linecolor\":\"white\",\"showbackground\":true,\"ticks\":\"\",\"zerolinecolor\":\"white\",\"gridwidth\":2},\"yaxis\":{\"backgroundcolor\":\"#E5ECF6\",\"gridcolor\":\"white\",\"linecolor\":\"white\",\"showbackground\":true,\"ticks\":\"\",\"zerolinecolor\":\"white\",\"gridwidth\":2},\"zaxis\":{\"backgroundcolor\":\"#E5ECF6\",\"gridcolor\":\"white\",\"linecolor\":\"white\",\"showbackground\":true,\"ticks\":\"\",\"zerolinecolor\":\"white\",\"gridwidth\":2}},\"shapedefaults\":{\"line\":{\"color\":\"#2a3f5f\"}},\"annotationdefaults\":{\"arrowcolor\":\"#2a3f5f\",\"arrowhead\":0,\"arrowwidth\":1},\"geo\":{\"bgcolor\":\"white\",\"landcolor\":\"#E5ECF6\",\"subunitcolor\":\"white\",\"showland\":true,\"showlakes\":true,\"lakecolor\":\"white\"},\"title\":{\"x\":0.05},\"mapbox\":{\"style\":\"light\"}}},\"xaxis\":{\"anchor\":\"y\",\"domain\":[0.0,1.0],\"scaleanchor\":\"y\",\"constrain\":\"domain\"},\"yaxis\":{\"anchor\":\"x\",\"domain\":[0.0,1.0],\"autorange\":\"reversed\",\"constrain\":\"domain\"},\"coloraxis\":{\"colorscale\":[[0.0,\"black\"],[0.33,\"black\"],[0.33,\"white\"],[0.66,\"white\"],[0.66,\"blue\"],[1.0,\"blue\"]]},\"margin\":{\"t\":60}},                        {\"responsive\": true}                    ).then(function(){\n",
              "                            \n",
              "var gd = document.getElementById('1f9db59e-443c-401a-b44d-cd53ca53132a');\n",
              "var x = new MutationObserver(function (mutations, observer) {{\n",
              "        var display = window.getComputedStyle(gd).display;\n",
              "        if (!display || display === 'none') {{\n",
              "            console.log([gd, 'removed!']);\n",
              "            Plotly.purge(gd);\n",
              "            observer.disconnect();\n",
              "        }}\n",
              "}});\n",
              "\n",
              "// Listen for the removal of the full notebook cells\n",
              "var notebookContainer = gd.closest('#notebook-container');\n",
              "if (notebookContainer) {{\n",
              "    x.observe(notebookContainer, {childList: true});\n",
              "}}\n",
              "\n",
              "// Listen for the clearing of the current output cell\n",
              "var outputEl = gd.closest('.output');\n",
              "if (outputEl) {{\n",
              "    x.observe(outputEl, {childList: true});\n",
              "}}\n",
              "\n",
              "                        })                };                            </script>        </div>\n",
              "</body>\n",
              "</html>"
            ]
          },
          "metadata": {}
        }
      ]
    },
    {
      "cell_type": "markdown",
      "metadata": {
        "id": "EO7Nyx3cgCGv"
      },
      "source": [
        "# Database"
      ]
    },
    {
      "cell_type": "markdown",
      "metadata": {
        "id": "g6_dUKRygCGw"
      },
      "source": [
        "Put all your results in an SQLite3 database (remember, SQLite stores its databases as files in your local machine - make sure to create your database in your project's data/ directory!)\n",
        "\n",
        "\n"
      ]
    },
    {
      "cell_type": "code",
      "execution_count": 93,
      "metadata": {
        "colab": {
          "base_uri": "https://localhost:8080/"
        },
        "id": "mhl-8I5QgCGw",
        "outputId": "0011729d-fc1d-4903-87fe-d6aab5b56eef"
      },
      "outputs": [
        {
          "output_type": "execute_result",
          "data": {
            "text/plain": [
              "<sqlite3.Cursor at 0x7f490de27cc0>"
            ]
          },
          "metadata": {},
          "execution_count": 93
        }
      ],
      "source": [
        "# create database structure\n",
        "import sqlite3\n",
        "\n",
        "# Connect to the database (create a new one if it doesn't exist)\n",
        "conn = sqlite3.connect('/content/drive/MyDrive/Colab Notebooks/datasets/city_bikes_sqlite_database.db')\n",
        "cursor = conn.cursor()\n",
        "\n",
        "# Create the City table\n",
        "cursor.execute('''\n",
        "    CREATE TABLE IF NOT EXISTS City (\n",
        "        city_ID INTEGER PRIMARY KEY AUTOINCREMENT,\n",
        "        city TEXT NOT NULL\n",
        "    )\n",
        "''')\n",
        "\n",
        "# Create the Station table\n",
        "cursor.execute('''\n",
        "    CREATE TABLE IF NOT EXISTS Station (\n",
        "        station_ID INTEGER PRIMARY KEY AUTOINCREMENT,\n",
        "        city_ID INTEGER,\n",
        "        station_name TEXT NOT NULL,\n",
        "        latitude REAL NOT NULL,\n",
        "        longitude REAL NOT NULL,\n",
        "        station_location TEXT NOT NULL,\n",
        "        FOREIGN KEY (city_ID) REFERENCES City(city_ID)\n",
        "    )\n",
        "''')\n",
        "\n",
        "# Create the Bikes table\n",
        "cursor.execute('''\n",
        "    CREATE TABLE IF NOT EXISTS Bikes (\n",
        "        bike_ID INTEGER PRIMARY KEY AUTOINCREMENT,\n",
        "        station_ID INTEGER,\n",
        "        empty_slots INTEGER NOT NULL DEFAULT -1,\n",
        "        slots INTEGER NOT NULL DEFAULT -1,\n",
        "        free_bikes INTEGER NOT NULL DEFAULT -1,\n",
        "        ebikes INTEGER NOT NULL DEFAULT -1,\n",
        "        FOREIGN KEY (station_ID) REFERENCES Station(station_ID)\n",
        "    )\n",
        "''')\n",
        "\n",
        "# Create the Locations table\n",
        "cursor.execute('''\n",
        "    CREATE TABLE IF NOT EXISTS Locations (\n",
        "        location_ID INTEGER PRIMARY KEY AUTOINCREMENT,\n",
        "        station_ID INTEGER,\n",
        "        location_count INTEGER NOT NULL DEFAULT -1,\n",
        "        yelp_location_count INTEGER NOT NULL DEFAULT -1,\n",
        "        yelp_review_count INTEGER NOT NULL DEFAULT -1,\n",
        "        FOREIGN KEY (station_ID) REFERENCES Station(station_ID)\n",
        "    )\n",
        "''')\n"
      ]
    },
    {
      "cell_type": "code",
      "source": [
        "# initialize all tables as blank\n",
        "\n",
        "# Get the list of table names in the database\n",
        "cursor.execute(\"SELECT name FROM sqlite_master WHERE type='table'\")\n",
        "table_names = cursor.fetchall()\n",
        "\n",
        "# Iterate through each table and delete all rows\n",
        "for table in table_names:\n",
        "    table_name = table[0]\n",
        "    cursor.execute(f\"DELETE FROM {table_name}\")"
      ],
      "metadata": {
        "id": "FUUZ2nS9wcsY"
      },
      "execution_count": 94,
      "outputs": []
    },
    {
      "cell_type": "code",
      "source": [
        "# Insert data into the City table\n",
        "\n",
        "# Get unique city names from the dataframe\n",
        "unique_cities = df['city'].unique()\n",
        "\n",
        "city_records = [(city,) for city in unique_cities]\n",
        "cursor.executemany('INSERT INTO City (city) VALUES (?)', city_records)"
      ],
      "metadata": {
        "colab": {
          "base_uri": "https://localhost:8080/"
        },
        "id": "T8gBSyiRxJsG",
        "outputId": "cd1ddf41-e789-4b01-ec0e-e4f102d92d30"
      },
      "execution_count": 95,
      "outputs": [
        {
          "output_type": "execute_result",
          "data": {
            "text/plain": [
              "<sqlite3.Cursor at 0x7f490de27cc0>"
            ]
          },
          "metadata": {},
          "execution_count": 95
        }
      ]
    },
    {
      "cell_type": "code",
      "source": [
        "# Insert data into the Station table\n",
        "for station_row in df[['station_name', 'latitude', 'longitude', 'station_location', 'city']].itertuples(index=False):\n",
        "    cursor.execute('''\n",
        "        INSERT INTO Station (station_name, latitude, longitude, station_location, city_ID)\n",
        "        SELECT ?, ?, ?, ?, city_ID FROM City WHERE city = ?\n",
        "    ''', station_row)"
      ],
      "metadata": {
        "id": "u83MZTKzxYVz"
      },
      "execution_count": 96,
      "outputs": []
    },
    {
      "cell_type": "code",
      "source": [
        "# Insert data into the Bikes table\n",
        "for bikes_row in df[['empty_slots', 'slots', 'free_bikes', 'ebikes', 'station_name']].itertuples(index=False):\n",
        "    cursor.execute('''\n",
        "        INSERT INTO Bikes (empty_slots, slots, free_bikes, ebikes, station_ID)\n",
        "        SELECT ?, ?, ?, ?, station_ID FROM Station WHERE station_name = ?\n",
        "    ''', bikes_row)"
      ],
      "metadata": {
        "id": "SKVI450Hxu6j"
      },
      "execution_count": 97,
      "outputs": []
    },
    {
      "cell_type": "code",
      "source": [
        "# Insert data into the Locations table\n",
        "for locations_row in df[['location_count', 'yelp_location_count', 'yelp_review_count', 'station_name']].itertuples(index=False):\n",
        "    cursor.execute('''\n",
        "        INSERT INTO Locations (location_count, yelp_location_count, yelp_review_count, station_ID)\n",
        "        SELECT ?, ?, ?, station_ID FROM Station WHERE station_name = ?\n",
        "    ''', locations_row)"
      ],
      "metadata": {
        "id": "Zjku88mqvMMk"
      },
      "execution_count": 98,
      "outputs": []
    },
    {
      "cell_type": "markdown",
      "source": [
        "### Experiment with Graph_Tool for Visualization of Database Schema"
      ],
      "metadata": {
        "id": "T927pFVb1CZQ"
      }
    },
    {
      "cell_type": "code",
      "source": [
        "# Installing graph-tool (https://graph-tool.skewed.de)"
      ],
      "metadata": {
        "id": "MbdmtZmmzIF2"
      },
      "execution_count": 76,
      "outputs": []
    },
    {
      "cell_type": "code",
      "source": [
        "# FAILS to install graph_tool\n",
        "# takes 40 seconds to run\n",
        "# !echo \"deb http://downloads.skewed.de/apt focal main\" >> /etc/apt/sources.list\n",
        "# !apt-key adv --keyserver keyserver.ubuntu.com --recv-key 612DEFB798507F25\n",
        "# !apt-get update\n",
        "# !apt-get install python3-graph-tool python3-matplotlib python3-cairo"
      ],
      "metadata": {
        "id": "mBxuyn5OyjJE"
      },
      "execution_count": 85,
      "outputs": []
    },
    {
      "cell_type": "code",
      "source": [
        "# FAILED to install graph_tool\n",
        "# !echo \"deb http://downloads.skewed.de/apt focal main\" >> /etc/apt/sources.list\n",
        "# !apt-key adv --keyserver keyserver.ubuntu.com --recv-key 612DEFB798507F25\n",
        "# !apt-get update\n",
        "# !apt-get install python3-graph-tool python3-matplotlib python3-cairo"
      ],
      "metadata": {
        "id": "bTsfxYd7zFEt"
      },
      "execution_count": 84,
      "outputs": []
    },
    {
      "cell_type": "code",
      "source": [
        "  # FAILS with error:\n",
        "  # Looking in indexes: https://pypi.org/simple, https://us-python.pkg.dev/colab-wheels/public/simple/\n",
        "  # ERROR: Could not find a version that satisfies the requirement graph-tool (from versions: none)\n",
        "  # ERROR: No matching distribution found for graph-tool\n",
        "# !apt update\n",
        "# !apt install python3-cairo libcairo2-dev\n",
        "# !pip install pycairo\n",
        "# !pip install graph-tool"
      ],
      "metadata": {
        "colab": {
          "base_uri": "https://localhost:8080/"
        },
        "id": "Vrvp44srzrmt",
        "outputId": "5f22a4fd-e3c3-44a2-e3d2-e3a6a72b27f2"
      },
      "execution_count": 80,
      "outputs": [
        {
          "output_type": "stream",
          "name": "stdout",
          "text": [
            "\u001b[33m\r0% [Working]\u001b[0m\r            \rHit:1 https://cloud.r-project.org/bin/linux/ubuntu focal-cran40/ InRelease\n",
            "Hit:2 https://developer.download.nvidia.com/compute/cuda/repos/ubuntu2004/x86_64  InRelease\n",
            "Hit:3 http://archive.ubuntu.com/ubuntu focal InRelease\n",
            "Hit:4 http://archive.ubuntu.com/ubuntu focal-updates InRelease\n",
            "Hit:5 http://ppa.launchpad.net/c2d4u.team/c2d4u4.0+/ubuntu focal InRelease\n",
            "Hit:6 http://archive.ubuntu.com/ubuntu focal-backports InRelease\n",
            "Hit:7 http://security.ubuntu.com/ubuntu focal-security InRelease\n",
            "Hit:8 http://downloads.skewed.de/apt focal InRelease\n",
            "Hit:9 http://ppa.launchpad.net/cran/libgit2/ubuntu focal InRelease\n",
            "Hit:10 http://ppa.launchpad.net/deadsnakes/ppa/ubuntu focal InRelease\n",
            "Hit:11 http://ppa.launchpad.net/graphics-drivers/ppa/ubuntu focal InRelease\n",
            "Hit:12 http://ppa.launchpad.net/ubuntugis/ppa/ubuntu focal InRelease\n",
            "Reading package lists... Done\n",
            "Building dependency tree       \n",
            "Reading state information... Done\n",
            "36 packages can be upgraded. Run 'apt list --upgradable' to see them.\n",
            "\u001b[1;33mW: \u001b[0mTarget Packages (main/binary-amd64/Packages) is configured multiple times in /etc/apt/sources.list:52 and /etc/apt/sources.list:53\u001b[0m\n",
            "\u001b[1;33mW: \u001b[0mTarget Packages (main/binary-all/Packages) is configured multiple times in /etc/apt/sources.list:52 and /etc/apt/sources.list:53\u001b[0m\n",
            "\u001b[1;33mW: \u001b[0mTarget Packages (main/binary-amd64/Packages) is configured multiple times in /etc/apt/sources.list:52 and /etc/apt/sources.list:53\u001b[0m\n",
            "\u001b[1;33mW: \u001b[0mTarget Packages (main/binary-all/Packages) is configured multiple times in /etc/apt/sources.list:52 and /etc/apt/sources.list:53\u001b[0m\n",
            "Reading package lists... Done\n",
            "Building dependency tree       \n",
            "Reading state information... Done\n",
            "python3-cairo is already the newest version (1.16.2-2ubuntu2).\n",
            "The following additional packages will be installed:\n",
            "  libblkid-dev libcairo-script-interpreter2 libffi-dev libglib2.0-dev\n",
            "  libglib2.0-dev-bin liblzo2-2 libmount-dev libpixman-1-dev libselinux1-dev\n",
            "  libsepol1-dev libxcb-render0-dev libxcb-shm0-dev\n",
            "Suggested packages:\n",
            "  libcairo2-doc libgirepository1.0-dev libglib2.0-doc libgdk-pixbuf2.0-bin\n",
            "  | libgdk-pixbuf2.0-dev libxml2-utils\n",
            "The following NEW packages will be installed:\n",
            "  libblkid-dev libcairo-script-interpreter2 libcairo2-dev libffi-dev\n",
            "  libglib2.0-dev libglib2.0-dev-bin liblzo2-2 libmount-dev libpixman-1-dev\n",
            "  libselinux1-dev libsepol1-dev libxcb-render0-dev libxcb-shm0-dev\n",
            "0 upgraded, 13 newly installed, 0 to remove and 36 not upgraded.\n",
            "Need to get 3,492 kB of archives.\n",
            "After this operation, 20.0 MB of additional disk space will be used.\n",
            "Get:1 http://archive.ubuntu.com/ubuntu focal/main amd64 liblzo2-2 amd64 2.10-2 [50.8 kB]\n",
            "Get:2 http://archive.ubuntu.com/ubuntu focal/main amd64 libcairo-script-interpreter2 amd64 1.16.0-4ubuntu1 [54.2 kB]\n",
            "Get:3 http://archive.ubuntu.com/ubuntu focal-updates/main amd64 libpixman-1-dev amd64 0.38.4-0ubuntu2.1 [243 kB]\n",
            "Get:4 http://archive.ubuntu.com/ubuntu focal/main amd64 libxcb-render0-dev amd64 1.14-2 [18.4 kB]\n",
            "Get:5 http://archive.ubuntu.com/ubuntu focal/main amd64 libxcb-shm0-dev amd64 1.14-2 [6,716 B]\n",
            "Get:6 http://archive.ubuntu.com/ubuntu focal/main amd64 libffi-dev amd64 3.3-4 [57.0 kB]\n",
            "Get:7 http://archive.ubuntu.com/ubuntu focal-updates/main amd64 libglib2.0-dev-bin amd64 2.64.6-1~ubuntu20.04.4 [109 kB]\n",
            "Get:8 http://archive.ubuntu.com/ubuntu focal-updates/main amd64 libblkid-dev amd64 2.34-0.1ubuntu9.3 [167 kB]\n",
            "Get:9 http://archive.ubuntu.com/ubuntu focal-updates/main amd64 libmount-dev amd64 2.34-0.1ubuntu9.3 [176 kB]\n",
            "Get:10 http://archive.ubuntu.com/ubuntu focal-updates/main amd64 libsepol1-dev amd64 3.0-1ubuntu0.1 [325 kB]\n",
            "Get:11 http://archive.ubuntu.com/ubuntu focal/main amd64 libselinux1-dev amd64 3.0-1build2 [151 kB]\n",
            "Get:12 http://archive.ubuntu.com/ubuntu focal-updates/main amd64 libglib2.0-dev amd64 2.64.6-1~ubuntu20.04.4 [1,506 kB]\n",
            "Get:13 http://archive.ubuntu.com/ubuntu focal/main amd64 libcairo2-dev amd64 1.16.0-4ubuntu1 [627 kB]\n",
            "Fetched 3,492 kB in 1s (2,382 kB/s)\n",
            "W: Target Packages (main/binary-amd64/Packages) is configured multiple times in /etc/apt/sources.list:52 and /etc/apt/sources.list:53\n",
            "W: Target Packages (main/binary-all/Packages) is configured multiple times in /etc/apt/sources.list:52 and /etc/apt/sources.list:53\n",
            "Selecting previously unselected package liblzo2-2:amd64.\n",
            "(Reading database ... 126031 files and directories currently installed.)\n",
            "Preparing to unpack .../00-liblzo2-2_2.10-2_amd64.deb ...\n",
            "Unpacking liblzo2-2:amd64 (2.10-2) ...\n",
            "Selecting previously unselected package libcairo-script-interpreter2:amd64.\n",
            "Preparing to unpack .../01-libcairo-script-interpreter2_1.16.0-4ubuntu1_amd64.deb ...\n",
            "Unpacking libcairo-script-interpreter2:amd64 (1.16.0-4ubuntu1) ...\n",
            "Selecting previously unselected package libpixman-1-dev:amd64.\n",
            "Preparing to unpack .../02-libpixman-1-dev_0.38.4-0ubuntu2.1_amd64.deb ...\n",
            "Unpacking libpixman-1-dev:amd64 (0.38.4-0ubuntu2.1) ...\n",
            "Selecting previously unselected package libxcb-render0-dev:amd64.\n",
            "Preparing to unpack .../03-libxcb-render0-dev_1.14-2_amd64.deb ...\n",
            "Unpacking libxcb-render0-dev:amd64 (1.14-2) ...\n",
            "Selecting previously unselected package libxcb-shm0-dev:amd64.\n",
            "Preparing to unpack .../04-libxcb-shm0-dev_1.14-2_amd64.deb ...\n",
            "Unpacking libxcb-shm0-dev:amd64 (1.14-2) ...\n",
            "Selecting previously unselected package libffi-dev:amd64.\n",
            "Preparing to unpack .../05-libffi-dev_3.3-4_amd64.deb ...\n",
            "Unpacking libffi-dev:amd64 (3.3-4) ...\n",
            "Selecting previously unselected package libglib2.0-dev-bin.\n",
            "Preparing to unpack .../06-libglib2.0-dev-bin_2.64.6-1~ubuntu20.04.4_amd64.deb ...\n",
            "Unpacking libglib2.0-dev-bin (2.64.6-1~ubuntu20.04.4) ...\n",
            "Selecting previously unselected package libblkid-dev:amd64.\n",
            "Preparing to unpack .../07-libblkid-dev_2.34-0.1ubuntu9.3_amd64.deb ...\n",
            "Unpacking libblkid-dev:amd64 (2.34-0.1ubuntu9.3) ...\n",
            "Selecting previously unselected package libmount-dev:amd64.\n",
            "Preparing to unpack .../08-libmount-dev_2.34-0.1ubuntu9.3_amd64.deb ...\n",
            "Unpacking libmount-dev:amd64 (2.34-0.1ubuntu9.3) ...\n",
            "Selecting previously unselected package libsepol1-dev:amd64.\n",
            "Preparing to unpack .../09-libsepol1-dev_3.0-1ubuntu0.1_amd64.deb ...\n",
            "Unpacking libsepol1-dev:amd64 (3.0-1ubuntu0.1) ...\n",
            "Selecting previously unselected package libselinux1-dev:amd64.\n",
            "Preparing to unpack .../10-libselinux1-dev_3.0-1build2_amd64.deb ...\n",
            "Unpacking libselinux1-dev:amd64 (3.0-1build2) ...\n",
            "Selecting previously unselected package libglib2.0-dev:amd64.\n",
            "Preparing to unpack .../11-libglib2.0-dev_2.64.6-1~ubuntu20.04.4_amd64.deb ...\n",
            "Unpacking libglib2.0-dev:amd64 (2.64.6-1~ubuntu20.04.4) ...\n",
            "Selecting previously unselected package libcairo2-dev:amd64.\n",
            "Preparing to unpack .../12-libcairo2-dev_1.16.0-4ubuntu1_amd64.deb ...\n",
            "Unpacking libcairo2-dev:amd64 (1.16.0-4ubuntu1) ...\n",
            "Setting up libglib2.0-dev-bin (2.64.6-1~ubuntu20.04.4) ...\n",
            "Setting up libblkid-dev:amd64 (2.34-0.1ubuntu9.3) ...\n",
            "Setting up libpixman-1-dev:amd64 (0.38.4-0ubuntu2.1) ...\n",
            "Setting up libsepol1-dev:amd64 (3.0-1ubuntu0.1) ...\n",
            "Setting up liblzo2-2:amd64 (2.10-2) ...\n",
            "Setting up libffi-dev:amd64 (3.3-4) ...\n",
            "Setting up libxcb-shm0-dev:amd64 (1.14-2) ...\n",
            "Setting up libxcb-render0-dev:amd64 (1.14-2) ...\n",
            "Setting up libmount-dev:amd64 (2.34-0.1ubuntu9.3) ...\n",
            "Setting up libcairo-script-interpreter2:amd64 (1.16.0-4ubuntu1) ...\n",
            "Setting up libselinux1-dev:amd64 (3.0-1build2) ...\n",
            "Setting up libglib2.0-dev:amd64 (2.64.6-1~ubuntu20.04.4) ...\n",
            "Processing triggers for libglib2.0-0:amd64 (2.64.6-1~ubuntu20.04.4) ...\n",
            "Processing triggers for libc-bin (2.31-0ubuntu9.9) ...\n",
            "Processing triggers for man-db (2.9.1-1) ...\n",
            "Setting up libcairo2-dev:amd64 (1.16.0-4ubuntu1) ...\n",
            "\u001b[1;33mW: \u001b[0mTarget Packages (main/binary-amd64/Packages) is configured multiple times in /etc/apt/sources.list:52 and /etc/apt/sources.list:53\u001b[0m\n",
            "\u001b[1;33mW: \u001b[0mTarget Packages (main/binary-all/Packages) is configured multiple times in /etc/apt/sources.list:52 and /etc/apt/sources.list:53\u001b[0m\n",
            "Looking in indexes: https://pypi.org/simple, https://us-python.pkg.dev/colab-wheels/public/simple/\n",
            "Requirement already satisfied: pycairo in /usr/lib/python3/dist-packages (1.16.2)\n",
            "Looking in indexes: https://pypi.org/simple, https://us-python.pkg.dev/colab-wheels/public/simple/\n",
            "\u001b[31mERROR: Could not find a version that satisfies the requirement graph-tool (from versions: none)\u001b[0m\u001b[31m\n",
            "\u001b[0m\u001b[31mERROR: No matching distribution found for graph-tool\u001b[0m\u001b[31m\n",
            "\u001b[0m"
          ]
        }
      ]
    },
    {
      "cell_type": "code",
      "source": [
        "# 2 minutes to run and graph_tool still fails\n",
        "# found on https://colab.research.google.com/drive/1cj5GF8QMb0eCtsdNLuTa0jZmOKvVKb3s?usp=sharing#scrollTo=6KxPtNPhLFZx\n",
        "# and looked dangerous\n",
        "# ! wget -O miniconda.sh https://repo.anaconda.com/miniconda/Miniconda3-py37_4.10.3-Linux-x86_64.sh \n",
        "# ! chmod +x miniconda.sh\n",
        "# ! bash ./miniconda.sh -b -f -p /usr/local\n",
        "# ! rm miniconda.sh\n",
        "# ! conda config --add channels conda-forge\n",
        "# ! conda install -qy mamba\n",
        "# ! mamba update -qy --all"
      ],
      "metadata": {
        "id": "JPWz7vPq0Qvd"
      },
      "execution_count": 86,
      "outputs": []
    },
    {
      "cell_type": "code",
      "source": [
        "visualize = False\n",
        "\n",
        "if visualize:\n",
        "  # create visualization of database relationship\n",
        "  import graph_tool.all as gt\n",
        "\n",
        "  # Retrieve table information\n",
        "  cursor.execute(\"SELECT name FROM sqlite_master WHERE type='table';\")\n",
        "  tables = cursor.fetchall()\n",
        "\n",
        "  # Create a graph\n",
        "  g = gt.Graph(directed=True)\n",
        "\n",
        "  # Add nodes for each table\n",
        "  node_map = {}\n",
        "  for table in tables:\n",
        "      node = g.add_vertex()\n",
        "      node_map[table[0]] = node\n",
        "\n",
        "  # Add edges for table relationships\n",
        "  for table in tables:\n",
        "      cursor.execute(f\"PRAGMA foreign_key_list({table[0]})\")\n",
        "      foreign_keys = cursor.fetchall()\n",
        "      for fk in foreign_keys:\n",
        "          source_node = node_map[table[0]]\n",
        "          target_node = node_map[fk[2]]\n",
        "          g.add_edge(source_node, target_node)\n",
        "\n",
        "  # Visualize the graph\n",
        "  gt.graph_draw(g, output=\"relationship_diagram.png\", output_size=(800, 800), vertex_text=g.vertex_index, vertex_font_size=12)\n"
      ],
      "metadata": {
        "id": "Zt6tX0PiyYVh"
      },
      "execution_count": 87,
      "outputs": []
    },
    {
      "cell_type": "code",
      "source": [
        "# FAILs on Google Colab\n",
        "# !pip install sqlalchemy-utils"
      ],
      "metadata": {
        "id": "8SF_zGd71ixL"
      },
      "execution_count": 91,
      "outputs": []
    },
    {
      "cell_type": "code",
      "source": [
        "# doesn't work on Google Colab but may locally\n",
        "visualize = False\n",
        "\n",
        "if visualize:\n",
        "  from sqlalchemy_utils import visualize_models\n",
        "  from myapp.models import Base\n",
        "\n",
        "  graph = visualize_models(Base)\n",
        "  graph.view()\n"
      ],
      "metadata": {
        "id": "X3H3o-RK0jx2"
      },
      "execution_count": 90,
      "outputs": []
    },
    {
      "cell_type": "markdown",
      "source": [
        "### Database Schema Visualization"
      ],
      "metadata": {
        "id": "jfE_te3u1ZXT"
      }
    },
    {
      "cell_type": "code",
      "source": [
        "import networkx as nx\n",
        "import matplotlib.pyplot as plt\n",
        "\n",
        "# Create a directed graph\n",
        "G = nx.DiGraph()\n",
        "\n",
        "# Add nodes\n",
        "G.add_nodes_from(['City', 'Station', 'Bikes', 'Locations'])\n",
        "\n",
        "# Add edges\n",
        "G.add_edge('City', 'Station')\n",
        "G.add_edge('Station', 'Bikes')\n",
        "G.add_edge('Station', 'Locations')\n",
        "\n",
        "# Draw the graph\n",
        "pos = nx.spring_layout(G, seed=42)\n",
        "nx.draw(G, pos, with_labels=True, node_color='lightblue', node_size=1500, edge_color='gray', arrows=True)\n",
        "plt.show()\n"
      ],
      "metadata": {
        "colab": {
          "base_uri": "https://localhost:8080/",
          "height": 516
        },
        "id": "eQQnDlPbz68z",
        "outputId": "4b963104-e1d9-4730-ea87-6a02184c233a"
      },
      "execution_count": 99,
      "outputs": [
        {
          "output_type": "display_data",
          "data": {
            "text/plain": [
              "<Figure size 640x480 with 1 Axes>"
            ],
            "image/png": "[encoded data removed]"
          },
          "metadata": {}
        }
      ]
    },
    {
      "cell_type": "markdown",
      "metadata": {
        "id": "76TBtukWgCGw"
      },
      "source": [
        "Look at the data before and after the join to validate your data."
      ]
    },
    {
      "cell_type": "markdown",
      "source": [
        "# Verify dataframe properly entered into database"
      ],
      "metadata": {
        "id": "aFEjEM6GxPiP"
      }
    },
    {
      "cell_type": "code",
      "source": [
        "# validate what we have inserted, how many rows was in our dataframe?\n",
        "df.shape[0]"
      ],
      "metadata": {
        "colab": {
          "base_uri": "https://localhost:8080/"
        },
        "id": "7Wi872aevhJR",
        "outputId": "6f7ebd98-de9a-4423-f09a-5dd714f73ad5"
      },
      "execution_count": 100,
      "outputs": [
        {
          "output_type": "execute_result",
          "data": {
            "text/plain": [
              "242"
            ]
          },
          "metadata": {},
          "execution_count": 100
        }
      ]
    },
    {
      "cell_type": "code",
      "source": [
        "# VERIFY City Table with Unique Names\n",
        "# Execute the SELECT query\n",
        "cursor.execute('SELECT * FROM City')\n",
        "\n",
        "# Fetch all rows\n",
        "rows = cursor.fetchall()\n",
        "\n",
        "# Display the count of total rows\n",
        "print(\"Total rows:\", len(rows))\n",
        "\n",
        "# Display the results\n",
        "for row in rows:\n",
        "    print(row)"
      ],
      "metadata": {
        "colab": {
          "base_uri": "https://localhost:8080/"
        },
        "id": "_VuVl5oLvpkH",
        "outputId": "e4e1925b-c0db-44c2-c303-f33415494955"
      },
      "execution_count": 101,
      "outputs": [
        {
          "output_type": "stream",
          "name": "stdout",
          "text": [
            "Total rows: 1\n",
            "(1, 'Vancouver')\n"
          ]
        }
      ]
    },
    {
      "cell_type": "code",
      "source": [
        "# VERIFY Station Table \n",
        "# Execute the SELECT query\n",
        "cursor.execute('SELECT * FROM Station')\n",
        "\n",
        "# Fetch all rows\n",
        "rows = cursor.fetchall()\n",
        "\n",
        "# Display the count of total rows\n",
        "print(\"Total rows:\", len(rows))\n",
        "\n",
        "# Display the results\n",
        "for row in rows:\n",
        "    print(row)"
      ],
      "metadata": {
        "colab": {
          "base_uri": "https://localhost:8080/"
        },
        "id": "4fX6r42lxg5X",
        "outputId": "61d6a15d-5bda-4194-babd-18ebc0f81cb1"
      },
      "execution_count": 102,
      "outputs": [
        {
          "output_type": "stream",
          "name": "stdout",
          "text": [
            "Total rows: 242\n",
            "(1, 1, '10th & Cambie', 49.262487, -123.114397, '49.262487,-123.114397')\n",
            "(2, 1, 'Yaletown-Roundhouse Station', 49.274566, -123.121817, '49.274566,-123.121817')\n",
            "(3, 1, 'Dunsmuir & Beatty', 49.279764, -123.110154, '49.279764,-123.110154')\n",
            "(4, 1, '12th & Yukon (City Hall)', 49.260599, -123.113504, '49.260599,-123.113504')\n",
            "(5, 1, '8th & Ash', 49.264215, -123.117772, '49.264215,-123.117772')\n",
            "(6, 1, 'Spyglass & Seawall', 49.270877, -123.115103, '49.270877,-123.115103')\n",
            "(7, 1, 'Stamps Landing', 49.26893, -123.11813, '49.26893,-123.11813')\n",
            "(8, 1, 'Ontario & Seawall', 49.271721, -123.104207, '49.271721,-123.104207')\n",
            "(9, 1, 'Canada Place', 49.287214, -123.11287, '49.287214,-123.11287')\n",
            "(10, 1, 'Granville & Georgia', 49.282409, -123.118541, '49.282409,-123.118541')\n",
            "(11, 1, 'Pender & Burrard', 49.287097, -123.118551, '49.287097,-123.118551')\n",
            "(12, 1, 'Marinaside & Davie', 49.273471, -123.118016, '49.273471,-123.118016')\n",
            "(13, 1, 'Robson & Hornby', 49.282758, -123.122092, '49.282758,-123.122092')\n",
            "(14, 1, 'Hornby & Pender', 49.28602, -123.116624, '49.28602,-123.116624')\n",
            "(15, 1, 'Homer & Robson (Vancouver Public Library)', 49.279739, -123.116251, '49.279739,-123.116251')\n",
            "(16, 1, 'Beatty & Robson', 49.277483, -123.114279, '49.277483,-123.114279')\n",
            "(17, 1, 'Beatty & Nelson', 49.275679, -123.116963, '49.275679,-123.116963')\n",
            "(18, 1, 'Abbott & Cordova', 49.282759, -123.106955, '49.282759,-123.106955')\n",
            "(19, 1, 'Comox & Denman', 49.288444, -123.139203, '49.288444,-123.139203')\n",
            "(20, 1, 'Cordova & Bute', 49.289124, -123.12196, '49.289124,-123.12196')\n",
            "(21, 1, 'Hornby & Nelson', 49.28062, -123.12482, '49.28062,-123.12482')\n",
            "(22, 1, 'Helmcken & Burrard', 49.279938, -123.127478, '49.279938,-123.127478')\n",
            "(23, 1, 'Pacific & Richards', 49.273663, -123.127075, '49.273663,-123.127075')\n",
            "(24, 1, 'Chilco & Beach', 49.28972, -123.144028, '49.28972,-123.144028')\n",
            "(25, 1, 'Comox & Broughton', 49.285253, -123.134356, '49.285253,-123.134356')\n",
            "(26, 1, 'Bute & Comox', 49.283343, -123.131099, '49.283343,-123.131099')\n",
            "(27, 1, 'Cambie & Water', 49.284605, -123.108662, '49.284605,-123.108662')\n",
            "(28, 1, 'Keefer & Abbott', 49.279821, -123.10802, '49.279821,-123.10802')\n",
            "(29, 1, 'Expo & Carrall', 49.278004, -123.105664, '49.278004,-123.105664')\n",
            "(30, 1, 'Keefer & Columbia', 49.279342, -123.101822, '49.279342,-123.101822')\n",
            "(31, 1, 'Marinaside & Cooperage', 49.273833, -123.114373, '49.273833,-123.114373')\n",
            "(32, 1, 'Bidwell & Burnaby', 49.28526, -123.141809, '49.28526,-123.141809')\n",
            "(33, 1, 'Robson & Granville', 49.281506, -123.120101, '49.281506,-123.120101')\n",
            "(34, 1, 'Expo & Smithe', 49.276115, -123.114496, '49.276115,-123.114496')\n",
            "(35, 1, 'Cypress & Cornwall', 49.272827, -123.147744, '49.272827,-123.147744')\n",
            "(36, 1, 'Anderson & 2nd', 49.269361, -123.13782, '49.269361,-123.13782')\n",
            "(37, 1, '7th & Granville', 49.2653, -123.13811, '49.2653,-123.13811')\n",
            "(38, 1, '10th & Granville', 49.262598, -123.138921, '49.262598,-123.138921')\n",
            "(39, 1, '14th & Granville', 49.25894, -123.139272, '49.25894,-123.139272')\n",
            "(40, 1, '14th & Cambie', 49.258763, -123.115392, '49.258763,-123.115392')\n",
            "(41, 1, 'Ontario & 5th', 49.266724, -123.104824, '49.266724,-123.104824')\n",
            "(42, 1, '10th & Main', 49.262141, -123.101961, '49.262141,-123.101961')\n",
            "(43, 1, 'Cypress & 4th', 49.268269, -123.147885, '49.268269,-123.147885')\n",
            "(44, 1, 'Vanier Park', 49.275717, -123.142564, '49.275717,-123.142564')\n",
            "(45, 1, 'Nelson & Mainland', 49.276436, -123.11877, '49.276436,-123.11877')\n",
            "(46, 1, 'Nelson & Richards', 49.277844, -123.120942, '49.277844,-123.120942')\n",
            "(47, 1, '7th & Heather', 49.265089, -123.119425, '49.265089,-123.119425')\n",
            "(48, 1, 'Harwood & Bute', 49.28026, -123.135244, '49.28026,-123.135244')\n",
            "(49, 1, 'Chilco & Barclay', 49.291909, -123.140713, '49.291909,-123.140713')\n",
            "(50, 1, 'Chilco & Robson', 49.293257, -123.138563, '49.293257,-123.138563')\n",
            "(51, 1, 'Nicola & Robson', 49.288011, -123.132006, '49.288011,-123.132006')\n",
            "(52, 1, 'Carrall & Hastings', 49.28117, -123.104419, '49.28117,-123.104419')\n",
            "(53, 1, \"šxʷƛ̓ənəq Xwtl'e7énḵ Square - Vancouver Art Gallery\", 49.283227, -123.120523, '49.283227,-123.120523')\n",
            "(54, 1, 'Stanley Park - Vancouver Aquarium', 49.299292, -123.130281, '49.299292,-123.130281')\n",
            "(55, 1, 'Stanley Park - Second Beach North', 49.29534, -123.150433, '49.29534,-123.150433')\n",
            "(56, 1, 'Stanley Park - Second Beach South', 49.294318, -123.148808, '49.294318,-123.148808')\n",
            "(57, 1, 'Stanley Park - Totem Poles', 49.298657, -123.121176, '49.298657,-123.121176')\n",
            "(58, 1, 'Heather & 14th', 49.259183, -123.120126, '49.259183,-123.120126')\n",
            "(59, 1, '8th & Ontario', 49.263837, -123.105173, '49.263837,-123.105173')\n",
            "(60, 1, '1st & Chestnut', 49.270721, -123.146175, '49.270721,-123.146175')\n",
            "(61, 1, '7th & Arbutus', 49.265605, -123.152566, '49.265605,-123.152566')\n",
            "(62, 1, '5th & Arbutus', 49.267222, -123.153157, '49.267222,-123.153157')\n",
            "(63, 1, '10th & Oak', 49.262255, -123.126217, '49.262255,-123.126217')\n",
            "(64, 1, 'Arbutus & 16th', 49.257654, -123.153212, '49.257654,-123.153212')\n",
            "(65, 1, 'Cypress & 14th', 49.25919, -123.148268, '49.25919,-123.148268')\n",
            "(66, 1, 'Cypress & 16th', 49.25741, -123.148531, '49.25741,-123.148531')\n",
            "(67, 1, 'Georgia & Thurlow', 49.285953, -123.124066, '49.285953,-123.124066')\n",
            "(68, 1, 'Thurlow & Pendrell', 49.280881, -123.130672, '49.280881,-123.130672')\n",
            "(69, 1, 'Heather & 16th', 49.256845, -123.120071, '49.256845,-123.120071')\n",
            "(70, 1, '14th & Ontario', 49.25849, -123.104799, '49.25849,-123.104799')\n",
            "(71, 1, '14th & Main', 49.258425, -123.100792, '49.258425,-123.100792')\n",
            "(72, 1, 'David Lam Park - West', 49.270905, -123.126006, '49.270905,-123.126006')\n",
            "(73, 1, 'Beach & Seymour', 49.273568, -123.129935, '49.273568,-123.129935')\n",
            "(74, 1, 'Richards & Helmcken', 49.277141, -123.122589, '49.277141,-123.122589')\n",
            "(75, 1, 'Burrard & 4th', 49.267859, -123.145782, '49.267859,-123.145782')\n",
            "(76, 1, 'Burrard & 7th', 49.265336, -123.145823, '49.265336,-123.145823')\n",
            "(77, 1, 'South False Creek Seawall', 49.267628, -123.127698, '49.267628,-123.127698')\n",
            "(78, 1, 'Chestnut & McNicoll', 49.275938, -123.145939, '49.275938,-123.145939')\n",
            "(79, 1, 'Creekside Park North', 49.2756, -123.102661, '49.2756,-123.102661')\n",
            "(80, 1, 'Alexander & Main', 49.284157, -123.099917, '49.284157,-123.099917')\n",
            "(81, 1, 'Arbutus Greenway & 14th', 49.258924, -123.152591, '49.258924,-123.152591')\n",
            "(82, 1, 'Arbutus Greenway & Fir', 49.266774, -123.141135, '49.266774,-123.141135')\n",
            "(83, 1, 'Kitsilano Beach Park', 49.273355, -123.154493, '49.273355,-123.154493')\n",
            "(84, 1, 'Arbutus & McNicoll', 49.276144, -123.151272, '49.276144,-123.151272')\n",
            "(85, 1, 'Vine & 4th', 49.268339, -123.157443, '49.268339,-123.157443')\n",
            "(86, 1, 'Alexander & Dunlevy', 49.284062, -123.095097, '49.284062,-123.095097')\n",
            "(87, 1, 'Alder & 11th', 49.261742, -123.13148, '49.261742,-123.13148')\n",
            "(88, 1, '10th & Columbia', 49.262206, -123.109091, '49.262206,-123.109091')\n",
            "(89, 1, '1st & Manitoba', 49.27023, -123.10651, '49.27023,-123.10651')\n",
            "(90, 1, '10th & Ontario', 49.262062, -123.104656, '49.262062,-123.104656')\n",
            "(91, 1, 'Quebec & 1st', 49.27033, -123.10275, '49.27033,-123.10275')\n",
            "(92, 1, 'Columbia & 14th', 49.258902, -123.109596, '49.258902,-123.109596')\n",
            "(93, 1, 'Bute & Davie', 49.282224, -123.132778, '49.282224,-123.132778')\n",
            "(94, 1, '7th & Laurel', 49.265071, -123.123864, '49.265071,-123.123864')\n",
            "(95, 1, '7th &  Alder', 49.265198, -123.131043, '49.265198,-123.131043')\n",
            "(96, 1, 'Science World', 49.273691, -123.102232, '49.273691,-123.102232')\n",
            "(97, 1, '1st & Scotia', 49.2685027, -123.0975014, '49.2685027,-123.0975014')\n",
            "(98, 1, 'Georgia & Main', 49.278529, -123.100017, '49.278529,-123.100017')\n",
            "(99, 1, 'Shaw Tower', 49.288682, -123.11818, '49.288682,-123.11818')\n",
            "(100, 1, 'York & Yew', 49.271741, -123.155421, '49.271741,-123.155421')\n",
            "(101, 1, 'Pine & 10th', 49.262822, -123.14338, '49.262822,-123.14338')\n",
            "(102, 1, '8th & Scotia', 49.263635, -123.099236, '49.263635,-123.099236')\n",
            "(103, 1, 'Alberni & Jervis', 49.28763, -123.127245, '49.28763,-123.127245')\n",
            "(104, 1, 'Stanley Park - Information Booth', 49.297933, -123.130758, '49.297933,-123.130758')\n",
            "(105, 1, '14th & Alder', 49.258819, -123.131317, '49.258819,-123.131317')\n",
            "(106, 1, 'Pender & Gore', 49.280284, -123.097052, '49.280284,-123.097052')\n",
            "(107, 1, 'Carrall & Seawall', 49.276294, -123.106534, '49.276294,-123.106534')\n",
            "(108, 1, 'Glen & Union', 49.277469, -123.081315, '49.277469,-123.081315')\n",
            "(109, 1, 'Adanac & McLean', 49.277665, -123.073653, '49.277665,-123.073653')\n",
            "(110, 1, 'Commercial & Adanac', 49.277436, -123.070427, '49.277436,-123.070427')\n",
            "(111, 1, 'Pender & Commercial', 49.280332, -123.070068, '49.280332,-123.070068')\n",
            "(112, 1, 'Keefer & Princess', 49.279369, -123.091241, '49.279369,-123.091241')\n",
            "(113, 1, 'Alexander & Railway', 49.283992, -123.091206, '49.283992,-123.091206')\n",
            "(114, 1, 'Napier & Commercial', 49.274881, -123.069323, '49.274881,-123.069323')\n",
            "(115, 1, 'Britannia Parking Lot', 49.275882, -123.071865, '49.275882,-123.071865')\n",
            "(116, 1, 'Thornton & National', 49.273777, -123.092723, '49.273777,-123.092723')\n",
            "(117, 1, 'Keith & 6th', 49.265005, -123.079481, '49.265005,-123.079481')\n",
            "(118, 1, 'Glen & 6th', 49.265024, -123.08127, '49.265024,-123.08127')\n",
            "(119, 1, 'Grant & Commercial', 49.271377, -123.069416, '49.271377,-123.069416')\n",
            "(120, 1, '2nd & Commercial', 49.268616, -123.069908, '49.268616,-123.069908')\n",
            "(121, 1, '4th & Commercial', 49.266969, -123.069936, '49.266969,-123.069936')\n",
            "(122, 1, '8th & Commercial', 49.263242, -123.070521, '49.263242,-123.070521')\n",
            "(123, 1, '10th & Commercial', 49.261403, -123.070102, '49.261403,-123.070102')\n",
            "(124, 1, 'Woodland & 10th', 49.261263, -123.073707, '49.261263,-123.073707')\n",
            "(125, 1, 'Glen & Broadway', 49.262242, -123.081459, '49.262242,-123.081459')\n",
            "(126, 1, 'St George & Broadway', 49.262321, -123.09306, '49.262321,-123.09306')\n",
            "(127, 1, '7th & Woodland', 49.264251, -123.073853, '49.264251,-123.073853')\n",
            "(128, 1, 'Woodland & 4th', 49.266751, -123.073501, '49.266751,-123.073501')\n",
            "(129, 1, 'Woodland & Graveley', 49.270684, -123.073562, '49.270684,-123.073562')\n",
            "(130, 1, 'Charles & Woodland', 49.2731, -123.0732, '49.2731,-123.0732')\n",
            "(131, 1, '18th & Main', 49.254667, -123.101389, '49.254667,-123.101389')\n",
            "(132, 1, 'Prince Edward & 16th', 49.256694, -123.096579, '49.256694,-123.096579')\n",
            "(133, 1, 'Prince Edward & 14th', 49.258352, -123.096337, '49.258352,-123.096337')\n",
            "(134, 1, '13th & St George', 49.258817, -123.092797, '49.258817,-123.092797')\n",
            "(135, 1, '10th & Fraser', 49.26151, -123.089413, '49.26151,-123.089413')\n",
            "(136, 1, '8th & Fraser', 49.263382, -123.088837, '49.263382,-123.088837')\n",
            "(137, 1, 'St Catherines & 10th', 49.261353, -123.085333, '49.261353,-123.085333')\n",
            "(138, 1, 'St Catherines & 7th', 49.264466, -123.085183, '49.264466,-123.085183')\n",
            "(139, 1, 'Pender & Victoria', 49.280197, -123.065859, '49.280197,-123.065859')\n",
            "(140, 1, 'Victoria & 4th', 49.266725, -123.065925, '49.266725,-123.065925')\n",
            "(141, 1, 'Victoria & 10th', 49.261188, -123.066009, '49.261188,-123.066009')\n",
            "(142, 1, '15th & Victoria (Trout Lake)', 49.256857, -123.065646, '49.256857,-123.065646')\n",
            "(143, 1, 'Triumph & Victoria', 49.283986, -123.065264, '49.283986,-123.065264')\n",
            "(144, 1, 'Windsor & 14th', 49.257985, -123.083366, '49.257985,-123.083366')\n",
            "(145, 1, '14th & Fraser', 49.257939, -123.089531, '49.257939,-123.089531')\n",
            "(146, 1, '15th & Knight', 49.256496, -123.075426, '49.256496,-123.075426')\n",
            "(147, 1, 'Commercial & Pandora', 49.283236, -123.070443, '49.283236,-123.070443')\n",
            "(148, 1, 'Carolina & Great Northern Way', 49.267266, -123.090786, '49.267266,-123.090786')\n",
            "(149, 1, '6th & Prince Edward', 49.265242, -123.095577, '49.265242,-123.095577')\n",
            "(150, 1, '6th & Carolina', 49.265213, -123.090785, '49.265213,-123.090785')\n",
            "(151, 1, 'Stanley Park - Third Beach Parking Lot', 49.302577, -123.155616, '49.302577,-123.155616')\n",
            "(152, 1, 'Union & Dunlevy', 49.277595, -123.09583, '49.277595,-123.09583')\n",
            "(153, 1, 'Keefer & Hawks', 49.279235, -123.087528, '49.279235,-123.087528')\n",
            "(154, 1, 'Hawks & Union', 49.277333, -123.087359, '49.277333,-123.087359')\n",
            "(155, 1, 'Charles & Commercial', 49.273103, -123.069892, '49.273103,-123.069892')\n",
            "(156, 1, '10th & Kingsway', 49.261973, -123.09725, '49.261973,-123.09725')\n",
            "(157, 1, 'Beach & Hornby', 49.275295, -123.132585, '49.275295,-123.132585')\n",
            "(158, 1, 'Burrard Station (Melville & Dunsmuir)', 49.285871, -123.12105, '49.285871,-123.12105')\n",
            "(159, 1, 'Bute & Barclay', 49.284893, -123.128685, '49.284893,-123.128685')\n",
            "(160, 1, '8th & Yukon', 49.263962, -123.112621, '49.263962,-123.112621')\n",
            "(161, 1, 'Princess & Union', 49.277615, -123.091654, '49.277615,-123.091654')\n",
            "(162, 1, 'Dunsmuir & Richards', 49.282214, -123.114101, '49.282214,-123.114101')\n",
            "(163, 1, '5th & Main', 49.266456, -123.100324, '49.266456,-123.100324')\n",
            "(164, 1, '3rd & Quebec', 49.268216, -123.103168, '49.268216,-123.103168')\n",
            "(165, 1, 'Richards & Cordova', 49.284554, -123.111031, '49.284554,-123.111031')\n",
            "(166, 1, 'Richards & Robson', 49.280216, -123.117639, '49.280216,-123.117639')\n",
            "(167, 1, 'Olympic Village Station', 49.266314, -123.116011, '49.266314,-123.116011')\n",
            "(168, 1, 'Campbell & Hastings', 49.280852, -123.084746, '49.280852,-123.084746')\n",
            "(169, 1, 'Cardero & Davie', 49.285512, -123.1384, '49.285512,-123.1384')\n",
            "(170, 1, 'Aquatic Centre', 49.27821, -123.136972, '49.27821,-123.136972')\n",
            "(171, 1, 'Beach & Broughton', 49.281301, -123.139108, '49.281301,-123.139108')\n",
            "(172, 1, 'Beach & Cardero', 49.283298, -123.142288, '49.283298,-123.142288')\n",
            "(173, 1, 'Georgia & Homer', 49.280787, -123.115271, '49.280787,-123.115271')\n",
            "(174, 1, 'Columbia & 5th', 49.266476, -123.109389, '49.266476,-123.109389')\n",
            "(175, 1, 'Haro & Denman', 49.290587, -123.13625, '49.290587,-123.13625')\n",
            "(176, 1, 'Stanley Park - Prospect Point', 49.312568, -123.144177, '49.312568,-123.144177')\n",
            "(177, 1, 'Arbutus & 10th', 49.262835, -123.152626, '49.262835,-123.152626')\n",
            "(178, 1, 'Ontario & 16th', 49.256825, -123.105234, '49.256825,-123.105234')\n",
            "(179, 1, 'Richards & Davie', 49.275683, -123.124388, '49.275683,-123.124388')\n",
            "(180, 1, '8th & Prince Edward', 49.263518, -123.09568, '49.263518,-123.09568')\n",
            "(181, 1, 'Jervis & Robson', 49.28691, -123.128818, '49.28691,-123.128818')\n",
            "(182, 1, 'Smithe & Burrard', 49.282503, -123.124697, '49.282503,-123.124697')\n",
            "(183, 1, 'Broughton & Davie', 49.283749, -123.136133, '49.283749,-123.136133')\n",
            "(184, 1, 'Cypress & 10th', 49.262944, -123.148109, '49.262944,-123.148109')\n",
            "(185, 1, 'Granville Island', 49.27029, -123.135025, '49.27029,-123.135025')\n",
            "(186, 1, 'McLean & Pender', 49.280427, -123.074082, '49.280427,-123.074082')\n",
            "(187, 1, 'Richards & Smithe', 49.279259, -123.119145, '49.279259,-123.119145')\n",
            "(188, 1, 'Bute & Robson', 49.285836, -123.127265, '49.285836,-123.127265')\n",
            "(189, 1, 'Trafalgar & Cornwall', 49.272969, -123.164325, '49.272969,-123.164325')\n",
            "(190, 1, 'Alma & Point Grey', 49.27247, -123.185643, '49.27247,-123.185643')\n",
            "(191, 1, 'Point Grey & Blenheim', 49.271471, -123.17731, '49.271471,-123.17731')\n",
            "(192, 1, 'Hastings & Broughton', 49.290112, -123.127062, '49.290112,-123.127062')\n",
            "(193, 1, 'Yew & Broadway', 49.263523, -123.155267, '49.263523,-123.155267')\n",
            "(194, 1, '8th & Macdonald', 49.264928, -123.168068, '49.264928,-123.168068')\n",
            "(195, 1, 'Balaclava & Broadway', 49.264483, -123.173926, '49.264483,-123.173926')\n",
            "(196, 1, 'Dunbar & Broadway', 49.264579, -123.18373, '49.264579,-123.18373')\n",
            "(197, 1, 'Grandview & Commercial', 49.263746, -123.069892, '49.263746,-123.069892')\n",
            "(198, 1, '14th & Oak', 49.258761, -123.127071, '49.258761,-123.127071')\n",
            "(199, 1, 'Wallace & 4th', 49.268974, -123.190701, '49.268974,-123.190701')\n",
            "(200, 1, 'Balsam & Cornwall', 49.273011, -123.159663, '49.273011,-123.159663')\n",
            "(201, 1, 'Balaclava & 6th', 49.266924, -123.173849, '49.266924,-123.173849')\n",
            "(202, 1, 'Trafalgar & Broadway', 49.264326, -123.164725, '49.264326,-123.164725')\n",
            "(203, 1, 'Dunbar & 6th', 49.266636, -123.183661, '49.266636,-123.183661')\n",
            "(204, 1, '18th & Cambie', 49.254818, -123.114785, '49.254818,-123.114785')\n",
            "(205, 1, 'Blenheim & 4th', 49.268837, -123.177633, '49.268837,-123.177633')\n",
            "(206, 1, '18th & Heather', 49.255034, -123.120226, '49.255034,-123.120226')\n",
            "(207, 1, 'Point Grey & Bayswater', 49.271044, -123.170661, '49.271044,-123.170661')\n",
            "(208, 1, '20th & Main', 49.252691, -123.101289, '49.252691,-123.101289')\n",
            "(209, 1, 'Station & Terminal', 49.272172, -123.097978, '49.272172,-123.097978')\n",
            "(210, 1, 'Jericho Beach', 49.271082, -123.191458, '49.271082,-123.191458')\n",
            "(211, 1, 'Burrard & Drake', 49.27808, -123.130557, '49.27808,-123.130557')\n",
            "(212, 1, 'Columbia & 1st', 49.269969, -123.109623, '49.269969,-123.109623')\n",
            "(213, 1, 'Davie & Beach', 49.287528, -123.142139, '49.287528,-123.142139')\n",
            "(214, 1, 'Morton & Denman', 49.28803, -123.142135, '49.28803,-123.142135')\n",
            "(215, 1, '13th & Cambie', 49.259579, -123.114769, '49.259579,-123.114769')\n",
            "(216, 1, 'Nelson & Denman', 49.2890705989865, -123.138407369468, '49.2890705989865,-123.138407369468')\n",
            "(217, 1, 'Melville & Bute', 49.287782, -123.12395, '49.287782,-123.12395')\n",
            "(218, 1, 'Seymour & Cordova', 49.28512, -123.11242, '49.28512,-123.11242')\n",
            "(219, 1, 'Arbutus & Nanton', 49.247854, -123.153422, '49.247854,-123.153422')\n",
            "(220, 1, 'Yukon & 6th', 49.265939, -123.1129, '49.265939,-123.1129')\n",
            "(221, 1, '11th & Kingsway', 49.261122, -123.097571, '49.261122,-123.097571')\n",
            "(222, 1, 'Wylie & 2nd', 49.267725, -123.11311, '49.267725,-123.11311')\n",
            "(223, 1, '29th & Cambie', 49.245135, -123.116098, '49.245135,-123.116098')\n",
            "(224, 1, 'Rolston & Granville', 49.274232, -123.129998, '49.274232,-123.129998')\n",
            "(225, 1, 'East Blvd & 37th', 49.238105, -123.154966, '49.238105,-123.154966')\n",
            "(226, 1, '28th & Willow', 49.246243, -123.124373, '49.246243,-123.124373')\n",
            "(227, 1, 'Ontario & 23rd', 49.249722, -123.104991, '49.249722,-123.104991')\n",
            "(228, 1, '30th & Ontario', 49.243375, -123.104978, '49.243375,-123.104978')\n",
            "(229, 1, 'Franklin & Nanaimo', 49.282087, -123.056909, '49.282087,-123.056909')\n",
            "(230, 1, 'Lakewood & Triumph', 49.283968, -123.061615, '49.283968,-123.061615')\n",
            "(231, 1, 'Wall & Eton', 49.287464, -123.060771, '49.287464,-123.060771')\n",
            "(232, 1, 'Lakewood & Oxford', 49.285575, -123.061575, '49.285575,-123.061575')\n",
            "(233, 1, '22nd & Cambie', 49.251358, -123.115637, '49.251358,-123.115637')\n",
            "(234, 1, 'King Edward & Cambie', 49.249184, -123.116141, '49.249184,-123.116141')\n",
            "(235, 1, 'Heather & 29th', 49.245535, -123.120496, '49.245535,-123.120496')\n",
            "(236, 1, 'Cardero & Robson', 49.289255, -123.132677, '49.289255,-123.132677')\n",
            "(237, 1, 'Commercial & 20th', 49.252656, -123.067965, '49.252656,-123.067965')\n",
            "(238, 1, 'Burrard & 14th', 49.259469, -123.145718, '49.259469,-123.145718')\n",
            "(239, 1, 'Hornby & Drake', 49.277178, -123.13, '49.277178,-123.13')\n",
            "(240, 1, 'Cardero & Bayshore', 49.291597, -123.129158, '49.291597,-123.129158')\n",
            "(241, 1, '27th & Main', 49.247204, -123.101549, '49.247204,-123.101549')\n",
            "(242, 1, 'Cordova & Granville', 49.2856698, -123.1125432, '49.2856698,-123.1125432')\n"
          ]
        }
      ]
    },
    {
      "cell_type": "code",
      "source": [
        "# VERIFY Bikes Table \n",
        "# Execute the SELECT query\n",
        "cursor.execute('SELECT * FROM Bikes')\n",
        "\n",
        "# Fetch all rows\n",
        "rows = cursor.fetchall()\n",
        "\n",
        "# Display the count of total rows\n",
        "print(\"Total rows:\", len(rows))\n",
        "\n",
        "# Display the results\n",
        "for row in rows:\n",
        "    print(row)"
      ],
      "metadata": {
        "colab": {
          "base_uri": "https://localhost:8080/"
        },
        "id": "jjDlRbAMxziZ",
        "outputId": "18de4eb5-05cf-4960-d57c-69b22c296368"
      },
      "execution_count": 103,
      "outputs": [
        {
          "output_type": "stream",
          "name": "stdout",
          "text": [
            "Total rows: 242\n",
            "(1, 1, 22, 35, 13, 4)\n",
            "(2, 2, 6, 16, 10, 0)\n",
            "(3, 3, 23, 26, 3, 1)\n",
            "(4, 4, 14, 16, 2, 2)\n",
            "(5, 5, 15, 16, 1, 0)\n",
            "(6, 6, 2, 14, 12, 0)\n",
            "(7, 7, 7, 14, 7, 1)\n",
            "(8, 8, 0, 20, 20, 0)\n",
            "(9, 9, 13, 26, 13, 2)\n",
            "(10, 10, 16, 20, 4, 3)\n",
            "(11, 11, 14, 26, 12, 2)\n",
            "(12, 12, 12, 22, 10, 0)\n",
            "(13, 13, 22, 30, 7, 0)\n",
            "(14, 14, 20, 22, 2, 2)\n",
            "(15, 15, 19, 20, 1, 1)\n",
            "(16, 16, 16, 20, 4, 0)\n",
            "(17, 17, 10, 14, 4, 0)\n",
            "(18, 18, 9, 22, 13, 1)\n",
            "(19, 19, 3, 18, 14, 1)\n",
            "(20, 20, 9, 14, 5, 0)\n",
            "(21, 21, 17, 18, 1, 1)\n",
            "(22, 22, 15, 15, 0, 0)\n",
            "(23, 23, 9, 14, 5, 0)\n",
            "(24, 24, 8, 14, 6, 0)\n",
            "(25, 25, 11, 12, 1, 1)\n",
            "(26, 26, 15, 22, 7, 0)\n",
            "(27, 27, 15, 32, 17, 0)\n",
            "(28, 28, 1, 28, 26, 3)\n",
            "(29, 29, 0, 16, 14, 4)\n",
            "(30, 30, 8, 14, 6, 0)\n",
            "(31, 31, 2, 26, 24, 2)\n",
            "(32, 32, 12, 26, 13, 2)\n",
            "(33, 33, 23, 30, 7, 4)\n",
            "(34, 34, 5, 14, 9, 0)\n",
            "(35, 35, 6, 22, 16, 2)\n",
            "(36, 36, 23, 28, 5, 1)\n",
            "(37, 37, 11, 14, 3, 1)\n",
            "(38, 38, 7, 14, 7, 2)\n",
            "(39, 39, 13, 14, 1, 0)\n",
            "(40, 40, 11, 14, 3, 2)\n",
            "(41, 41, 1, 20, 20, 1)\n",
            "(42, 42, 13, 18, 5, 5)\n",
            "(43, 43, 0, 18, 17, 2)\n",
            "(44, 44, 3, 28, 25, 0)\n",
            "(45, 45, 18, 20, 2, 0)\n",
            "(46, 46, 17, 18, 0, 0)\n",
            "(47, 47, 13, 18, 5, 0)\n",
            "(48, 48, 13, 20, 7, 0)\n",
            "(49, 49, 6, 18, 12, 0)\n",
            "(50, 50, 9, 16, 7, 2)\n",
            "(51, 51, 12, 18, 5, 0)\n",
            "(52, 52, 2, 18, 16, 1)\n",
            "(53, 53, 24, 28, 2, 0)\n",
            "(54, 54, 6, 16, 10, 1)\n",
            "(55, 55, 5, 16, 11, 0)\n",
            "(56, 56, 7, 19, 12, 0)\n",
            "(57, 57, 12, 20, 8, 0)\n",
            "(58, 58, 17, 18, 1, 1)\n",
            "(59, 59, 16, 16, 0, 0)\n",
            "(60, 60, 17, 26, 8, 1)\n",
            "(61, 61, 7, 16, 9, 0)\n",
            "(62, 62, 8, 16, 7, 0)\n",
            "(63, 63, 20, 30, 5, 4)\n",
            "(64, 64, 36, 40, 4, 0)\n",
            "(65, 65, 6, 12, 5, 3)\n",
            "(66, 66, 10, 12, 2, 2)\n",
            "(67, 67, 12, 12, 0, 0)\n",
            "(68, 68, 1, 16, 15, 5)\n",
            "(69, 69, 11, 12, 1, 1)\n",
            "(70, 70, 12, 16, 3, 2)\n",
            "(71, 71, 9, 14, 5, 4)\n",
            "(72, 72, 10, 18, 8, 0)\n",
            "(73, 73, 5, 18, 13, 1)\n",
            "(74, 74, 5, 18, 2, 1)\n",
            "(75, 75, 8, 16, 8, 0)\n",
            "(76, 76, 14, 16, 2, 1)\n",
            "(77, 77, 4, 14, 10, 0)\n",
            "(78, 78, 9, 16, 7, 0)\n",
            "(79, 79, 1, 18, 17, 6)\n",
            "(80, 80, 2, 20, 17, 1)\n",
            "(81, 81, 18, 20, 2, 1)\n",
            "(82, 82, 8, 16, 8, 0)\n",
            "(83, 83, 14, 36, 21, 4)\n",
            "(84, 84, 5, 30, 25, 4)\n",
            "(85, 85, 14, 18, 4, 3)\n",
            "(86, 86, 7, 14, 7, 0)\n",
            "(87, 87, 9, 14, 5, 2)\n",
            "(88, 88, 12, 14, 2, 0)\n",
            "(89, 89, 1, 32, 31, 2)\n",
            "(90, 90, 15, 20, 5, 2)\n",
            "(91, 91, 1, 18, 17, 1)\n",
            "(92, 92, 12, 14, 2, 0)\n",
            "(93, 93, 12, 20, 8, 4)\n",
            "(94, 94, 7, 14, 7, 0)\n",
            "(95, 95, 10, 16, 6, 1)\n",
            "(96, 96, 1, 16, 15, 2)\n",
            "(97, 97, 2, 20, 18, 0)\n",
            "(98, 98, 6, 20, 14, 0)\n",
            "(99, 99, 7, 18, 6, 0)\n",
            "(100, 100, 7, 20, 11, 2)\n",
            "(101, 101, 17, 20, 3, 2)\n",
            "(102, 102, 6, 12, 4, 3)\n",
            "(103, 103, 14, 18, 4, 1)\n",
            "(104, 104, 14, 20, 6, 0)\n",
            "(105, 105, 14, 14, 0, 0)\n",
            "(106, 106, 9, 14, 5, 2)\n",
            "(107, 107, 0, 12, 12, 3)\n",
            "(108, 108, 9, 14, 5, 0)\n",
            "(109, 109, 8, 22, 14, 0)\n",
            "(110, 110, 5, 16, 10, 2)\n",
            "(111, 111, 6, 16, 10, 1)\n",
            "(112, 112, 11, 14, 3, 1)\n",
            "(113, 113, 13, 20, 7, 1)\n",
            "(114, 114, 12, 14, 2, 1)\n",
            "(115, 115, 6, 14, 8, 0)\n",
            "(116, 116, 3, 14, 11, 0)\n",
            "(117, 117, 17, 28, 11, 1)\n",
            "(118, 118, 3, 20, 17, 1)\n",
            "(119, 119, 12, 14, 1, 1)\n",
            "(120, 120, 14, 22, 8, 2)\n",
            "(121, 121, 10, 14, 4, 1)\n",
            "(122, 122, 14, 20, 6, 3)\n",
            "(123, 123, 16, 26, 9, 0)\n",
            "(124, 124, 5, 14, 9, 2)\n",
            "(125, 125, 12, 18, 6, 4)\n",
            "(126, 126, 4, 14, 10, 1)\n",
            "(127, 127, 7, 12, 5, 1)\n",
            "(128, 128, 3, 14, 11, 0)\n",
            "(129, 129, 11, 12, 1, 1)\n",
            "(130, 130, 7, 14, 7, 1)\n",
            "(131, 131, 13, 16, 3, 3)\n",
            "(132, 132, 10, 14, 4, 0)\n",
            "(133, 133, 13, 14, 1, 0)\n",
            "(134, 134, 10, 16, 6, 2)\n",
            "(135, 135, 11, 14, 3, 3)\n",
            "(136, 136, 14, 16, 2, 0)\n",
            "(137, 137, 6, 12, 6, 0)\n",
            "(138, 138, 12, 20, 8, 0)\n",
            "(139, 139, 11, 16, 5, 0)\n",
            "(140, 140, 8, 16, 8, 3)\n",
            "(141, 141, 12, 12, 0, 0)\n",
            "(142, 142, 15, 18, 3, 1)\n",
            "(143, 143, 6, 18, 12, 1)\n",
            "(144, 144, 8, 14, 6, 1)\n",
            "(145, 145, 3, 16, 12, 5)\n",
            "(146, 146, 2, 14, 12, 4)\n",
            "(147, 147, 4, 16, 12, 0)\n",
            "(148, 148, 12, 16, 3, 0)\n",
            "(149, 149, 12, 16, 3, 0)\n",
            "(150, 150, 14, 16, 2, 0)\n",
            "(151, 151, 32, 38, 6, 1)\n",
            "(152, 152, 3, 16, 12, 0)\n",
            "(153, 153, 12, 16, 4, 1)\n",
            "(154, 154, 2, 16, 14, 0)\n",
            "(155, 155, 17, 22, 5, 3)\n",
            "(156, 156, 9, 20, 11, 3)\n",
            "(157, 157, 7, 22, 15, 0)\n",
            "(158, 158, 9, 28, 19, 0)\n",
            "(159, 159, 11, 14, 3, 1)\n",
            "(160, 160, 19, 22, 2, 0)\n",
            "(161, 161, 4, 12, 8, 2)\n",
            "(162, 162, 20, 22, 2, 1)\n",
            "(163, 163, 14, 20, 6, 5)\n",
            "(164, 164, 0, 20, 19, 0)\n",
            "(165, 165, 3, 24, 21, 0)\n",
            "(166, 166, 17, 20, 3, 0)\n",
            "(167, 167, 7, 26, 19, 2)\n",
            "(168, 168, 12, 14, 2, 0)\n",
            "(169, 169, 8, 18, 9, 3)\n",
            "(170, 170, 18, 40, 22, 2)\n",
            "(171, 171, 4, 22, 18, 3)\n",
            "(172, 172, 9, 22, 13, 1)\n",
            "(173, 173, 16, 18, 1, 0)\n",
            "(174, 174, 11, 18, 7, 1)\n",
            "(175, 175, 8, 20, 11, 2)\n",
            "(176, 176, 0, 0, 0, 0)\n",
            "(177, 177, 17, 18, 1, 0)\n",
            "(178, 178, 10, 14, 4, 3)\n",
            "(179, 179, 12, 14, 2, 2)\n",
            "(180, 180, 12, 18, 6, 1)\n",
            "(181, 181, 18, 20, 2, 2)\n",
            "(182, 182, 16, 20, 3, 2)\n",
            "(183, 183, 15, 22, 4, 1)\n",
            "(184, 184, 6, 14, 8, 1)\n",
            "(185, 185, 16, 20, 4, 3)\n",
            "(186, 186, 11, 16, 5, 0)\n",
            "(187, 187, 7, 18, 10, 0)\n",
            "(188, 188, 16, 26, 10, 0)\n",
            "(189, 189, 11, 20, 9, 1)\n",
            "(190, 190, 9, 24, 14, 3)\n",
            "(191, 191, 6, 14, 8, 2)\n",
            "(192, 192, 17, 24, 7, 0)\n",
            "(193, 193, 17, 18, 1, 1)\n",
            "(194, 194, 4, 22, 18, 0)\n",
            "(195, 195, 3, 18, 15, 7)\n",
            "(196, 196, 15, 26, 11, 2)\n",
            "(197, 197, 5, 16, 10, 2)\n",
            "(198, 198, 10, 14, 4, 2)\n",
            "(199, 199, 13, 18, 5, 4)\n",
            "(200, 200, 10, 20, 10, 0)\n",
            "(201, 201, 4, 16, 12, 1)\n",
            "(202, 202, 2, 16, 14, 2)\n",
            "(203, 203, 10, 16, 6, 0)\n",
            "(204, 204, 19, 24, 5, 5)\n",
            "(205, 205, 14, 23, 9, 0)\n",
            "(206, 206, 12, 16, 4, 1)\n",
            "(207, 207, 10, 16, 6, 0)\n",
            "(208, 208, 14, 16, 2, 0)\n",
            "(209, 209, 10, 18, 8, 0)\n",
            "(210, 210, 6, 34, 28, 8)\n",
            "(211, 211, 8, 24, 15, 1)\n",
            "(212, 212, 14, 24, 7, 0)\n",
            "(213, 213, 13, 30, 17, 3)\n",
            "(214, 214, 2, 26, 24, 4)\n",
            "(215, 215, 12, 14, 1, 0)\n",
            "(216, 216, 10, 18, 7, 0)\n",
            "(217, 217, 12, 14, 2, 0)\n",
            "(218, 218, 8, 19, 11, 1)\n",
            "(219, 219, 10, 18, 6, 5)\n",
            "(220, 220, 12, 18, 3, 1)\n",
            "(221, 221, 6, 16, 9, 8)\n",
            "(222, 222, 10, 18, 8, 0)\n",
            "(223, 223, 15, 20, 5, 0)\n",
            "(224, 224, 8, 16, 6, 2)\n",
            "(225, 225, 2, 20, 17, 5)\n",
            "(226, 226, 18, 20, 2, 2)\n",
            "(227, 227, 6, 12, 6, 3)\n",
            "(228, 228, 10, 22, 12, 5)\n",
            "(229, 229, 11, 20, 9, 2)\n",
            "(230, 230, 14, 16, 2, 0)\n",
            "(231, 231, 4, 18, 14, 0)\n",
            "(232, 232, 14, 18, 4, 0)\n",
            "(233, 233, 13, 14, 1, 1)\n",
            "(234, 234, 15, 18, 2, 1)\n",
            "(235, 235, 12, 22, 10, 2)\n",
            "(236, 236, 3, 26, 23, 3)\n",
            "(237, 237, 19, 20, 1, 1)\n",
            "(238, 238, 12, 18, 4, 4)\n",
            "(239, 239, 19, 24, 5, 2)\n",
            "(240, 240, 2, 20, 16, 1)\n",
            "(241, 241, 13, 22, 9, 7)\n",
            "(242, 242, 7, 18, 10, 0)\n"
          ]
        }
      ]
    },
    {
      "cell_type": "code",
      "source": [
        "# VERIFY Locations Table \n",
        "# Execute the SELECT query\n",
        "cursor.execute('SELECT * FROM Locations')\n",
        "\n",
        "# Fetch all rows\n",
        "rows = cursor.fetchall()\n",
        "\n",
        "# Display the count of total rows\n",
        "print(\"Total rows:\", len(rows))\n",
        "\n",
        "# Display the results\n",
        "for row in rows:\n",
        "    print(row)"
      ],
      "metadata": {
        "colab": {
          "base_uri": "https://localhost:8080/"
        },
        "id": "gwmS5rrIx8_-",
        "outputId": "515ffea6-c91a-4769-cf1a-83df59d3e9f7"
      },
      "execution_count": 104,
      "outputs": [
        {
          "output_type": "stream",
          "name": "stdout",
          "text": [
            "Total rows: 242\n",
            "(1, 1, 0, 8, 42)\n",
            "(2, 2, 0, 14, 94)\n",
            "(3, 3, 0, 10, 61)\n",
            "(4, 4, 0, 10, 49)\n",
            "(5, 5, 0, 9, 69)\n",
            "(6, 6, 3, 11, 73)\n",
            "(7, 7, 4, 10, 76)\n",
            "(8, 8, 1, 7, 34)\n",
            "(9, 9, 0, 6, 56)\n",
            "(10, 10, 0, 9, 48)\n",
            "(11, 11, 0, 7, 37)\n",
            "(12, 12, 2, 13, 86)\n",
            "(13, 13, 0, 10, 49)\n",
            "(14, 14, 0, 9, 74)\n",
            "(15, 15, 0, 11, 87)\n",
            "(16, 16, 0, 11, 79)\n",
            "(17, 17, 0, 11, 67)\n",
            "(18, 18, 0, 10, 64)\n",
            "(19, 19, 0, 11, 244)\n",
            "(20, 20, 1, 8, 1213)\n",
            "(21, 21, 0, 12, 94)\n",
            "(22, 22, 0, 11, 80)\n",
            "(23, 23, 2, 14, 114)\n",
            "(24, 24, 0, 10, 1292)\n",
            "(25, 25, 0, 9, 152)\n",
            "(26, 26, 0, 12, 166)\n",
            "(27, 27, 0, 9, 74)\n",
            "(28, 28, 0, 11, 66)\n",
            "(29, 29, 1, 10, 63)\n",
            "(30, 30, 0, 10, 56)\n",
            "(31, 31, 2, 12, 75)\n",
            "(32, 32, 0, 8, 138)\n",
            "(33, 33, 0, 11, 58)\n",
            "(34, 34, 2, 11, 79)\n",
            "(35, 35, 1, 8, 130)\n",
            "(36, 36, 0, 10, 87)\n",
            "(37, 37, 0, 10, 68)\n",
            "(38, 38, 0, 10, 45)\n",
            "(39, 39, 0, 7, 16)\n",
            "(40, 40, 0, 10, 51)\n",
            "(41, 41, 0, 8, 39)\n",
            "(42, 42, 0, 10, 46)\n",
            "(43, 43, 0, 9, 86)\n",
            "(44, 44, 1, 11, 151)\n",
            "(45, 45, 0, 11, 69)\n",
            "(46, 46, 0, 13, 74)\n",
            "(47, 47, 1, 10, 76)\n",
            "(48, 48, 0, 10, 165)\n",
            "(49, 49, 0, 11, 1294)\n",
            "(50, 50, 0, 10, 1292)\n",
            "(51, 51, 0, 12, 255)\n",
            "(52, 52, 0, 7, 50)\n",
            "(53, 53, 0, 10, 49)\n",
            "(54, 54, 0, 8, 1228)\n",
            "(55, 55, 0, 3, 33)\n",
            "(56, 56, 0, 5, 40)\n",
            "(57, 57, 1, 4, 1096)\n",
            "(58, 58, 0, 8, 45)\n",
            "(59, 59, 0, 9, 45)\n",
            "(60, 60, 0, 10, 132)\n",
            "(61, 61, 0, 6, 8)\n",
            "(62, 62, 0, 7, 78)\n",
            "(63, 63, 1, 9, 45)\n",
            "(64, 64, 1, 7, 11)\n",
            "(65, 65, 1, 9, 18)\n",
            "(66, 66, 0, 8, 14)\n",
            "(67, 67, 0, 9, 36)\n",
            "(68, 68, 0, 14, 193)\n",
            "(69, 69, 0, 7, 25)\n",
            "(70, 70, 1, 9, 45)\n",
            "(71, 71, 0, 10, 46)\n",
            "(72, 72, 3, 14, 115)\n",
            "(73, 73, 2, 14, 113)\n",
            "(74, 74, 0, 13, 74)\n",
            "(75, 75, 0, 10, 91)\n",
            "(76, 76, 0, 9, 21)\n",
            "(77, 77, 3, 11, 71)\n",
            "(78, 78, 1, 8, 130)\n",
            "(79, 79, 1, 7, 27)\n",
            "(80, 80, 1, 7, 53)\n",
            "(81, 81, 1, 8, 12)\n",
            "(82, 82, 0, 10, 101)\n",
            "(83, 83, 0, 5, 95)\n",
            "(84, 84, 1, 6, 192)\n",
            "(85, 85, 0, 8, 82)\n",
            "(86, 86, 1, 6, 42)\n",
            "(87, 87, 0, 12, 48)\n",
            "(88, 88, 0, 10, 39)\n",
            "(89, 89, 0, 12, 50)\n",
            "(90, 90, 0, 9, 45)\n",
            "(91, 91, 0, 8, 35)\n",
            "(92, 92, 1, 12, 46)\n",
            "(93, 93, 0, 11, 156)\n",
            "(94, 94, 1, 9, 65)\n",
            "(95, 95, 1, 11, 69)\n",
            "(96, 96, 1, 6, 22)\n",
            "(97, 97, 0, 8, 33)\n",
            "(98, 98, 0, 10, 57)\n",
            "(99, 99, 0, 3, 27)\n",
            "(100, 100, 0, 5, 95)\n",
            "(101, 101, 0, 9, 23)\n",
            "(102, 102, 0, 10, 46)\n",
            "(103, 103, 0, 11, 176)\n",
            "(104, 104, 0, 9, 1242)\n",
            "(105, 105, 0, 11, 43)\n",
            "(106, 106, 0, 9, 55)\n",
            "(107, 107, 1, 12, 67)\n",
            "(108, 108, 0, 5, 16)\n",
            "(109, 109, 0, 2, 12)\n",
            "(110, 110, 0, 3, 14)\n",
            "(111, 111, 0, 4, 15)\n",
            "(112, 112, 0, 8, 44)\n",
            "(113, 113, 0, 6, 42)\n",
            "(114, 114, 0, 6, 19)\n",
            "(115, 115, 0, 4, 15)\n",
            "(116, 116, 0, 7, 18)\n",
            "(117, 117, 0, 9, 31)\n",
            "(118, 118, 0, 8, 26)\n",
            "(119, 119, 0, 6, 18)\n",
            "(120, 120, 0, 7, 22)\n",
            "(121, 121, 0, 7, 22)\n",
            "(122, 122, 0, 9, 56)\n",
            "(123, 123, 0, 8, 52)\n",
            "(124, 124, 0, 6, 49)\n",
            "(125, 125, 0, 6, 17)\n",
            "(126, 126, 0, 9, 38)\n",
            "(127, 127, 0, 7, 53)\n",
            "(128, 128, 0, 6, 20)\n",
            "(129, 129, 1, 6, 20)\n",
            "(130, 130, 1, 5, 19)\n",
            "(131, 131, 0, 8, 24)\n",
            "(132, 132, 0, 12, 53)\n",
            "(133, 133, 0, 12, 53)\n",
            "(134, 134, 1, 9, 38)\n",
            "(135, 135, 0, 8, 34)\n",
            "(136, 136, 0, 7, 32)\n",
            "(137, 137, 0, 9, 34)\n",
            "(138, 138, 0, 9, 34)\n",
            "(139, 139, 0, 4, 15)\n",
            "(140, 140, 0, 7, 19)\n",
            "(141, 141, 0, 7, 48)\n",
            "(142, 142, 1, 5, 44)\n",
            "(143, 143, 0, 3, 4)\n",
            "(144, 144, 0, 9, 34)\n",
            "(145, 145, 0, 9, 37)\n",
            "(146, 146, 0, 6, 50)\n",
            "(147, 147, 0, 2, 3)\n",
            "(148, 148, 0, 5, 20)\n",
            "(149, 149, 0, 11, 49)\n",
            "(150, 150, 0, 8, 33)\n",
            "(151, 151, 1, 1, 2)\n",
            "(152, 152, 0, 8, 44)\n",
            "(153, 153, 0, 5, 13)\n",
            "(154, 154, 0, 5, 13)\n",
            "(155, 155, 1, 7, 23)\n",
            "(156, 156, 0, 10, 46)\n",
            "(157, 157, 1, 12, 109)\n",
            "(158, 158, 0, 10, 47)\n",
            "(159, 159, 0, 10, 76)\n",
            "(160, 160, 0, 7, 57)\n",
            "(161, 161, 0, 8, 44)\n",
            "(162, 162, 0, 10, 73)\n",
            "(163, 163, 0, 8, 39)\n",
            "(164, 164, 0, 7, 30)\n",
            "(165, 165, 0, 8, 69)\n",
            "(166, 166, 0, 10, 62)\n",
            "(167, 167, 0, 10, 69)\n",
            "(168, 168, 0, 5, 13)\n",
            "(169, 169, 0, 9, 139)\n",
            "(170, 170, 1, 10, 155)\n",
            "(171, 171, 1, 9, 147)\n",
            "(172, 172, 0, 10, 209)\n",
            "(173, 173, 0, 11, 92)\n",
            "(174, 174, 0, 8, 33)\n",
            "(175, 175, 0, 10, 1292)\n",
            "(176, 176, 1, 2, 21)\n",
            "(177, 177, 1, 6, 8)\n",
            "(178, 178, 1, 9, 45)\n",
            "(179, 179, 0, 13, 95)\n",
            "(180, 180, 0, 10, 48)\n",
            "(181, 181, 0, 11, 87)\n",
            "(182, 182, 0, 10, 67)\n",
            "(183, 183, 0, 8, 138)\n",
            "(184, 184, 0, 10, 20)\n",
            "(185, 185, 0, 11, 88)\n",
            "(186, 186, 0, 3, 15)\n",
            "(187, 187, 0, 12, 64)\n",
            "(188, 188, 0, 11, 83)\n",
            "(189, 189, 1, 5, 77)\n",
            "(190, 190, 1, 4, 12)\n",
            "(191, 191, 2, 6, 11)\n",
            "(192, 192, 1, 9, 1226)\n",
            "(193, 193, 1, 5, 9)\n",
            "(194, 194, 0, 9, 16)\n",
            "(195, 195, 0, 9, 16)\n",
            "(196, 196, 0, 6, 11)\n",
            "(197, 197, 0, 9, 56)\n",
            "(198, 198, 0, 8, 40)\n",
            "(199, 199, 1, 5, 13)\n",
            "(200, 200, 0, 5, 77)\n",
            "(201, 201, 0, 8, 15)\n",
            "(202, 202, 1, 7, 12)\n",
            "(203, 203, 0, 5, 10)\n",
            "(204, 204, 0, 8, 18)\n",
            "(205, 205, 0, 7, 12)\n",
            "(206, 206, 0, 5, 11)\n",
            "(207, 207, 1, 6, 13)\n",
            "(208, 208, 0, 8, 23)\n",
            "(209, 209, 1, 10, 41)\n",
            "(210, 210, 1, 5, 15)\n",
            "(211, 211, 0, 12, 168)\n",
            "(212, 212, 2, 11, 47)\n",
            "(213, 213, 0, 10, 238)\n",
            "(214, 214, 0, 10, 238)\n",
            "(215, 215, 0, 10, 49)\n",
            "(216, 216, 0, 10, 1292)\n",
            "(217, 217, 1, 9, 129)\n",
            "(218, 218, 0, 8, 69)\n",
            "(219, 219, 1, 7, 15)\n",
            "(220, 220, 0, 8, 58)\n",
            "(221, 221, 0, 10, 46)\n",
            "(222, 222, 0, 8, 57)\n",
            "(223, 223, 0, 7, 178)\n",
            "(224, 224, 1, 14, 132)\n",
            "(225, 225, 0, 4, 17)\n",
            "(226, 226, 0, 6, 172)\n",
            "(227, 227, 0, 9, 189)\n",
            "(228, 228, 1, 4, 170)\n",
            "(229, 229, 1, 5, 13)\n",
            "(230, 230, 1, 3, 4)\n",
            "(231, 231, 2, 3, 4)\n",
            "(232, 232, 1, 3, 4)\n",
            "(233, 233, 0, 9, 25)\n",
            "(234, 234, 0, 9, 184)\n",
            "(235, 235, 0, 5, 170)\n",
            "(236, 236, 0, 11, 1306)\n",
            "(237, 237, 0, 5, 44)\n",
            "(238, 238, 0, 8, 15)\n",
            "(239, 239, 0, 13, 176)\n",
            "(240, 240, 0, 12, 1251)\n",
            "(241, 241, 0, 6, 173)\n",
            "(242, 242, 0, 8, 69)\n"
          ]
        }
      ]
    },
    {
      "cell_type": "markdown",
      "source": [
        "All tables have the complete dataframe captured in the SQLite database = CONFIRMED"
      ],
      "metadata": {
        "id": "2bsa5wRkyAq_"
      }
    },
    {
      "cell_type": "code",
      "source": [
        "# Commit the changes and close the connection\n",
        "conn.commit()\n",
        "conn.close()"
      ],
      "metadata": {
        "id": "dWXvw081vHco"
      },
      "execution_count": 105,
      "outputs": []
    }
  ],
  "metadata": {
    "kernelspec": {
      "display_name": "Python 3",
      "language": "python",
      "name": "python3"
    },
    "language_info": {
      "codemirror_mode": {
        "name": "ipython",
        "version": 3
      },
      "file_extension": ".py",
      "mimetype": "text/x-python",
      "name": "python",
      "nbconvert_exporter": "python",
      "pygments_lexer": "ipython3",
      "version": "3.8.5"
    },
    "colab": {
      "provenance": [],
      "include_colab_link": true
    }
  },
  "nbformat": 4,
  "nbformat_minor": 0
}