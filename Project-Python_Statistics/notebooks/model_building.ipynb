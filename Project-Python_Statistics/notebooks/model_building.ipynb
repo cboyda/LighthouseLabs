{
  "cells": [
    {
      "cell_type": "markdown",
      "metadata": {
        "id": "view-in-github",
        "colab_type": "text"
      },
      "source": [
        "<a href=\"https://colab.research.google.com/github/cboyda/LighthouseLabs/blob/main/Project_Stats_model_building.ipynb\" target=\"_parent\"><img src=\"https://colab.research.google.com/assets/colab-badge.svg\" alt=\"Open In Colab\"/></a>"
      ]
    },
    {
      "cell_type": "markdown",
      "source": [
        "# Merge Data"
      ],
      "metadata": {
        "id": "M2wjoVOByLdN"
      }
    },
    {
      "cell_type": "code",
      "source": [
        "import pandas as pd"
      ],
      "metadata": {
        "id": "hxwN_t5UyZRk"
      },
      "execution_count": null,
      "outputs": []
    },
    {
      "cell_type": "code",
      "source": [
        "# how to mount google drive\n",
        "from google.colab import drive\n",
        "drive.mount('/content/drive')"
      ],
      "metadata": {
        "colab": {
          "base_uri": "https://localhost:8080/"
        },
        "id": "2plHFC2Vgd6C",
        "outputId": "b4034e1b-30b7-4fc1-a2a8-b4c3385fadf7"
      },
      "execution_count": null,
      "outputs": [
        {
          "output_type": "stream",
          "name": "stdout",
          "text": [
            "Mounted at /content/drive\n"
          ]
        }
      ]
    },
    {
      "cell_type": "code",
      "execution_count": null,
      "metadata": {
        "id": "lESmq-SOgCGt"
      },
      "outputs": [],
      "source": [
        "df_foursquare = pd.read_csv('/content/drive/MyDrive/Colab Notebooks/datasets/Project-Statistics_city_bikes_FourSquare.csv')"
      ]
    },
    {
      "cell_type": "code",
      "source": [
        "df_yelp = pd.read_csv('/content/drive/MyDrive/Colab Notebooks/datasets/Project-Statistics_city_bikes_yelp.csv')"
      ],
      "metadata": {
        "id": "coKnWuS4grft"
      },
      "execution_count": null,
      "outputs": []
    },
    {
      "cell_type": "code",
      "source": [
        "merged_df = df_foursquare.merge(df_yelp, on=['city', 'station_name','latitude', 'longitude','empty_slots','slots','free_bikes','ebikes'])"
      ],
      "metadata": {
        "id": "L-VaSQI2hUvS"
      },
      "execution_count": null,
      "outputs": []
    },
    {
      "cell_type": "code",
      "source": [
        "df = merged_df.copy()"
      ],
      "metadata": {
        "id": "Fpeyjyj5hfzf"
      },
      "execution_count": null,
      "outputs": []
    },
    {
      "cell_type": "code",
      "source": [
        "df.shape"
      ],
      "metadata": {
        "colab": {
          "base_uri": "https://localhost:8080/"
        },
        "id": "8sKzKtOgyfr0",
        "outputId": "7a49ae46-04c0-4384-c55c-2cf9d692d842"
      },
      "execution_count": null,
      "outputs": [
        {
          "output_type": "execute_result",
          "data": {
            "text/plain": [
              "(242, 12)"
            ]
          },
          "metadata": {},
          "execution_count": 7
        }
      ]
    },
    {
      "cell_type": "code",
      "source": [
        "df"
      ],
      "metadata": {
        "colab": {
          "base_uri": "https://localhost:8080/",
          "height": 591
        },
        "id": "tTRMK5_CyhPI",
        "outputId": "7309437c-ec01-4f0e-8005-bbf5c382943b"
      },
      "execution_count": null,
      "outputs": [
        {
          "output_type": "execute_result",
          "data": {
            "text/plain": [
              "          city                 station_name  empty_slots  slots  free_bikes  \\\n",
              "0    Vancouver                10th & Cambie           22     35          13   \n",
              "1    Vancouver  Yaletown-Roundhouse Station            6     16          10   \n",
              "2    Vancouver            Dunsmuir & Beatty           23     26           3   \n",
              "3    Vancouver     12th & Yukon (City Hall)           14     16           2   \n",
              "4    Vancouver                    8th & Ash           15     16           1   \n",
              "..         ...                          ...          ...    ...         ...   \n",
              "237  Vancouver               Burrard & 14th           12     18           4   \n",
              "238  Vancouver               Hornby & Drake           19     24           5   \n",
              "239  Vancouver           Cardero & Bayshore            2     20          16   \n",
              "240  Vancouver                  27th & Main           13     22           9   \n",
              "241  Vancouver          Cordova & Granville            7     18          10   \n",
              "\n",
              "     ebikes   latitude   longitude         station_location  location_count  \\\n",
              "0         4  49.262487 -123.114397    49.262487,-123.114397               0   \n",
              "1         0  49.274566 -123.121817    49.274566,-123.121817               0   \n",
              "2         1  49.279764 -123.110154    49.279764,-123.110154               0   \n",
              "3         2  49.260599 -123.113504    49.260599,-123.113504               0   \n",
              "4         0  49.264215 -123.117772    49.264215,-123.117772               0   \n",
              "..      ...        ...         ...                      ...             ...   \n",
              "237       4  49.259469 -123.145718    49.259469,-123.145718               0   \n",
              "238       2  49.277178 -123.130000        49.277178,-123.13               0   \n",
              "239       1  49.291597 -123.129158    49.291597,-123.129158               0   \n",
              "240       7  49.247204 -123.101549    49.247204,-123.101549               0   \n",
              "241       0  49.285670 -123.112543  49.2856698,-123.1125432               0   \n",
              "\n",
              "     yelp_location_count  yelp_review_count  \n",
              "0                      8                 42  \n",
              "1                     14                 94  \n",
              "2                     10                 61  \n",
              "3                     10                 49  \n",
              "4                      9                 69  \n",
              "..                   ...                ...  \n",
              "237                    8                 15  \n",
              "238                   13                176  \n",
              "239                   12               1251  \n",
              "240                    6                173  \n",
              "241                    8                 69  \n",
              "\n",
              "[242 rows x 12 columns]"
            ],
            "text/html": [
              "\n",
              "  <div id=\"df-07660606-e007-4acb-9196-8504b04ab587\">\n",
              "    <div class=\"colab-df-container\">\n",
              "      <div>\n",
              "<style scoped>\n",
              "    .dataframe tbody tr th:only-of-type {\n",
              "        vertical-align: middle;\n",
              "    }\n",
              "\n",
              "    .dataframe tbody tr th {\n",
              "        vertical-align: top;\n",
              "    }\n",
              "\n",
              "    .dataframe thead th {\n",
              "        text-align: right;\n",
              "    }\n",
              "</style>\n",
              "<table border=\"1\" class=\"dataframe\">\n",
              "  <thead>\n",
              "    <tr style=\"text-align: right;\">\n",
              "      <th></th>\n",
              "      <th>city</th>\n",
              "      <th>station_name</th>\n",
              "      <th>empty_slots</th>\n",
              "      <th>slots</th>\n",
              "      <th>free_bikes</th>\n",
              "      <th>ebikes</th>\n",
              "      <th>latitude</th>\n",
              "      <th>longitude</th>\n",
              "      <th>station_location</th>\n",
              "      <th>location_count</th>\n",
              "      <th>yelp_location_count</th>\n",
              "      <th>yelp_review_count</th>\n",
              "    </tr>\n",
              "  </thead>\n",
              "  <tbody>\n",
              "    <tr>\n",
              "      <th>0</th>\n",
              "      <td>Vancouver</td>\n",
              "      <td>10th &amp; Cambie</td>\n",
              "      <td>22</td>\n",
              "      <td>35</td>\n",
              "      <td>13</td>\n",
              "      <td>4</td>\n",
              "      <td>49.262487</td>\n",
              "      <td>-123.114397</td>\n",
              "      <td>49.262487,-123.114397</td>\n",
              "      <td>0</td>\n",
              "      <td>8</td>\n",
              "      <td>42</td>\n",
              "    </tr>\n",
              "    <tr>\n",
              "      <th>1</th>\n",
              "      <td>Vancouver</td>\n",
              "      <td>Yaletown-Roundhouse Station</td>\n",
              "      <td>6</td>\n",
              "      <td>16</td>\n",
              "      <td>10</td>\n",
              "      <td>0</td>\n",
              "      <td>49.274566</td>\n",
              "      <td>-123.121817</td>\n",
              "      <td>49.274566,-123.121817</td>\n",
              "      <td>0</td>\n",
              "      <td>14</td>\n",
              "      <td>94</td>\n",
              "    </tr>\n",
              "    <tr>\n",
              "      <th>2</th>\n",
              "      <td>Vancouver</td>\n",
              "      <td>Dunsmuir &amp; Beatty</td>\n",
              "      <td>23</td>\n",
              "      <td>26</td>\n",
              "      <td>3</td>\n",
              "      <td>1</td>\n",
              "      <td>49.279764</td>\n",
              "      <td>-123.110154</td>\n",
              "      <td>49.279764,-123.110154</td>\n",
              "      <td>0</td>\n",
              "      <td>10</td>\n",
              "      <td>61</td>\n",
              "    </tr>\n",
              "    <tr>\n",
              "      <th>3</th>\n",
              "      <td>Vancouver</td>\n",
              "      <td>12th &amp; Yukon (City Hall)</td>\n",
              "      <td>14</td>\n",
              "      <td>16</td>\n",
              "      <td>2</td>\n",
              "      <td>2</td>\n",
              "      <td>49.260599</td>\n",
              "      <td>-123.113504</td>\n",
              "      <td>49.260599,-123.113504</td>\n",
              "      <td>0</td>\n",
              "      <td>10</td>\n",
              "      <td>49</td>\n",
              "    </tr>\n",
              "    <tr>\n",
              "      <th>4</th>\n",
              "      <td>Vancouver</td>\n",
              "      <td>8th &amp; Ash</td>\n",
              "      <td>15</td>\n",
              "      <td>16</td>\n",
              "      <td>1</td>\n",
              "      <td>0</td>\n",
              "      <td>49.264215</td>\n",
              "      <td>-123.117772</td>\n",
              "      <td>49.264215,-123.117772</td>\n",
              "      <td>0</td>\n",
              "      <td>9</td>\n",
              "      <td>69</td>\n",
              "    </tr>\n",
              "    <tr>\n",
              "      <th>...</th>\n",
              "      <td>...</td>\n",
              "      <td>...</td>\n",
              "      <td>...</td>\n",
              "      <td>...</td>\n",
              "      <td>...</td>\n",
              "      <td>...</td>\n",
              "      <td>...</td>\n",
              "      <td>...</td>\n",
              "      <td>...</td>\n",
              "      <td>...</td>\n",
              "      <td>...</td>\n",
              "      <td>...</td>\n",
              "    </tr>\n",
              "    <tr>\n",
              "      <th>237</th>\n",
              "      <td>Vancouver</td>\n",
              "      <td>Burrard &amp; 14th</td>\n",
              "      <td>12</td>\n",
              "      <td>18</td>\n",
              "      <td>4</td>\n",
              "      <td>4</td>\n",
              "      <td>49.259469</td>\n",
              "      <td>-123.145718</td>\n",
              "      <td>49.259469,-123.145718</td>\n",
              "      <td>0</td>\n",
              "      <td>8</td>\n",
              "      <td>15</td>\n",
              "    </tr>\n",
              "    <tr>\n",
              "      <th>238</th>\n",
              "      <td>Vancouver</td>\n",
              "      <td>Hornby &amp; Drake</td>\n",
              "      <td>19</td>\n",
              "      <td>24</td>\n",
              "      <td>5</td>\n",
              "      <td>2</td>\n",
              "      <td>49.277178</td>\n",
              "      <td>-123.130000</td>\n",
              "      <td>49.277178,-123.13</td>\n",
              "      <td>0</td>\n",
              "      <td>13</td>\n",
              "      <td>176</td>\n",
              "    </tr>\n",
              "    <tr>\n",
              "      <th>239</th>\n",
              "      <td>Vancouver</td>\n",
              "      <td>Cardero &amp; Bayshore</td>\n",
              "      <td>2</td>\n",
              "      <td>20</td>\n",
              "      <td>16</td>\n",
              "      <td>1</td>\n",
              "      <td>49.291597</td>\n",
              "      <td>-123.129158</td>\n",
              "      <td>49.291597,-123.129158</td>\n",
              "      <td>0</td>\n",
              "      <td>12</td>\n",
              "      <td>1251</td>\n",
              "    </tr>\n",
              "    <tr>\n",
              "      <th>240</th>\n",
              "      <td>Vancouver</td>\n",
              "      <td>27th &amp; Main</td>\n",
              "      <td>13</td>\n",
              "      <td>22</td>\n",
              "      <td>9</td>\n",
              "      <td>7</td>\n",
              "      <td>49.247204</td>\n",
              "      <td>-123.101549</td>\n",
              "      <td>49.247204,-123.101549</td>\n",
              "      <td>0</td>\n",
              "      <td>6</td>\n",
              "      <td>173</td>\n",
              "    </tr>\n",
              "    <tr>\n",
              "      <th>241</th>\n",
              "      <td>Vancouver</td>\n",
              "      <td>Cordova &amp; Granville</td>\n",
              "      <td>7</td>\n",
              "      <td>18</td>\n",
              "      <td>10</td>\n",
              "      <td>0</td>\n",
              "      <td>49.285670</td>\n",
              "      <td>-123.112543</td>\n",
              "      <td>49.2856698,-123.1125432</td>\n",
              "      <td>0</td>\n",
              "      <td>8</td>\n",
              "      <td>69</td>\n",
              "    </tr>\n",
              "  </tbody>\n",
              "</table>\n",
              "<p>242 rows × 12 columns</p>\n",
              "</div>\n",
              "      <button class=\"colab-df-convert\" onclick=\"convertToInteractive('df-07660606-e007-4acb-9196-8504b04ab587')\"\n",
              "              title=\"Convert this dataframe to an interactive table.\"\n",
              "              style=\"display:none;\">\n",
              "        \n",
              "  <svg xmlns=\"http://www.w3.org/2000/svg\" height=\"24px\"viewBox=\"0 0 24 24\"\n",
              "       width=\"24px\">\n",
              "    <path d=\"M0 0h24v24H0V0z\" fill=\"none\"/>\n",
              "    <path d=\"M18.56 5.44l.94 2.06.94-2.06 2.06-.94-2.06-.94-.94-2.06-.94 2.06-2.06.94zm-11 1L8.5 8.5l.94-2.06 2.06-.94-2.06-.94L8.5 2.5l-.94 2.06-2.06.94zm10 10l.94 2.06.94-2.06 2.06-.94-2.06-.94-.94-2.06-.94 2.06-2.06.94z\"/><path d=\"M17.41 7.96l-1.37-1.37c-.4-.4-.92-.59-1.43-.59-.52 0-1.04.2-1.43.59L10.3 9.45l-7.72 7.72c-.78.78-.78 2.05 0 2.83L4 21.41c.39.39.9.59 1.41.59.51 0 1.02-.2 1.41-.59l7.78-7.78 2.81-2.81c.8-.78.8-2.07 0-2.86zM5.41 20L4 18.59l7.72-7.72 1.47 1.35L5.41 20z\"/>\n",
              "  </svg>\n",
              "      </button>\n",
              "      \n",
              "  <style>\n",
              "    .colab-df-container {\n",
              "      display:flex;\n",
              "      flex-wrap:wrap;\n",
              "      gap: 12px;\n",
              "    }\n",
              "\n",
              "    .colab-df-convert {\n",
              "      background-color: #E8F0FE;\n",
              "      border: none;\n",
              "      border-radius: 50%;\n",
              "      cursor: pointer;\n",
              "      display: none;\n",
              "      fill: #1967D2;\n",
              "      height: 32px;\n",
              "      padding: 0 0 0 0;\n",
              "      width: 32px;\n",
              "    }\n",
              "\n",
              "    .colab-df-convert:hover {\n",
              "      background-color: #E2EBFA;\n",
              "      box-shadow: 0px 1px 2px rgba(60, 64, 67, 0.3), 0px 1px 3px 1px rgba(60, 64, 67, 0.15);\n",
              "      fill: #174EA6;\n",
              "    }\n",
              "\n",
              "    [theme=dark] .colab-df-convert {\n",
              "      background-color: #3B4455;\n",
              "      fill: #D2E3FC;\n",
              "    }\n",
              "\n",
              "    [theme=dark] .colab-df-convert:hover {\n",
              "      background-color: #434B5C;\n",
              "      box-shadow: 0px 1px 3px 1px rgba(0, 0, 0, 0.15);\n",
              "      filter: drop-shadow(0px 1px 2px rgba(0, 0, 0, 0.3));\n",
              "      fill: #FFFFFF;\n",
              "    }\n",
              "  </style>\n",
              "\n",
              "      <script>\n",
              "        const buttonEl =\n",
              "          document.querySelector('#df-07660606-e007-4acb-9196-8504b04ab587 button.colab-df-convert');\n",
              "        buttonEl.style.display =\n",
              "          google.colab.kernel.accessAllowed ? 'block' : 'none';\n",
              "\n",
              "        async function convertToInteractive(key) {\n",
              "          const element = document.querySelector('#df-07660606-e007-4acb-9196-8504b04ab587');\n",
              "          const dataTable =\n",
              "            await google.colab.kernel.invokeFunction('convertToInteractive',\n",
              "                                                     [key], {});\n",
              "          if (!dataTable) return;\n",
              "\n",
              "          const docLinkHtml = 'Like what you see? Visit the ' +\n",
              "            '<a target=\"_blank\" href=https://colab.research.google.com/notebooks/data_table.ipynb>data table notebook</a>'\n",
              "            + ' to learn more about interactive tables.';\n",
              "          element.innerHTML = '';\n",
              "          dataTable['output_type'] = 'display_data';\n",
              "          await google.colab.output.renderOutput(dataTable, element);\n",
              "          const docLink = document.createElement('div');\n",
              "          docLink.innerHTML = docLinkHtml;\n",
              "          element.appendChild(docLink);\n",
              "        }\n",
              "      </script>\n",
              "    </div>\n",
              "  </div>\n",
              "  "
            ]
          },
          "metadata": {},
          "execution_count": 8
        }
      ]
    },
    {
      "cell_type": "markdown",
      "metadata": {
        "id": "kHfxfOylxVtJ"
      },
      "source": [
        "# Build a regression model."
      ]
    },
    {
      "cell_type": "code",
      "source": [
        "df.dtypes"
      ],
      "metadata": {
        "colab": {
          "base_uri": "https://localhost:8080/"
        },
        "id": "MVpm1qM30Vw2",
        "outputId": "2b23d432-78b1-4a67-f8e0-8eb4028d8666"
      },
      "execution_count": null,
      "outputs": [
        {
          "output_type": "execute_result",
          "data": {
            "text/plain": [
              "city                    object\n",
              "station_name            object\n",
              "empty_slots              int64\n",
              "slots                    int64\n",
              "free_bikes               int64\n",
              "ebikes                   int64\n",
              "latitude               float64\n",
              "longitude              float64\n",
              "station_location        object\n",
              "location_count           int64\n",
              "yelp_location_count      int64\n",
              "yelp_review_count        int64\n",
              "dtype: object"
            ]
          },
          "metadata": {},
          "execution_count": 9
        }
      ]
    },
    {
      "cell_type": "markdown",
      "source": [
        "## Try Ordinary Least Squares (OLS) Regression model"
      ],
      "metadata": {
        "id": "5Fh5oSP7FNfh"
      }
    },
    {
      "cell_type": "code",
      "execution_count": null,
      "metadata": {
        "id": "lxZF3QXhxVtM"
      },
      "outputs": [],
      "source": [
        "import numpy as np\n",
        "import pandas as pd\n",
        "import statsmodels.api as sm\n",
        "\n",
        "# Split the dataset into input features (X) and target variable (y)\n",
        "# X = df[df.columns[~df.columns.isin(['ebikes'])]] # fails since they must be numerical\n",
        "numeric_cols = df.select_dtypes(include=[np.number]).columns.tolist()\n",
        "numeric_cols.remove('ebikes')\n",
        "X = df[numeric_cols]\n",
        "y = df['ebikes']\n",
        "\n",
        "# Add a constant column to the input features\n",
        "X_const = sm.add_constant(X)\n",
        "\n",
        "# Fit the OLS regression model\n",
        "model = sm.OLS(y, X_const)\n",
        "results = model.fit()"
      ]
    },
    {
      "cell_type": "markdown",
      "metadata": {
        "id": "g9bX6w3kxVtN"
      },
      "source": [
        "Provide model output and an interpretation of the results. "
      ]
    },
    {
      "cell_type": "code",
      "execution_count": null,
      "metadata": {
        "colab": {
          "base_uri": "https://localhost:8080/"
        },
        "id": "f4UYHCgIxVtO",
        "outputId": "69cae466-c6c5-45e3-d395-db3f164019f2"
      },
      "outputs": [
        {
          "output_type": "stream",
          "name": "stdout",
          "text": [
            "                            OLS Regression Results                            \n",
            "==============================================================================\n",
            "Dep. Variable:                 ebikes   R-squared:                       0.196\n",
            "Model:                            OLS   Adj. R-squared:                  0.168\n",
            "Method:                 Least Squares   F-statistic:                     7.084\n",
            "Date:                Sun, 04 Jun 2023   Prob (F-statistic):           2.23e-08\n",
            "Time:                        20:18:36   Log-Likelihood:                -432.32\n",
            "No. Observations:                 242   AIC:                             882.6\n",
            "Df Residuals:                     233   BIC:                             914.0\n",
            "Df Model:                           8                                         \n",
            "Covariance Type:            nonrobust                                         \n",
            "=======================================================================================\n",
            "                          coef    std err          t      P>|t|      [0.025      0.975]\n",
            "---------------------------------------------------------------------------------------\n",
            "const                1690.9419    618.853      2.732      0.007     471.680    2910.204\n",
            "empty_slots            -0.1250      0.097     -1.294      0.197      -0.315       0.065\n",
            "slots                   0.1491      0.097      1.542      0.124      -0.041       0.340\n",
            "free_bikes             -0.0517      0.096     -0.537      0.592      -0.241       0.138\n",
            "latitude              -47.2807      8.794     -5.377      0.000     -64.607     -29.955\n",
            "longitude              -5.1917      3.540     -1.466      0.144     -12.167       1.784\n",
            "location_count         -0.1687      0.151     -1.119      0.264      -0.466       0.128\n",
            "yelp_location_count    -0.0246      0.037     -0.665      0.507      -0.098       0.048\n",
            "yelp_review_count       0.0002      0.000      0.531      0.596      -0.001       0.001\n",
            "==============================================================================\n",
            "Omnibus:                       44.328   Durbin-Watson:                   2.222\n",
            "Prob(Omnibus):                  0.000   Jarque-Bera (JB):               67.852\n",
            "Skew:                           1.059   Prob(JB):                     1.85e-15\n",
            "Kurtosis:                       4.498   Cond. No.                     1.94e+06\n",
            "==============================================================================\n",
            "\n",
            "Notes:\n",
            "[1] Standard Errors assume that the covariance matrix of the errors is correctly specified.\n",
            "[2] The condition number is large, 1.94e+06. This might indicate that there are\n",
            "strong multicollinearity or other numerical problems.\n"
          ]
        }
      ],
      "source": [
        "# Print the model summary\n",
        "print(results.summary())"
      ]
    },
    {
      "cell_type": "markdown",
      "source": [
        "Based on p values, only the latitude is less than 0.05 which indicates it is statistically significant.  We could try dropping all other columns and rerunning the model."
      ],
      "metadata": {
        "id": "4NddXYSi64Al"
      }
    },
    {
      "cell_type": "code",
      "source": [
        "results.params"
      ],
      "metadata": {
        "colab": {
          "base_uri": "https://localhost:8080/"
        },
        "id": "XS4rWN1Q14yr",
        "outputId": "d52c9580-238c-4755-bd5f-deab38a00f1d"
      },
      "execution_count": null,
      "outputs": [
        {
          "output_type": "execute_result",
          "data": {
            "text/plain": [
              "const                  1690.941861\n",
              "empty_slots              -0.124956\n",
              "slots                     0.149090\n",
              "free_bikes               -0.051673\n",
              "latitude                -47.280737\n",
              "longitude                -5.191709\n",
              "location_count           -0.168680\n",
              "yelp_location_count      -0.024606\n",
              "yelp_review_count         0.000215\n",
              "dtype: float64"
            ]
          },
          "metadata": {},
          "execution_count": 12
        }
      ]
    },
    {
      "cell_type": "markdown",
      "source": [
        "Let's interpret the coefficients for the given example:\n",
        "\n",
        "* empty_slots: For each unit decrease in the number of empty slots, the predicted value of the response variable (ebikes) decreases by approximately 0.125.\n",
        "\n",
        "* slots: For each unit increase in the total number of slots, the predicted value of the response variable increases by approximately 0.149.\n",
        "\n",
        "* free_bikes: For each unit decrease in the number of free bikes, the predicted value of the response variable decreases by approximately 0.052.\n",
        "\n",
        "* latitude: For each unit decrease in latitude, the predicted value of the response variable decreases by approximately 47.281.\n",
        "\n",
        "* longitude: For each unit decrease in longitude, the predicted value of the response variable decreases by approximately 5.192.\n",
        "\n",
        "* location_count: For each unit decrease in the location count, the predicted value of the response variable decreases by approximately 0.169.\n",
        "\n",
        "* yelp_location_count: For each unit decrease in the Yelp location count, the predicted value of the response variable decreases by approximately 0.025.\n",
        "\n",
        "* yelp_review_count: For each unit increase in the Yelp review count, the predicted value of the response variable increases by approximately 0.0002."
      ],
      "metadata": {
        "id": "uMeHALO559dQ"
      }
    },
    {
      "cell_type": "code",
      "source": [
        "results.params.to_frame(name='Coefficient')"
      ],
      "metadata": {
        "colab": {
          "base_uri": "https://localhost:8080/",
          "height": 331
        },
        "id": "0VmPNkFk2b1r",
        "outputId": "d869905c-64f3-42e4-8afd-c4b182a8a511"
      },
      "execution_count": null,
      "outputs": [
        {
          "output_type": "execute_result",
          "data": {
            "text/plain": [
              "                     Coefficient\n",
              "const                1690.941861\n",
              "empty_slots            -0.124956\n",
              "slots                   0.149090\n",
              "free_bikes             -0.051673\n",
              "latitude              -47.280737\n",
              "longitude              -5.191709\n",
              "location_count         -0.168680\n",
              "yelp_location_count    -0.024606\n",
              "yelp_review_count       0.000215"
            ],
            "text/html": [
              "\n",
              "  <div id=\"df-0d918a41-0d37-4056-8fab-cb5df372c8b7\">\n",
              "    <div class=\"colab-df-container\">\n",
              "      <div>\n",
              "<style scoped>\n",
              "    .dataframe tbody tr th:only-of-type {\n",
              "        vertical-align: middle;\n",
              "    }\n",
              "\n",
              "    .dataframe tbody tr th {\n",
              "        vertical-align: top;\n",
              "    }\n",
              "\n",
              "    .dataframe thead th {\n",
              "        text-align: right;\n",
              "    }\n",
              "</style>\n",
              "<table border=\"1\" class=\"dataframe\">\n",
              "  <thead>\n",
              "    <tr style=\"text-align: right;\">\n",
              "      <th></th>\n",
              "      <th>Coefficient</th>\n",
              "    </tr>\n",
              "  </thead>\n",
              "  <tbody>\n",
              "    <tr>\n",
              "      <th>const</th>\n",
              "      <td>1690.941861</td>\n",
              "    </tr>\n",
              "    <tr>\n",
              "      <th>empty_slots</th>\n",
              "      <td>-0.124956</td>\n",
              "    </tr>\n",
              "    <tr>\n",
              "      <th>slots</th>\n",
              "      <td>0.149090</td>\n",
              "    </tr>\n",
              "    <tr>\n",
              "      <th>free_bikes</th>\n",
              "      <td>-0.051673</td>\n",
              "    </tr>\n",
              "    <tr>\n",
              "      <th>latitude</th>\n",
              "      <td>-47.280737</td>\n",
              "    </tr>\n",
              "    <tr>\n",
              "      <th>longitude</th>\n",
              "      <td>-5.191709</td>\n",
              "    </tr>\n",
              "    <tr>\n",
              "      <th>location_count</th>\n",
              "      <td>-0.168680</td>\n",
              "    </tr>\n",
              "    <tr>\n",
              "      <th>yelp_location_count</th>\n",
              "      <td>-0.024606</td>\n",
              "    </tr>\n",
              "    <tr>\n",
              "      <th>yelp_review_count</th>\n",
              "      <td>0.000215</td>\n",
              "    </tr>\n",
              "  </tbody>\n",
              "</table>\n",
              "</div>\n",
              "      <button class=\"colab-df-convert\" onclick=\"convertToInteractive('df-0d918a41-0d37-4056-8fab-cb5df372c8b7')\"\n",
              "              title=\"Convert this dataframe to an interactive table.\"\n",
              "              style=\"display:none;\">\n",
              "        \n",
              "  <svg xmlns=\"http://www.w3.org/2000/svg\" height=\"24px\"viewBox=\"0 0 24 24\"\n",
              "       width=\"24px\">\n",
              "    <path d=\"M0 0h24v24H0V0z\" fill=\"none\"/>\n",
              "    <path d=\"M18.56 5.44l.94 2.06.94-2.06 2.06-.94-2.06-.94-.94-2.06-.94 2.06-2.06.94zm-11 1L8.5 8.5l.94-2.06 2.06-.94-2.06-.94L8.5 2.5l-.94 2.06-2.06.94zm10 10l.94 2.06.94-2.06 2.06-.94-2.06-.94-.94-2.06-.94 2.06-2.06.94z\"/><path d=\"M17.41 7.96l-1.37-1.37c-.4-.4-.92-.59-1.43-.59-.52 0-1.04.2-1.43.59L10.3 9.45l-7.72 7.72c-.78.78-.78 2.05 0 2.83L4 21.41c.39.39.9.59 1.41.59.51 0 1.02-.2 1.41-.59l7.78-7.78 2.81-2.81c.8-.78.8-2.07 0-2.86zM5.41 20L4 18.59l7.72-7.72 1.47 1.35L5.41 20z\"/>\n",
              "  </svg>\n",
              "      </button>\n",
              "      \n",
              "  <style>\n",
              "    .colab-df-container {\n",
              "      display:flex;\n",
              "      flex-wrap:wrap;\n",
              "      gap: 12px;\n",
              "    }\n",
              "\n",
              "    .colab-df-convert {\n",
              "      background-color: #E8F0FE;\n",
              "      border: none;\n",
              "      border-radius: 50%;\n",
              "      cursor: pointer;\n",
              "      display: none;\n",
              "      fill: #1967D2;\n",
              "      height: 32px;\n",
              "      padding: 0 0 0 0;\n",
              "      width: 32px;\n",
              "    }\n",
              "\n",
              "    .colab-df-convert:hover {\n",
              "      background-color: #E2EBFA;\n",
              "      box-shadow: 0px 1px 2px rgba(60, 64, 67, 0.3), 0px 1px 3px 1px rgba(60, 64, 67, 0.15);\n",
              "      fill: #174EA6;\n",
              "    }\n",
              "\n",
              "    [theme=dark] .colab-df-convert {\n",
              "      background-color: #3B4455;\n",
              "      fill: #D2E3FC;\n",
              "    }\n",
              "\n",
              "    [theme=dark] .colab-df-convert:hover {\n",
              "      background-color: #434B5C;\n",
              "      box-shadow: 0px 1px 3px 1px rgba(0, 0, 0, 0.15);\n",
              "      filter: drop-shadow(0px 1px 2px rgba(0, 0, 0, 0.3));\n",
              "      fill: #FFFFFF;\n",
              "    }\n",
              "  </style>\n",
              "\n",
              "      <script>\n",
              "        const buttonEl =\n",
              "          document.querySelector('#df-0d918a41-0d37-4056-8fab-cb5df372c8b7 button.colab-df-convert');\n",
              "        buttonEl.style.display =\n",
              "          google.colab.kernel.accessAllowed ? 'block' : 'none';\n",
              "\n",
              "        async function convertToInteractive(key) {\n",
              "          const element = document.querySelector('#df-0d918a41-0d37-4056-8fab-cb5df372c8b7');\n",
              "          const dataTable =\n",
              "            await google.colab.kernel.invokeFunction('convertToInteractive',\n",
              "                                                     [key], {});\n",
              "          if (!dataTable) return;\n",
              "\n",
              "          const docLinkHtml = 'Like what you see? Visit the ' +\n",
              "            '<a target=\"_blank\" href=https://colab.research.google.com/notebooks/data_table.ipynb>data table notebook</a>'\n",
              "            + ' to learn more about interactive tables.';\n",
              "          element.innerHTML = '';\n",
              "          dataTable['output_type'] = 'display_data';\n",
              "          await google.colab.output.renderOutput(dataTable, element);\n",
              "          const docLink = document.createElement('div');\n",
              "          docLink.innerHTML = docLinkHtml;\n",
              "          element.appendChild(docLink);\n",
              "        }\n",
              "      </script>\n",
              "    </div>\n",
              "  </div>\n",
              "  "
            ]
          },
          "metadata": {},
          "execution_count": 13
        }
      ]
    },
    {
      "cell_type": "markdown",
      "source": [
        "## Try with Linear Regression Model\n",
        "using list method (backward variable selection)"
      ],
      "metadata": {
        "id": "VHDwkqiM87rx"
      }
    },
    {
      "cell_type": "code",
      "source": [
        "# use this List comprehension method instead of manual for loops\n",
        "Models = [sm.OLS(y, X[[x]]) for x in X]  # list of models\n",
        "Results = [model.fit() for model in Models]  # list of results\n",
        "Adj_Rsquared = [results.rsquared_adj for results in Results]  # list of adjusted R-squared\n",
        "Pval = [results.pvalues for results in Results]  # list of p-values\n",
        "Params = [results.params for results in Results]  # list of parameters"
      ],
      "metadata": {
        "id": "WZYyRBX28H13"
      },
      "execution_count": null,
      "outputs": []
    },
    {
      "cell_type": "code",
      "source": [
        "Results"
      ],
      "metadata": {
        "colab": {
          "base_uri": "https://localhost:8080/"
        },
        "id": "IBaQyXEQ8bLi",
        "outputId": "f967bb5a-ba47-4a37-870f-855d55807336"
      },
      "execution_count": null,
      "outputs": [
        {
          "output_type": "execute_result",
          "data": {
            "text/plain": [
              "[<statsmodels.regression.linear_model.RegressionResultsWrapper at 0x7f4cb41c7b50>,\n",
              " <statsmodels.regression.linear_model.RegressionResultsWrapper at 0x7f4cb42250c0>,\n",
              " <statsmodels.regression.linear_model.RegressionResultsWrapper at 0x7f4cb4225450>,\n",
              " <statsmodels.regression.linear_model.RegressionResultsWrapper at 0x7f4cb4225780>,\n",
              " <statsmodels.regression.linear_model.RegressionResultsWrapper at 0x7f4cb42256c0>,\n",
              " <statsmodels.regression.linear_model.RegressionResultsWrapper at 0x7f4cb4225930>,\n",
              " <statsmodels.regression.linear_model.RegressionResultsWrapper at 0x7f4cb4225810>,\n",
              " <statsmodels.regression.linear_model.RegressionResultsWrapper at 0x7f4cb4224850>]"
            ]
          },
          "metadata": {},
          "execution_count": 15
        }
      ]
    },
    {
      "cell_type": "code",
      "source": [
        "print(Results[0].summary())"
      ],
      "metadata": {
        "colab": {
          "base_uri": "https://localhost:8080/"
        },
        "id": "91ppNXO_8dRe",
        "outputId": "0191f16d-042b-4a2f-9e42-81c73da1c4e1"
      },
      "execution_count": null,
      "outputs": [
        {
          "output_type": "stream",
          "name": "stdout",
          "text": [
            "                                 OLS Regression Results                                \n",
            "=======================================================================================\n",
            "Dep. Variable:                 ebikes   R-squared (uncentered):                   0.278\n",
            "Model:                            OLS   Adj. R-squared (uncentered):              0.275\n",
            "Method:                 Least Squares   F-statistic:                              92.79\n",
            "Date:                Sun, 04 Jun 2023   Prob (F-statistic):                    8.68e-19\n",
            "Time:                        20:18:36   Log-Likelihood:                         -484.06\n",
            "No. Observations:                 242   AIC:                                      970.1\n",
            "Df Residuals:                     241   BIC:                                      973.6\n",
            "Df Model:                           1                                                  \n",
            "Covariance Type:            nonrobust                                                  \n",
            "===============================================================================\n",
            "                  coef    std err          t      P>|t|      [0.025      0.975]\n",
            "-------------------------------------------------------------------------------\n",
            "empty_slots     0.0940      0.010      9.633      0.000       0.075       0.113\n",
            "==============================================================================\n",
            "Omnibus:                       65.961   Durbin-Watson:                   1.913\n",
            "Prob(Omnibus):                  0.000   Jarque-Bera (JB):              131.361\n",
            "Skew:                           1.363   Prob(JB):                     2.99e-29\n",
            "Kurtosis:                       5.365   Cond. No.                         1.00\n",
            "==============================================================================\n",
            "\n",
            "Notes:\n",
            "[1] R² is computed without centering (uncentered) since the model does not contain a constant.\n",
            "[2] Standard Errors assume that the covariance matrix of the errors is correctly specified.\n"
          ]
        }
      ]
    },
    {
      "cell_type": "markdown",
      "source": [
        "In this case, the R-squared and Adjusted R-squared values are relatively low, suggesting that the independent variables may not have a strong linear relationship with the dependent variable or that there may be other important variables missing from the model. It is important to interpret these values in the context of the specific data and the research question at hand."
      ],
      "metadata": {
        "id": "YTEFFEgD9Qws"
      }
    },
    {
      "cell_type": "markdown",
      "source": [
        "## Try with Generalized Linear Model (GLM)"
      ],
      "metadata": {
        "id": "aKzMcaXUFXRH"
      }
    },
    {
      "cell_type": "code",
      "source": [
        "from statsmodels.genmod.generalized_linear_model import GLM\n",
        "from statsmodels.genmod.families import Gaussian\n",
        "\n",
        "# Add a constant column to the input features\n",
        "X_const = sm.add_constant(X)\n",
        "\n",
        "# Perform linear regression using GLM with Gaussian family\n",
        "model = GLM(y, X_const, family=Gaussian())\n",
        "results = model.fit()\n",
        "\n",
        "# Get the regression coefficients\n",
        "coefficients = results.params\n",
        "\n",
        "# Get the summary of the regression results\n",
        "summary = results.summary()\n",
        "\n",
        "# Print the coefficients and summary\n",
        "print(coefficients)\n",
        "print(summary)"
      ],
      "metadata": {
        "id": "8c6mD2sYFaj4",
        "outputId": "0c4be4dd-2cdd-453f-d2ce-da9d68bc26a4",
        "colab": {
          "base_uri": "https://localhost:8080/"
        }
      },
      "execution_count": null,
      "outputs": [
        {
          "output_type": "stream",
          "name": "stdout",
          "text": [
            "const                  1690.941861\n",
            "empty_slots              -0.124956\n",
            "slots                     0.149090\n",
            "free_bikes               -0.051673\n",
            "latitude                -47.280737\n",
            "longitude                -5.191709\n",
            "location_count           -0.168680\n",
            "yelp_location_count      -0.024606\n",
            "yelp_review_count         0.000215\n",
            "dtype: float64\n",
            "                 Generalized Linear Model Regression Results                  \n",
            "==============================================================================\n",
            "Dep. Variable:                 ebikes   No. Observations:                  242\n",
            "Model:                            GLM   Df Residuals:                      233\n",
            "Model Family:                Gaussian   Df Model:                            8\n",
            "Link Function:               identity   Scale:                          2.1660\n",
            "Method:                          IRLS   Log-Likelihood:                -432.32\n",
            "Date:                Sun, 04 Jun 2023   Deviance:                       504.68\n",
            "Time:                        20:27:22   Pearson chi2:                     505.\n",
            "No. Iterations:                     3   Pseudo R-squ. (CS):             0.2093\n",
            "Covariance Type:            nonrobust                                         \n",
            "=======================================================================================\n",
            "                          coef    std err          z      P>|z|      [0.025      0.975]\n",
            "---------------------------------------------------------------------------------------\n",
            "const                1690.9419    618.853      2.732      0.006     478.013    2903.871\n",
            "empty_slots            -0.1250      0.097     -1.294      0.196      -0.314       0.064\n",
            "slots                   0.1491      0.097      1.542      0.123      -0.040       0.339\n",
            "free_bikes             -0.0517      0.096     -0.537      0.591      -0.240       0.137\n",
            "latitude              -47.2807      8.794     -5.377      0.000     -64.517     -30.045\n",
            "longitude              -5.1917      3.540     -1.466      0.143     -12.131       1.747\n",
            "location_count         -0.1687      0.151     -1.119      0.263      -0.464       0.127\n",
            "yelp_location_count    -0.0246      0.037     -0.665      0.506      -0.097       0.048\n",
            "yelp_review_count       0.0002      0.000      0.531      0.595      -0.001       0.001\n",
            "=======================================================================================\n"
          ]
        }
      ]
    },
    {
      "cell_type": "markdown",
      "source": [
        "No new information from this model."
      ],
      "metadata": {
        "id": "_enhMkiOG1z5"
      }
    },
    {
      "cell_type": "markdown",
      "source": [
        "## Model Predictions"
      ],
      "metadata": {
        "id": "g_EjV-u33DWR"
      }
    },
    {
      "cell_type": "code",
      "source": [
        "y_pred = results.predict(X_const)"
      ],
      "metadata": {
        "id": "6HtxCrjG2ki4"
      },
      "execution_count": null,
      "outputs": []
    },
    {
      "cell_type": "code",
      "source": [
        "# how accurate are these predictions?\n",
        "from sklearn.metrics import r2_score\n",
        "r2 = r2_score(y, y_pred) * 100\n",
        "r2_formatted = \"{:.2f}%\".format(r2) \n",
        "\n",
        "print(\"The R-squared (R2) score of the regression model is: {}\".format(r2_formatted))\n"
      ],
      "metadata": {
        "colab": {
          "base_uri": "https://localhost:8080/"
        },
        "id": "LsUjkv2q4gsC",
        "outputId": "e56d42af-071d-4f04-c65c-6538cb7a14df"
      },
      "execution_count": null,
      "outputs": [
        {
          "output_type": "stream",
          "name": "stdout",
          "text": [
            "The R-squared (R2) score of the regression model is: 19.56%\n"
          ]
        }
      ]
    },
    {
      "cell_type": "markdown",
      "source": [
        "Conclusion: This tells us counting the number of nearby \"parks\" is not a very accurate method for predicting the number of ebikes."
      ],
      "metadata": {
        "id": "C_zSIcn27MFv"
      }
    },
    {
      "cell_type": "markdown",
      "source": [
        "## Compare Predictions to Average as Baseline"
      ],
      "metadata": {
        "id": "UMNQlZFP7wdF"
      }
    },
    {
      "cell_type": "code",
      "source": [
        "# Calculate the average value of the response variable\n",
        "y_mean = np.mean(y)\n",
        "\n",
        "# Create an array of predicted values with the average value repeated for all observations\n",
        "y_pred_baseline = np.full_like(y, y_mean)\n",
        "\n",
        "# Calculate the accuracy of the baseline model\n",
        "baseline_accuracy = np.mean(y == y_pred_baseline) * 100\n",
        "\n",
        "print(\"Baseline prediction accuracy: {:.2f}%\".format(baseline_accuracy))"
      ],
      "metadata": {
        "colab": {
          "base_uri": "https://localhost:8080/"
        },
        "id": "LrRfuwuE71Sp",
        "outputId": "1eae64ea-cf7c-46a1-f0c3-583f9045e188"
      },
      "execution_count": null,
      "outputs": [
        {
          "output_type": "stream",
          "name": "stdout",
          "text": [
            "Baseline prediction accuracy: 23.97%\n"
          ]
        }
      ]
    },
    {
      "cell_type": "markdown",
      "source": [
        "This shows us just using average would be BETTER accuracy then our model."
      ],
      "metadata": {
        "id": "U5WJ4YTa9eqg"
      }
    },
    {
      "cell_type": "markdown",
      "metadata": {
        "id": "coi15UNQxVtO"
      },
      "source": [
        "# Stretch"
      ]
    },
    {
      "cell_type": "markdown",
      "metadata": {
        "id": "5pR3sGtvxVtO"
      },
      "source": [
        "## How can you turn the regression model into a classification model?"
      ]
    },
    {
      "cell_type": "markdown",
      "source": [
        "To turn a regression model into a classification model, you can apply a threshold to the predicted values and convert them into discrete classes"
      ],
      "metadata": {
        "id": "SZ6SjrhZ_4A9"
      }
    },
    {
      "cell_type": "markdown",
      "source": [
        "### Preprocessing for Binary Value to Predict"
      ],
      "metadata": {
        "id": "hRXNt30TTmSH"
      }
    },
    {
      "cell_type": "code",
      "execution_count": null,
      "metadata": {
        "colab": {
          "base_uri": "https://localhost:8080/"
        },
        "id": "Wh15IApexVtO",
        "outputId": "878a2945-17d1-415a-f36a-3b7b26e18c64"
      },
      "outputs": [
        {
          "output_type": "stream",
          "name": "stdout",
          "text": [
            "[1 1 1 1 1 1 1 1 1 1 1 1 1 0 0 1 1 1 1 0 0 0 1 1 0 1 1 1 1 1 1 1 1 1 1 1 1\n",
            " 1 1 1 1 1 1 1 1 1 1 1 1 1 1 1 1 0 1 1 0 1 1 1 1 1 1 1 1 1 0 1 1 1 1 1 1 1\n",
            " 1 1 1 1 1 1 1 1 1 1 1 0 1 1 1 1 1 1 1 1 1 1 1 1 1 1 1 1 0 0 1 1 1 1 1 1 1\n",
            " 0 1 0 1 1 1 1 1 1 1 1 1 1 1 1 1 1 0 1 1 1 1 1 1 1 1 1 1 1 1 1 1 1 1 1 1 1\n",
            " 1 1 0 1 1 1 1 1 1 1 0 1 1 0 1 1 1 1 1 0 1 1 1 1 0 1 1 0 1 1 1 1 0 1 1 1 1\n",
            " 1 1 1 1 1 1 1 1 1 1 1 1 1 1 1 1 1 1 1 1 1 1 1 1 1 1 1 1 1 1 1 0 1 1 1 1 1\n",
            " 1 1 1 1 1 1 1 0 1 0 1 1 1 1 1 1 1 1 1 1]\n"
          ]
        }
      ],
      "source": [
        "# Set the threshold for classification\n",
        "threshold = 0.5\n",
        "\n",
        "# Apply the threshold to the predicted values\n",
        "y_pred_class = np.where(y_pred >= threshold, 1, 0)\n",
        "\n",
        "# Print the predicted class labels\n",
        "print(y_pred_class)"
      ]
    },
    {
      "cell_type": "markdown",
      "source": [
        "These binary values for  y_pred_class could then be feed into a machine learning classification ML model."
      ],
      "metadata": {
        "id": "jS_FQFFrUbAn"
      }
    },
    {
      "cell_type": "markdown",
      "source": [
        "### Try with Logit (Logistical Regression)"
      ],
      "metadata": {
        "id": "jh4DWeDdBXqY"
      }
    },
    {
      "cell_type": "markdown",
      "source": [
        "Logit only works when y is binary!"
      ],
      "metadata": {
        "id": "2dk25J0kCCup"
      }
    },
    {
      "cell_type": "code",
      "source": [
        "# Convert y to binary format\n",
        "y_binary = np.where(y > 0, 1, 0)"
      ],
      "metadata": {
        "id": "VOVKcWQrB-gz"
      },
      "execution_count": null,
      "outputs": []
    },
    {
      "cell_type": "code",
      "source": [
        "X_const = sm.add_constant(X) #adds a column of 1's so the model will contain an intercept\n",
        "\n",
        "model = sm.Logit(y_binary,X_const)\n",
        "results = model.fit()\n",
        "print(results.summary())"
      ],
      "metadata": {
        "colab": {
          "base_uri": "https://localhost:8080/"
        },
        "id": "--OxzRGgBZiy",
        "outputId": "ef703778-fddc-411e-9ba2-69305a7d69bf"
      },
      "execution_count": null,
      "outputs": [
        {
          "output_type": "stream",
          "name": "stdout",
          "text": [
            "Optimization terminated successfully.\n",
            "         Current function value: 0.631347\n",
            "         Iterations 9\n",
            "                           Logit Regression Results                           \n",
            "==============================================================================\n",
            "Dep. Variable:                      y   No. Observations:                  242\n",
            "Model:                          Logit   Df Residuals:                      233\n",
            "Method:                           MLE   Df Model:                            8\n",
            "Date:                Sun, 04 Jun 2023   Pseudo R-squ.:                 0.06237\n",
            "Time:                        20:18:36   Log-Likelihood:                -152.79\n",
            "converged:                       True   LL-Null:                       -162.95\n",
            "Covariance Type:            nonrobust   LLR p-value:                  0.009166\n",
            "=======================================================================================\n",
            "                          coef    std err          z      P>|z|      [0.025      0.975]\n",
            "---------------------------------------------------------------------------------------\n",
            "const                1849.4328    947.993      1.951      0.051      -8.599    3707.465\n",
            "empty_slots            -0.1642      0.159     -1.032      0.302      -0.476       0.148\n",
            "slots                   0.1991      0.159      1.249      0.212      -0.113       0.512\n",
            "free_bikes             -0.1132      0.159     -0.713      0.476      -0.425       0.198\n",
            "latitude              -42.8334     13.822     -3.099      0.002     -69.923     -15.744\n",
            "longitude              -2.1159      5.233     -0.404      0.686     -12.372       8.140\n",
            "location_count         -0.3110      0.216     -1.439      0.150      -0.735       0.113\n",
            "yelp_location_count    -0.0049      0.054     -0.092      0.927      -0.111       0.101\n",
            "yelp_review_count    8.919e-05      0.001      0.154      0.878      -0.001       0.001\n",
            "=======================================================================================\n"
          ]
        }
      ]
    },
    {
      "cell_type": "markdown",
      "source": [
        "* The p-value for the intercept (const) is 0.051. It is slightly higher than the significance level of 0.05, indicating that the intercept's relationship with the log odds of the positive class is borderline statistically significant.\n",
        "* The p-values for empty_slots, slots, free_bikes, longitude, location_count, yelp_location_count, and yelp_review_count are all greater than 0.05. These variables do not show statistical significance in predicting ebikes"
      ],
      "metadata": {
        "id": "vqsArCGwERGp"
      }
    }
  ],
  "metadata": {
    "kernelspec": {
      "display_name": "Python 3",
      "language": "python",
      "name": "python3"
    },
    "language_info": {
      "codemirror_mode": {
        "name": "ipython",
        "version": 3
      },
      "file_extension": ".py",
      "mimetype": "text/x-python",
      "name": "python",
      "nbconvert_exporter": "python",
      "pygments_lexer": "ipython3",
      "version": "3.8.5"
    },
    "colab": {
      "provenance": [],
      "include_colab_link": true
    }
  },
  "nbformat": 4,
  "nbformat_minor": 0
}