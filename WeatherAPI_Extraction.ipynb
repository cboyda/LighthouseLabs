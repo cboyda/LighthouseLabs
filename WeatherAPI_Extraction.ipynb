{
  "nbformat": 4,
  "nbformat_minor": 0,
  "metadata": {
    "colab": {
      "provenance": [],
      "collapsed_sections": [
        "Z3y9RGxiR09H"
      ],
      "authorship_tag": "ABX9TyOUogSHHnUbndxHO3uU1kKu",
      "include_colab_link": true
    },
    "kernelspec": {
      "name": "python3",
      "display_name": "Python 3"
    },
    "language_info": {
      "name": "python"
    }
  },
  "cells": [
    {
      "cell_type": "markdown",
      "metadata": {
        "id": "view-in-github",
        "colab_type": "text"
      },
      "source": [
        "<a href=\"https://colab.research.google.com/github/cboyda/LighthouseLabs/blob/main/WeatherAPI_Extraction.ipynb\" target=\"_parent\"><img src=\"https://colab.research.google.com/assets/colab-badge.svg\" alt=\"Open In Colab\"/></a>"
      ]
    },
    {
      "cell_type": "code",
      "execution_count": null,
      "metadata": {
        "id": "GaDAC9sEGbZh"
      },
      "outputs": [],
      "source": [
        "# how to mount google drive\n",
        "from google.colab import drive\n",
        "drive.mount('/content/drive')"
      ]
    },
    {
      "cell_type": "code",
      "source": [
        "import pandas as pd\n",
        "from datetime import datetime, timedelta, date    # allow modification of json into time format"
      ],
      "metadata": {
        "id": "X5ohgBAcGxZG"
      },
      "execution_count": null,
      "outputs": []
    },
    {
      "cell_type": "markdown",
      "source": [
        "## Weather Functions"
      ],
      "metadata": {
        "id": "Z3y9RGxiR09H"
      }
    },
    {
      "cell_type": "code",
      "source": [
        "def request_weather(start_date,end_date,latitude,longitude,debug = False):\n",
        "  # acceptable formats:\n",
        "  # start_date or end_date = '2019-11-14'\n",
        "  # latitude = 53.05106435177193\n",
        "  # longitude = -114.00032023059188\n",
        "\n",
        "  url = \"http://api.weatherapi.com/v1/history.json?\"\n",
        "\n",
        "  location = str(latitude) + \", \" + str(longitude)\n",
        "  # print(\"GPS location:\",location) if debug else None\n",
        "\n",
        "  querystring = {\n",
        "      'key': weatherapi_key,\n",
        "      'q': location,\n",
        "      'dt': start_date,\n",
        "      'end_dt': end_date,\n",
        "      'lang': 'en'\n",
        "  }\n",
        "  print (\"Querystring is\",querystring) if debug else None\n",
        "\n",
        "  headers = {'Content-Type': 'application/json'}\n",
        "\n",
        "  try:\n",
        "      response = requests.get(url, headers=headers, params=querystring)\n",
        "      error_message = None\n",
        "      status_code = response.status_code\n",
        "      if status_code != 200: # 200 means success\n",
        "          error_message = response.json().get('error', {}).get('message')\n",
        "      return response.json(), status_code, error_message\n",
        "  except ApiException as e:\n",
        "      print(\"Exception when calling WeatherAPI.com->history_weather: %s\\n\" % e)\n",
        "  return None, status_code, error_message"
      ],
      "metadata": {
        "id": "fqzPTwJ7R6X7"
      },
      "execution_count": null,
      "outputs": []
    },
    {
      "cell_type": "code",
      "source": [
        "def daily_json_to_df(df,all_days):\n",
        "  \"\"\"\n",
        "  df is the dataframe we keep adding values to, make sure to initialize prior to calling\n",
        "  all_data is the data you are parsing\n",
        "  \"\"\"\n",
        "  # could have grabbed all fields with pd.json_normalize(json_data['forecast']['forecastday'][0]['day'])\n",
        "  data_rows = []\n",
        "  for weather_day in all_days:\n",
        "      day_data = {\n",
        "          'date': weather_day['date'],\n",
        "          'maxtemp_c': weather_day['day']['maxtemp_c'],\n",
        "          'mintemp_c': weather_day['day']['mintemp_c'],\n",
        "          'avgtemp_c': weather_day['day']['avgtemp_c'],\n",
        "          'maxwind_kph': weather_day['day']['maxwind_kph'],\n",
        "          'totalprecip_mm': weather_day['day']['totalprecip_mm'],\n",
        "          'avgvis_km': weather_day['day']['avgvis_km'],\n",
        "          'avghumidity': weather_day['day']['avghumidity'],\n",
        "          'condition_text': weather_day['day']['condition']['text'],\n",
        "          'condition_icon': weather_day['day']['condition']['icon'],\n",
        "          'condition_code': weather_day['day']['condition']['code'],\n",
        "          'sunrise': weather_day['astro']['sunrise'],\n",
        "          'sunset': weather_day['astro']['sunset'],\n",
        "          'moonrise': weather_day['astro']['moonrise'],\n",
        "          'moonset': weather_day['astro']['moonset'],\n",
        "          'moon_phase': weather_day['astro']['moon_phase'],\n",
        "          'moon_illumination': weather_day['astro']['moon_illumination']\n",
        "      }\n",
        "      data_rows.append(day_data)\n",
        "\n",
        "  return pd.concat([df, pd.DataFrame(data_rows)], ignore_index=True)"
      ],
      "metadata": {
        "id": "BUq_-Cw1ixy-"
      },
      "execution_count": null,
      "outputs": []
    },
    {
      "cell_type": "code",
      "source": [
        "def hourly_json_to_df(df, all_days):\n",
        "    \"\"\"\n",
        "    df is the dataframe we keep adding values to, make sure to initialize prior to calling\n",
        "    all_days is the json data you are parsing\n",
        "    \"\"\"\n",
        "    # could have grabbed all fields with pd.json_normalize(json_data['forecast']['forecastday'][0]['hour'])\n",
        "    data_rows = []\n",
        "    for weather_day in all_days:\n",
        "        for hour_data in weather_day['hour']:\n",
        "            hourly_data = {\n",
        "                'time': hour_data['time'],\n",
        "                'temp_c': hour_data['temp_c'],\n",
        "                'is_day': hour_data['is_day'],\n",
        "                'condition_text': hour_data['condition']['text'],\n",
        "                'condition_icon': hour_data['condition']['icon'],\n",
        "                'condition_code': hour_data['condition']['code'],\n",
        "                'wind_kph': hour_data['wind_kph'],\n",
        "                'wind_degree': hour_data['wind_degree'],\n",
        "                'wind_direction': hour_data['wind_dir'],\n",
        "                'pressure_mb': hour_data['pressure_mb'],\n",
        "                'humidity': hour_data['humidity'],\n",
        "                'cloud': hour_data['cloud'],\n",
        "                'feelslike_c': hour_data['feelslike_c'],\n",
        "                'windchill_c': hour_data['windchill_c'],\n",
        "                'heatindex_c': hour_data['heatindex_c'],\n",
        "                'dewpoint_c': hour_data['dewpoint_c'],\n",
        "                # 'will_it_rain': hour_data['will_it_rain'], # API always returns 0\n",
        "                # 'chance_of_rain': hour_data['chance_of_rain'],\n",
        "                # 'will_it_snow': hour_data['will_it_snow'],\n",
        "                # 'chance_of_snow': hour_data['chance_of_snow'],\n",
        "                'vis_km': hour_data['vis_km'],\n",
        "                'gust_kph': hour_data['gust_kph'],\n",
        "                'uv': hour_data['uv']\n",
        "            }\n",
        "            data_rows.append(hourly_data)\n",
        "\n",
        "    return pd.concat([df, pd.DataFrame(data_rows)], ignore_index=True)"
      ],
      "metadata": {
        "id": "wYjsZWU_k0CN"
      },
      "execution_count": null,
      "outputs": []
    },
    {
      "cell_type": "markdown",
      "source": [
        "## Weather Scraper"
      ],
      "metadata": {
        "id": "zka1LAYER7LF"
      }
    },
    {
      "cell_type": "code",
      "source": [
        "# Historical WeatherAPI.com documenation = https://www.weatherapi.com/docs/#:~:text=Forecast%20API-,History%20API,-Marine%20API\n",
        "# notice that only metric measurements are stored from the API\n",
        "# account was upgraded to go this far back in time\n",
        "\n",
        "# initialize our variables\n",
        "weatherapi_key = \"API TOKEN\"\n",
        "latitude = 53.05106435177193\n",
        "longitude = -114.00032023059188\n",
        "df_daily = pd.DataFrame()\n",
        "df_hourly = pd.DataFrame()\n",
        "\n",
        "# make API call for start_date to end_date\n",
        "start_date = '2019-11-14'\n",
        "end_date = '2023-06-12'\n",
        "max_days = 30 # WeatherAPI max date range\n",
        "\n",
        "# Convert start_date to a datetime object\n",
        "start_date_dt = datetime.strptime(start_date, '%Y-%m-%d')\n",
        "\n",
        "# Format the end_date as a string\n",
        "end_date_dt = datetime.strptime(end_date, '%Y-%m-%d')\n",
        "\n",
        "while start_date_dt < end_date_dt:\n",
        "\n",
        "    days_diff = (end_date_dt - start_date_dt).days\n",
        "\n",
        "    # Initialize next interval\n",
        "    next_date_dt = start_date_dt + timedelta(days=max_days)\n",
        "\n",
        "    # Print the updated start_date and end_date\n",
        "    print(\"Start Date:\", start_date_dt.date())\n",
        "    print(\"Mid Date:\", next_date_dt.date())\n",
        "    print(\"End Date:\", end_date_dt.date())\n",
        "    print(\"Number of days:\", days_diff )\n",
        "\n",
        "    if start_date_dt.date() > date.fromisoformat('2010-01-01'): # check start_date > Jan 1, 2010 for WeatherAPI.com\n",
        "      if days_diff > max_days: # WeatherAPI limit\n",
        "        json_data, response, error_message = request_weather(start_date_dt.strftime('%Y-%m-%d'), next_date_dt.strftime('%Y-%m-%d'), latitude, longitude, True)\n",
        "      else:\n",
        "        json_data, response, error_message = request_weather(start_date_dt.strftime('%Y-%m-%d'), end_date_dt.strftime('%Y-%m-%d'), latitude, longitude, True)\n",
        "\n",
        "    if response != 200:\n",
        "      print(\"API Response:\", response)\n",
        "      print(\"API Error:\", error_message)\n",
        "      start_date_dt = end_date_dt # exit while loop\n",
        "    else:\n",
        "      print(\"Writing Data\")\n",
        "      pastdays = json_data['forecast']['forecastday']\n",
        "      # populate df_daily with summary and astro results for each day\n",
        "      df_daily = daily_json_to_df(df_daily, pastdays)\n",
        "\n",
        "      # populate df_hourly with each column for the 24-hour period for each day\n",
        "      df_hourly = hourly_json_to_df(df_hourly, pastdays)\n",
        "\n",
        "      # save to csv\n",
        "      df_hourly.to_csv('/content/drive/MyDrive/Colab Notebooks/datasets/radar/hourly_weather_api_data.csv', index=False)\n",
        "      df_daily.to_csv('/content/drive/MyDrive/Colab Notebooks/datasets/radar/daily_weather_api_data.csv', index=False)\n",
        "\n",
        "    start_date_dt = next_date_dt"
      ],
      "metadata": {
        "id": "sDaB3i6wExCd"
      },
      "execution_count": null,
      "outputs": []
    }
  ]
}